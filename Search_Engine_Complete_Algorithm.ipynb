{
 "cells": [
  {
   "cell_type": "code",
   "execution_count": 1,
   "metadata": {
    "ExecuteTime": {
     "end_time": "2021-04-30T17:04:42.141375Z",
     "start_time": "2021-04-30T17:04:40.452278Z"
    }
   },
   "outputs": [],
   "source": [
    "# Reference used: https://www.geeksforgeeks.org/tf-idf-for-bigrams-trigrams/\n",
    "# import required packages\n",
    "import nltk \n",
    "import re \n",
    "import math\n",
    "import numpy as np\n",
    "import pandas as pd\n",
    "from sklearn.feature_extraction.text import CountVectorizer, TfidfVectorizer\n",
    "from sklearn.metrics.pairwise import cosine_similarity \n",
    "from sklearn.metrics.pairwise import linear_kernel\n",
    "from sklearn.preprocessing import normalize\n",
    "from sklearn.linear_model import Ridge, LinearRegression\n",
    "from nltk.corpus import stopwords\n",
    "from nltk.tokenize import word_tokenize\n",
    "from nltk.stem import PorterStemmer\n",
    "from nltk.util import ngrams\n",
    "import pandas as pd   \n",
    "import jsonlines\n",
    "import json\n",
    "from tqdm.notebook import tqdm\n",
    "import pickle\n",
    "from scipy.sparse import csr_matrix\n",
    "from difflib import SequenceMatcher\n",
    "from heapq import nlargest as _nlargest"
   ]
  },
  {
   "cell_type": "code",
   "execution_count": 2,
   "metadata": {
    "ExecuteTime": {
     "end_time": "2021-04-30T17:04:42.156546Z",
     "start_time": "2021-04-30T17:04:42.143755Z"
    }
   },
   "outputs": [
    {
     "data": {
      "application/javascript": [
       "if (!(\"Notification\" in window)) {\n",
       "    alert(\"This browser does not support desktop notifications, so the %%notify magic will not work.\");\n",
       "} else if (Notification.permission !== 'granted' && Notification.permission !== 'denied') {\n",
       "    Notification.requestPermission(function (permission) {\n",
       "        if(!('permission' in Notification)) {\n",
       "            Notification.permission = permission;\n",
       "        }\n",
       "    })\n",
       "}\n"
      ],
      "text/plain": [
       "<IPython.core.display.Javascript object>"
      ]
     },
     "metadata": {},
     "output_type": "display_data"
    }
   ],
   "source": [
    "%load_ext jupyternotify"
   ]
  },
  {
   "cell_type": "code",
   "execution_count": 3,
   "metadata": {
    "ExecuteTime": {
     "end_time": "2021-04-30T17:04:42.537350Z",
     "start_time": "2021-04-30T17:04:42.158603Z"
    },
    "scrolled": true
   },
   "outputs": [
    {
     "name": "stderr",
     "output_type": "stream",
     "text": [
      "[nltk_data] Downloading package punkt to\n",
      "[nltk_data]     C:\\Users\\RAGHAV\\AppData\\Roaming\\nltk_data...\n",
      "[nltk_data]   Package punkt is already up-to-date!\n",
      "[nltk_data] Downloading package stopwords to\n",
      "[nltk_data]     C:\\Users\\RAGHAV\\AppData\\Roaming\\nltk_data...\n",
      "[nltk_data]   Package stopwords is already up-to-date!\n"
     ]
    },
    {
     "data": {
      "text/plain": [
       "True"
      ]
     },
     "execution_count": 3,
     "metadata": {},
     "output_type": "execute_result"
    }
   ],
   "source": [
    "# Download nltk requirements\n",
    "nltk.download('punkt')\n",
    "nltk.download('stopwords')"
   ]
  },
  {
   "cell_type": "code",
   "execution_count": 4,
   "metadata": {
    "ExecuteTime": {
     "end_time": "2021-04-30T17:04:45.195086Z",
     "start_time": "2021-04-30T17:04:42.539842Z"
    }
   },
   "outputs": [
    {
     "data": {
      "application/vnd.jupyter.widget-view+json": {
       "model_id": "",
       "version_major": 2,
       "version_minor": 0
      },
      "text/plain": [
       "0it [00:00, ?it/s]"
      ]
     },
     "metadata": {},
     "output_type": "display_data"
    }
   ],
   "source": [
    "documents = [] #stores a list of dictionaries, each dictionary holds all information about a professor\n",
    "prof_names = [] #stores a list of professor names\n",
    "docID = {} # stores an document index to google scholar id mapping\n",
    "userIndex = {} # stores a google scholar id to document index mapping\n",
    "term_total_citations = {} \n",
    "author_term_citations = {}\n",
    "idx = 0\n",
    "with jsonlines.open('data_india_sample.jl') as reader:\n",
    "    for obj in tqdm(reader, leave=False):\n",
    "        if obj['user'] not in userIndex:\n",
    "            documents.append(obj)\n",
    "            prof_names.append(obj['name'])\n",
    "            docID[idx] = obj['user']\n",
    "            userIndex[obj['user']] = idx\n",
    "            author_term_citations[obj['user']] = {}\n",
    "            idx += 1"
   ]
  },
  {
   "cell_type": "code",
   "execution_count": 5,
   "metadata": {
    "ExecuteTime": {
     "end_time": "2021-04-30T17:04:45.202398Z",
     "start_time": "2021-04-30T17:04:45.197344Z"
    }
   },
   "outputs": [],
   "source": [
    "# Code Taken From: https://www.geeksforgeeks.org/tf-idf-for-bigrams-trigrams/\n",
    "# Remove special characters from a string\n",
    "def remove_string_special_characters(s):\n",
    "    # removes special characters with ' '\n",
    "    stripped = re.sub('[^a-zA-z\\s]', ' ', s)\n",
    "#     print(stripped)\n",
    "    stripped = re.sub('_', ' ', stripped)\n",
    "      \n",
    "    # Change any white space to one space\n",
    "    stripped = re.sub('\\s+', ' ', stripped)\n",
    "      \n",
    "    # Remove start and end white spaces\n",
    "    stripped = stripped.strip()\n",
    "    if stripped != '':\n",
    "            return stripped.lower()"
   ]
  },
  {
   "cell_type": "code",
   "execution_count": 6,
   "metadata": {
    "ExecuteTime": {
     "end_time": "2021-04-30T17:04:45.208682Z",
     "start_time": "2021-04-30T17:04:45.204707Z"
    }
   },
   "outputs": [],
   "source": [
    "# Code Reference: https://www.geeksforgeeks.org/python-stemming-words-with-nltk/\n",
    "# Converts all words to their stem/root form\n",
    "def stem_string(sentence):\n",
    "    ps = PorterStemmer()\n",
    "    \n",
    "    words = word_tokenize(sentence)\n",
    "    words = [ps.stem(word) for word in words]\n",
    "    return \" \".join(words)"
   ]
  },
  {
   "cell_type": "code",
   "execution_count": 7,
   "metadata": {
    "ExecuteTime": {
     "end_time": "2021-04-30T17:04:45.216382Z",
     "start_time": "2021-04-30T17:04:45.212110Z"
    }
   },
   "outputs": [],
   "source": [
    "# Removes stop words \n",
    "def remove_stop_words(sentence):\n",
    "    stop_words = set(stopwords.words('english'))\n",
    "    words = word_tokenize(sentence)\n",
    "    words = [word for word in words if word not in stop_words]\n",
    "    return \" \".join(words)"
   ]
  },
  {
   "cell_type": "code",
   "execution_count": 8,
   "metadata": {
    "ExecuteTime": {
     "end_time": "2021-04-30T17:04:45.223644Z",
     "start_time": "2021-04-30T17:04:45.219513Z"
    }
   },
   "outputs": [],
   "source": [
    "# Processes the string\n",
    "def process_string(sentence):\n",
    "    sentence = remove_string_special_characters(sentence)\n",
    "    sentence = stem_string(sentence)\n",
    "    sentence = remove_stop_words(sentence)\n",
    "    return sentence"
   ]
  },
  {
   "cell_type": "code",
   "execution_count": null,
   "metadata": {},
   "outputs": [],
   "source": []
  },
  {
   "cell_type": "code",
   "execution_count": null,
   "metadata": {},
   "outputs": [],
   "source": []
  },
  {
   "cell_type": "code",
   "execution_count": 9,
   "metadata": {
    "ExecuteTime": {
     "end_time": "2021-04-30T17:04:45.233207Z",
     "start_time": "2021-04-30T17:04:45.226237Z"
    }
   },
   "outputs": [],
   "source": [
    "# updates the no. of citations of a term for a professor as well as the total no. of citations of the term\n",
    "def update_term_citations(document, sentence, numCitations, userID):\n",
    "    sentence = sentence.lower()\n",
    "    sentence = re.sub(r'[^a-zA-Z0-9\\s]', ' ', sentence)\n",
    "    tokens = [token for token in sentence.split(\" \") if token != \"\"]\n",
    "    for n in range(1, 5):\n",
    "        seen_ngms = []\n",
    "        ngms = list(ngrams(tokens, n))\n",
    "        for ngm in ngms:\n",
    "            gm = \" \".join(ngm)\n",
    "            if gm in seen_ngms:\n",
    "                continue\n",
    "            seen_ngms.append(gm)\n",
    "            if gm in author_term_citations[userID]:\n",
    "                author_term_citations[userID][gm] += numCitations\n",
    "            else:\n",
    "                author_term_citations[userID][gm] = numCitations\n",
    "            if gm in term_total_citations:\n",
    "                term_total_citations[gm] += numCitations\n",
    "            else:\n",
    "                term_total_citations[gm] = numCitations + 1"
   ]
  },
  {
   "cell_type": "code",
   "execution_count": 10,
   "metadata": {
    "ExecuteTime": {
     "end_time": "2021-04-30T17:05:05.626758Z",
     "start_time": "2021-04-30T17:04:45.235520Z"
    }
   },
   "outputs": [
    {
     "data": {
      "application/vnd.jupyter.widget-view+json": {
       "model_id": "",
       "version_major": 2,
       "version_minor": 0
      },
      "text/plain": [
       "  0%|          | 0/994 [00:00<?, ?it/s]"
      ]
     },
     "metadata": {},
     "output_type": "display_data"
    }
   ],
   "source": [
    "word_documents = []\n",
    "for document in tqdm(documents, leave=False):\n",
    "    sentences = []\n",
    "    for subject in document['subjects']:\n",
    "        sentence = process_string(subject)\n",
    "        sentences.append(sentence)\n",
    "        # update term citations using n-grams generated from subject of expertise\n",
    "        update_term_citations(document, sentence, int(document['citationsAll']), document['user'])\n",
    "    for paper in document['papers']:\n",
    "        try:\n",
    "            sentence = paper['title'] + \" \" + paper['conference']\n",
    "            sentence = process_string(sentence)\n",
    "        except: \n",
    "            continue\n",
    "        # update term citations using n-grams generated by combining paper name and conference\n",
    "        update_term_citations(document, sentence, paper['citations'], document['user'])\n",
    "        sentences.append(sentence)\n",
    "\n",
    "    word_documents.append(\".\\n\".join(sentences))"
   ]
  },
  {
   "cell_type": "code",
   "execution_count": null,
   "metadata": {},
   "outputs": [],
   "source": []
  },
  {
   "cell_type": "markdown",
   "metadata": {},
   "source": [
    "## TF-IDF Matrix"
   ]
  },
  {
   "cell_type": "code",
   "execution_count": 11,
   "metadata": {
    "ExecuteTime": {
     "end_time": "2021-04-30T17:05:05.663817Z",
     "start_time": "2021-04-30T17:04:41.680Z"
    }
   },
   "outputs": [
    {
     "data": {
      "application/vnd.jupyter.widget-view+json": {
       "model_id": "",
       "version_major": 2,
       "version_minor": 0
      },
      "text/plain": [
       "  0%|          | 0/994 [00:00<?, ?it/s]"
      ]
     },
     "metadata": {},
     "output_type": "display_data"
    }
   ],
   "source": [
    "vectorizer = TfidfVectorizer(stop_words='english', ngram_range=(1,4), analyzer='word')\n",
    "tfidf_matrix = vectorizer.fit_transform(word_documents) \n",
    "features = (vectorizer.get_feature_names())\n",
    "idf_scores = vectorizer.idf_\n",
    "\n",
    "cnt_vct = CountVectorizer(stop_words='english', ngram_range=(1,4), analyzer='word')\n",
    "cnt_matrix = cnt_vct.fit_transform(word_documents)\n",
    "cnt_features = cnt_vct.get_feature_names()\n",
    "\n",
    "idf_scores = csr_matrix(idf_scores)\n",
    "\n",
    "# tfidf_new_matrix is the required matrix\n",
    "tfidf_new_matrix = csr_matrix.copy(csr_matrix.astype(cnt_matrix, dtype=np.float64))\n",
    "for row in tqdm(range(cnt_matrix.shape[0]), leave=False):\n",
    "    tfidf_new_matrix[row] = tfidf_new_matrix[row].multiply(idf_scores)"
   ]
  },
  {
   "cell_type": "markdown",
   "metadata": {
    "ExecuteTime": {
     "start_time": "2021-04-30T16:29:13.483Z"
    }
   },
   "source": [
    "### Modified TF-IDF, Multiply the Citations Log Factor"
   ]
  },
  {
   "cell_type": "code",
   "execution_count": 12,
   "metadata": {
    "ExecuteTime": {
     "end_time": "2021-04-30T17:05:05.667093Z",
     "start_time": "2021-04-30T17:04:41.683Z"
    }
   },
   "outputs": [
    {
     "data": {
      "application/vnd.jupyter.widget-view+json": {
       "model_id": "",
       "version_major": 2,
       "version_minor": 0
      },
      "text/plain": [
       "  0%|          | 0/994 [00:00<?, ?it/s]"
      ]
     },
     "metadata": {},
     "output_type": "display_data"
    }
   ],
   "source": [
    "# Scaling the original tf-idf weights based on subjects of expertise and citation counts of papers\n",
    "feature_idx = {}\n",
    "for idx, feature in enumerate(cnt_features):\n",
    "    feature_idx[feature] = idx\n",
    "\n",
    "for author, author_dict in tqdm(author_term_citations.items(), leave=False):\n",
    "    for term, term_citations in author_dict.items():\n",
    "        if term in feature_idx:\n",
    "            term_idx = feature_idx[term]\n",
    "            author_idx = userIndex[author]\n",
    "            if tfidf_new_matrix[author_idx, term_idx]:\n",
    "                log_factor = math.log( 1 + (term_citations / term_total_citations[term]) , 2)\n",
    "                tfidf_new_matrix[author_idx, term_idx] *= log_factor"
   ]
  },
  {
   "cell_type": "code",
   "execution_count": null,
   "metadata": {},
   "outputs": [],
   "source": []
  },
  {
   "cell_type": "markdown",
   "metadata": {},
   "source": [
    "# Activeness "
   ]
  },
  {
   "cell_type": "code",
   "execution_count": 13,
   "metadata": {
    "ExecuteTime": {
     "end_time": "2021-04-30T17:05:05.668843Z",
     "start_time": "2021-04-30T17:04:41.685Z"
    }
   },
   "outputs": [
    {
     "data": {
      "application/vnd.jupyter.widget-view+json": {
       "model_id": "",
       "version_major": 2,
       "version_minor": 0
      },
      "text/plain": [
       "  0%|          | 0/994 [00:00<?, ?it/s]"
      ]
     },
     "metadata": {},
     "output_type": "display_data"
    }
   ],
   "source": [
    "maxrng=20\n",
    "minyr,maxyr=2001,2020\n",
    "\n",
    "# mat_activeness is the required matrix\n",
    "# rows denote the professors \n",
    "# column1 stores total citations on papers in year 2020, \n",
    "# column2 stores total citations on papers in year 2020 and 2019, and so on ...\n",
    "mat_activeness = np.zeros((len(documents),maxrng))\n",
    "\n",
    "ind=0\n",
    "for document in tqdm(documents, leave=False):\n",
    "    papers=document['papers']\n",
    "    for paper in papers:\n",
    "        paperyr=paper['year']\n",
    "        if paperyr>=minyr and paperyr<=maxyr:\n",
    "            dis=maxyr-paperyr\n",
    "            mat_activeness[ind,dis]+=paper['citations']\n",
    "    ind+=1\n",
    "\n",
    "ind=0\n",
    "for i in range(mat_activeness.shape[0]):\n",
    "    for j in range(mat_activeness.shape[1]):\n",
    "        if j>0:\n",
    "            mat_activeness[i,j]+=mat_activeness[i,j-1]\n",
    "            "
   ]
  },
  {
   "cell_type": "code",
   "execution_count": null,
   "metadata": {},
   "outputs": [],
   "source": []
  },
  {
   "cell_type": "markdown",
   "metadata": {},
   "source": [
    "## Slope, Hindex, Institute Reputation"
   ]
  },
  {
   "cell_type": "code",
   "execution_count": 14,
   "metadata": {},
   "outputs": [],
   "source": [
    "\n",
    "# Calculate slope given a training set using Linear Regression \n",
    "def slope_calc(x,y):\n",
    "    x,y = np.array(x),np.array(y)\n",
    "    n=y.size\n",
    "    clf = LinearRegression(fit_intercept=False)\n",
    "    x = np.concatenate([np.ones((n,1)),x.reshape(-1,1)],axis=1)\n",
    "#     print(xinds)\n",
    "    clf.fit(x,y)\n",
    "    return clf.coef_[1]\n",
    "\n",
    "# Returns the ranks of each institute in the list\n",
    "def get_insti_ranks():\n",
    "    files = [\"india_institutes.txt\", \"britain_institutes.txt\", \"america_institutes.txt\"]\n",
    "    insti_score = dict()\n",
    "    for file in files:\n",
    "        path = \"web_data/\"+file\n",
    "        with open(path,\"r\") as f:\n",
    "            insti = f.readlines()\n",
    "            instinew=[]\n",
    "            for institute in insti:\n",
    "                instinew.append(institute.strip())\n",
    "            insti = list(filter(lambda x:x!='\\n',instinew))\n",
    "            n = len(insti)\n",
    "            maxrank, minrank = 100,1\n",
    "            diff = (maxrank-minrank)/(n-1)\n",
    "            cur=maxrank\n",
    "            for institute in insti:\n",
    "                insti_score[institute] = cur\n",
    "                cur-=diff\n",
    "    return insti_score\n"
   ]
  },
  {
   "cell_type": "code",
   "execution_count": 15,
   "metadata": {
    "ExecuteTime": {
     "end_time": "2021-04-30T17:05:05.671164Z",
     "start_time": "2021-04-30T17:04:41.688Z"
    }
   },
   "outputs": [
    {
     "data": {
      "application/vnd.jupyter.widget-view+json": {
       "model_id": "",
       "version_major": 2,
       "version_minor": 0
      },
      "text/plain": [
       "  0%|          | 0/994 [00:00<?, ?it/s]"
      ]
     },
     "metadata": {},
     "output_type": "display_data"
    },
    {
     "data": {
      "application/vnd.jupyter.widget-view+json": {
       "model_id": "",
       "version_major": 2,
       "version_minor": 0
      },
      "text/plain": [
       "  0%|          | 0/994 [00:00<?, ?it/s]"
      ]
     },
     "metadata": {},
     "output_type": "display_data"
    },
    {
     "data": {
      "application/vnd.jupyter.widget-view+json": {
       "model_id": "",
       "version_major": 2,
       "version_minor": 0
      },
      "text/plain": [
       "  0%|          | 0/994 [00:00<?, ?it/s]"
      ]
     },
     "metadata": {},
     "output_type": "display_data"
    }
   ],
   "source": [
    "# ranking_metrics is the required matrix\n",
    "# # rows denote the professors \n",
    "# column1 contains the slope of citations of the professor\n",
    "# column2 contains the h-index of the professor\n",
    "# column1 contains the institute reputation of the professor\n",
    "ranking_metrics = np.zeros((len(documents),3))\n",
    "\n",
    "# Compute and store slope of citations in ranking_metrics\n",
    "ind=0\n",
    "for document in tqdm(documents, leave=False):\n",
    "    cits=[]\n",
    "    years=[]\n",
    "    for entry in document['yearCitations']:\n",
    "        dictx = json.loads(entry)\n",
    "        if dictx['year']<=2020:\n",
    "            cits.append(dictx['citations'])\n",
    "            years.append(dictx['year'])\n",
    "    if len(years)<=5:\n",
    "        ranking_metrics[ind,0]=0\n",
    "    else:    \n",
    "        ranking_metrics[ind,0]=slope_calc(years,cits)\n",
    "    ind+=1           \n",
    "min_slope =  np.min(ranking_metrics[:,0])\n",
    "if min_slope<0:\n",
    "    for i in range(ranking_metrics.shape[0]):\n",
    "        ranking_metrics[i,0]+=min_slope\n",
    "    \n",
    "# Compute and store h-index in ranking_metrics\n",
    "ind=0\n",
    "for document in tqdm(documents, leave=False):\n",
    "    ranking_metrics[ind,1]=document[\"h-indexAll\"]\n",
    "    ind+=1\n",
    "                                                                        \n",
    "# Compute and store institute reputation in ranking_metrics\n",
    "insti_ranks = get_insti_ranks()\n",
    "ind=0\n",
    "for document in tqdm(documents, leave=False):\n",
    "    ranking_metrics[ind,2] = insti_ranks[document['institute']]\n",
    "    ind+=1                               "
   ]
  },
  {
   "cell_type": "code",
   "execution_count": null,
   "metadata": {},
   "outputs": [],
   "source": []
  },
  {
   "cell_type": "markdown",
   "metadata": {},
   "source": [
    "## Pickle the Matrix and Vectorizer \n",
    "#### (storing the computed matrices for efficient computation while querying)"
   ]
  },
  {
   "cell_type": "code",
   "execution_count": 16,
   "metadata": {
    "ExecuteTime": {
     "end_time": "2021-04-30T17:05:05.677360Z",
     "start_time": "2021-04-30T17:04:41.694Z"
    }
   },
   "outputs": [],
   "source": [
    "pickle.dump(cnt_vct, open(\"web_data/count_vectorizer.pkl\", \"wb\"))\n",
    "pickle.dump(tfidf_new_matrix, open(\"web_data/tfidf_new_matrix.pkl\", \"wb\"))\n",
    "pickle.dump(docID, open(\"web_data/doc_id_dict.pkl\", \"wb\"))\n",
    "pickle.dump(mat_activeness, open(\"web_data/mat_activeness.pkl\", \"wb\"))\n",
    "pickle.dump(ranking_metrics, open(\"web_data/ranking_metrics.pkl\", \"wb\"))\n",
    "pickle.dump(documents, open(\"web_data/documents.pkl\", \"wb\"))\n",
    "pickle.dump(prof_names, open(\"web_data/prof_names.pkl\", \"wb\"))"
   ]
  },
  {
   "cell_type": "code",
   "execution_count": null,
   "metadata": {},
   "outputs": [],
   "source": []
  },
  {
   "cell_type": "code",
   "execution_count": null,
   "metadata": {},
   "outputs": [],
   "source": []
  },
  {
   "cell_type": "markdown",
   "metadata": {},
   "source": [
    "### Subject Query"
   ]
  },
  {
   "cell_type": "code",
   "execution_count": 17,
   "metadata": {},
   "outputs": [],
   "source": [
    "# Load the stored matrices during time of querying\n",
    "loaded_cnt_vct = pickle.load(open(\"web_data/count_vectorizer.pkl\", \"rb\"))\n",
    "loaded_tfidf_new_matrix = pickle.load(open(\"web_data/tfidf_new_matrix.pkl\", \"rb\"))\n",
    "loaded_docID = pickle.load(open(\"web_data/doc_id_dict.pkl\", \"rb\"))\n",
    "loaded_mat_activeness = pickle.load(open(\"web_data/mat_activeness.pkl\", \"rb\"))\n",
    "loaded_ranking_metrics = pickle.load(open(\"web_data/ranking_metrics.pkl\", \"rb\"))\n",
    "loaded_documents = pickle.load(open(\"web_data/documents.pkl\", \"rb\"))\n",
    "loaded_prof_names = pickle.load(open(\"web_data/prof_names.pkl\", \"rb\"))"
   ]
  },
  {
   "cell_type": "code",
   "execution_count": 18,
   "metadata": {},
   "outputs": [],
   "source": [
    "# Returns tf-idf score vector\n",
    "def get_tf_idf_vec(query):\n",
    "    query = process_string(query)\n",
    "    cnt_matrix_query = loaded_cnt_vct.transform([query])\n",
    "    cnt_matrix_query = csr_matrix.transpose(cnt_matrix_query)\n",
    "\n",
    "    result = loaded_tfidf_new_matrix * cnt_matrix_query\n",
    "    result = csr_matrix.transpose(result)\n",
    "    result = result.toarray()[0]\n",
    "    \n",
    "    return result\n",
    "\n",
    "# Returns activeness score vector\n",
    "def get_active_vec(year):\n",
    "    col = year-1\n",
    "    citations = loaded_mat_activeness[:,col].squeeze()\n",
    "    return citations\n",
    "\n",
    "# Returns slope of citations score vector\n",
    "def get_slope_vec():\n",
    "    return loaded_ranking_metrics[:,0].squeeze()\n",
    "\n",
    "# Returns h-index score vector\n",
    "def get_hindex_vec():\n",
    "    return loaded_ranking_metrics[:,1].squeeze()\n",
    "\n",
    "# Returns institute reputation score vector\n",
    "def get_insti_vec():\n",
    "    return loaded_ranking_metrics[:,2].squeeze()\n",
    "\n",
    "# Normalises vector\n",
    "def normalise(x):\n",
    "    return x/np.linalg.norm(x)\n",
    "\n",
    "# Return result of a subject query\n",
    "def query_subject(user_input):\n",
    "    \n",
    "    #parameters\n",
    "    params = ['tfidf', 'active', 'slope', 'hindex', 'insti']\n",
    "    ranks={}\n",
    "    for param in params:\n",
    "        ranks[param]={}\n",
    "    \n",
    "    #set weight factors\n",
    "    ranks['tfidf']['wt'] = user_input['tfidf_score']\n",
    "    ranks['active']['wt'] = user_input['active_score']\n",
    "    ranks['hindex']['wt'] = user_input['hindex_score']\n",
    "    ranks['slope']['wt'] = user_input['slope_score']\n",
    "    ranks['insti']['wt'] = user_input['insti_score']\n",
    "    \n",
    "    #scale up \n",
    "    total_user_input_wt = 0\n",
    "    for key,val in ranks.items():\n",
    "        total_user_input_wt += val['wt']\n",
    "    factor = 100/total_user_input_wt\n",
    "    for key,val in ranks.items():\n",
    "        val['wt'] *= factor\n",
    "    \n",
    "#     print(ranks)\n",
    "    \n",
    "    #tf-idf\n",
    "    ranks['tfidf']['vec'] = normalise(get_tf_idf_vec(user_input['query_string']))\n",
    "#     print(ranks['tfidf']['vec'].shape)\n",
    "    \n",
    "    #activeness\n",
    "    ranks['active']['vec'] = normalise(get_active_vec(user_input['active_yr']))\n",
    "#     print(ranks['active']['vec'].shape)\n",
    "    \n",
    "    #slope of citations\n",
    "    ranks['slope']['vec'] = normalise(get_slope_vec())\n",
    "    \n",
    "    #h-index\n",
    "    ranks['hindex']['vec'] = normalise(get_hindex_vec())\n",
    "    \n",
    "    #institute reputation\n",
    "    ranks['insti']['vec'] = normalise(get_insti_vec())\n",
    "    \n",
    "#     print(ranks['active']['vec'])\n",
    "    \n",
    "    #final score\n",
    "    final_sc = np.zeros(ranks['tfidf']['vec'].size)\n",
    "    for key,val in ranks.items():\n",
    "        final_sc += val['wt']*val['vec']\n",
    "        \n",
    "    indices = final_sc.argsort()\n",
    "    indices = indices[::-1]\n",
    "    profs = [(i,loaded_documents[i],loaded_docID[i],final_sc[i]) for i in indices]\n",
    "    metrics = []\n",
    "    for ind in indices:\n",
    "        metrics.append([ind,\n",
    "                        ranks['tfidf']['vec'][ind],\n",
    "                        ranks['active']['vec'][ind],\n",
    "                        ranks['slope']['vec'][ind],\n",
    "                       ranks['hindex']['vec'][ind],\n",
    "                        ranks['insti']['vec'][ind],\n",
    "                       ])\n",
    "        \n",
    "    return profs, metrics"
   ]
  },
  {
   "cell_type": "code",
   "execution_count": 19,
   "metadata": {},
   "outputs": [
    {
     "name": "stdout",
     "output_type": "stream",
     "text": [
      "['0MNT3h8AAAAJ', 'hPvt6d8AAAAJ', 'a2Wgu0EAAAAJ', 'HTVepekAAAAJ', '1TgzFksAAAAJ', '3RND6lUAAAAJ', 'inrwXiIAAAAJ', 'cVdB1iwAAAAJ', 'mJIUC0UAAAAJ', 'leKXwz4AAAAJ', '3gHKDo4AAAAJ', 'VhoipoUAAAAJ', '3jc0vZsAAAAJ', 'N2O8hI4AAAAJ', 'slAHcFIAAAAJ', 'bwZHQ8EAAAAJ', '2PDhWl0AAAAJ', '7k6tzDAAAAAJ', 'sIQDguEAAAAJ', 'mb1pZXIAAAAJ', 'cv7Xbu8AAAAJ', 'H85F5q8AAAAJ', 'h55vyUQAAAAJ', '7D4ts0YAAAAJ', 'rNeidT4AAAAJ', 'X5Bjw-wAAAAJ', 'Rln7jKAAAAAJ', 'zlyCnPsAAAAJ', 'stMEHeUAAAAJ', '8mGCr2oAAAAJ', 'qXQPkuEAAAAJ', 'DGNTCYEAAAAJ', 'enGoLCQAAAAJ', '5EtPkJoAAAAJ', '1y6Z-ckAAAAJ', 'B_oQnccAAAAJ', '-875CKoAAAAJ', '8g3TkDAAAAAJ', 'qCzk-pYAAAAJ', 'dIypbs4AAAAJ', 'YGAmZF4AAAAJ', 'K834eKgAAAAJ', 'ppEhO9YAAAAJ', 'verRbuoAAAAJ', 'S8cDuZ4AAAAJ', '11MDgP4AAAAJ', 'cWcqrncAAAAJ', 'qvckJGkAAAAJ', 'CU5RlLYAAAAJ', '0u7mV4cAAAAJ', 'U1H8JZEAAAAJ', '_TpoQ08AAAAJ', 'mEs0PmoAAAAJ', 'sphOH2IAAAAJ', '3WEQbgMAAAAJ', 'R7pbH9YAAAAJ', '_GVZlQ4AAAAJ', 'QJNq4-YAAAAJ', 'cTkda4oAAAAJ', 'zYs3TaAAAAAJ', 'UerEKpIAAAAJ', 'bzOdHtwAAAAJ', 'mDMBpDEAAAAJ', 'wGNrpD4AAAAJ', 'q-_jk8wAAAAJ', 'hMywgWUAAAAJ', 'sEoRaxQAAAAJ', 'QM9qltUAAAAJ', 'subvPdQAAAAJ', 'Cd_tFkUAAAAJ', 'H7jzu-QAAAAJ', '5h2LnBcAAAAJ', 'pLE4PTYAAAAJ', 'FVTyjCAAAAAJ', 'BafR46oAAAAJ', 'OSdXHS8AAAAJ', '-k5OiuwAAAAJ', 'u86drLgAAAAJ', 'EWG-qssAAAAJ', 'CWCHSmoAAAAJ', '5XqbBqEAAAAJ', '8qiTzY0AAAAJ', 'Go68I-cAAAAJ', '2O4MQ-kAAAAJ', '2yRcKGgAAAAJ', '37CNdWQAAAAJ', 'khY76cYAAAAJ', '2NOoOgsAAAAJ', 'asu9hvIAAAAJ', 'ZitY-ZgAAAAJ', 'xBen0NcAAAAJ', 'f0lk958AAAAJ', '1YLbgQ4AAAAJ', 'eE0Le_sAAAAJ', 'Ihcdv4UAAAAJ', '5y5Uev4AAAAJ', 'KA5t_VQAAAAJ', 'HBGr9_0AAAAJ', 'epuogiEAAAAJ', '1BuQRewAAAAJ']\n"
     ]
    }
   ],
   "source": [
    "# query object\n",
    "input_obj = dict()\n",
    "input_obj['query_string'] = 'machine learning'\n",
    "input_obj['active_yr'] = 5\n",
    "input_obj['tfidf_score'] = 1\n",
    "input_obj['active_score'] = 0\n",
    "input_obj['hindex_score'] = 0\n",
    "input_obj['slope_score'] = 0\n",
    "input_obj['insti_score'] = 10\n",
    "\n",
    "# Prints google scholar ids of top 100 professors for the subject query\n",
    "profs, _ = query_subject(input_obj)\n",
    "top_100=[]\n",
    "cnt=0\n",
    "while cnt<100:\n",
    "    top_100.append(profs[cnt][2])\n",
    "    cnt+=1\n",
    "print(top_100)"
   ]
  },
  {
   "cell_type": "code",
   "execution_count": null,
   "metadata": {},
   "outputs": [],
   "source": []
  },
  {
   "cell_type": "code",
   "execution_count": null,
   "metadata": {},
   "outputs": [],
   "source": []
  },
  {
   "cell_type": "markdown",
   "metadata": {},
   "source": [
    "### Name Query"
   ]
  },
  {
   "cell_type": "code",
   "execution_count": 24,
   "metadata": {
    "scrolled": true
   },
   "outputs": [
    {
     "name": "stdout",
     "output_type": "stream",
     "text": [
      "[('D Ravindran', {'country': 'india', 'org': '11063218275477151870', 'institute': 'Thiagarajar College of Engineering Madurai', 'name': 'D Ravindran', 'user': 'Kd7yUP4AAAAJ', 'homepage': 'Not Found', 'scholarPage': 'https://scholar.google.co.in/citations?user=Kd7yUP4AAAAJ&hl=en', 'imgLink': 'https://scholar.google.co.in/citations/images/avatar_scholar_128.png', 'verifiedEmail': True, 'subjects': ['Polymer composites', 'Polymer electrolytes', 'nano materials', 'natural fiber reinforced polymer composites'], 'yearCitations': ['{\"year\": 1995, \"citations\": 1}', '{\"year\": 1996, \"citations\": 2}', '{\"year\": 1997, \"citations\": 1}', '{\"year\": 1998, \"citations\": 0}', '{\"year\": 1999, \"citations\": 0}', '{\"year\": 2000, \"citations\": 0}', '{\"year\": 2001, \"citations\": 0}', '{\"year\": 2002, \"citations\": 0}', '{\"year\": 2003, \"citations\": 0}', '{\"year\": 2004, \"citations\": 0}', '{\"year\": 2005, \"citations\": 1}', '{\"year\": 2006, \"citations\": 0}', '{\"year\": 2007, \"citations\": 0}', '{\"year\": 2008, \"citations\": 0}', '{\"year\": 2009, \"citations\": 0}', '{\"year\": 2010, \"citations\": 0}', '{\"year\": 2011, \"citations\": 0}', '{\"year\": 2012, \"citations\": 0}', '{\"year\": 2013, \"citations\": 2}', '{\"year\": 2014, \"citations\": 6}', '{\"year\": 2015, \"citations\": 1}', '{\"year\": 2016, \"citations\": 19}', '{\"year\": 2017, \"citations\": 15}', '{\"year\": 2018, \"citations\": 14}', '{\"year\": 2019, \"citations\": 5}', '{\"year\": 2020, \"citations\": 10}', '{\"year\": 2021, \"citations\": 2}'], 'citationsAll': '79', 'citations2016': '65', 'h-indexAll': '5', 'h-index2016': '3', 'i10-indexAll': '3', 'i10-index2016': '2', 'papers': [{'title': 'Mechanical properties of nano titanium oxide particles-hybrid jute-glass FRP composites', 'authors': 'G Seshanandan, D Ravindran, T Sornakumar', 'conference': 'Materials Today: Proceedings 3 (6), 1383-1388', 'citations': 38, 'year': 2016}, {'title': 'Studies on Effect of Nano TiO2 Ceramic Fillers of Polymer Matrix Composites', 'authors': 'T Sornakumar, D Ravindran, G Seshanandan', 'conference': 'International Journal of ChemTech Research 7 (2)', 'citations': 14, 'year': 2015}, {'title': 'XRD, Conductivity studies on PVA-PEG blend based Mg2+ ion conducting polymer electrolytes', 'authors': 'D Ravindran, P Vickraman', 'conference': 'International Journal of Science and Engineering Applications 1 (1), 72-74', 'citations': 10, 'year': 2012}, {'title': 'Mg 2+-Ionic Conductivity Behavior of Mixed Salt System in PVA-PEG Blend Matrix', 'authors': 'D Ravindran, P Vickraman', 'conference': None, 'citations': 5, 'year': 2012}, {'title': 'Investigation on compositional effect of PEG:BaTiO', 'authors': 'P Vickraman, D Ravindran', 'conference': 'Ionics 17 (6), 565-571', 'citations': 5, 'year': 2011}, {'title': 'Intermittency Patterns in Proton-Nucleus Interactions at High Energy', 'authors': 'DK Maity, PK Banerjee, BB Das, D Ravindran, DK Bhattacharjee', 'conference': 'Modern Physics Letters A 8 (40), 3853-3859', 'citations': 5, 'year': 1993}, {'title': 'Effect of nano CuO on the ionic conductivity of PVC-PEG blend polymer electrolytes', 'authors': 'D Ravindran, P Vickraman', 'conference': 'AIP Conference Proceedings 1536 (1), 153-154', 'citations': 1, 'year': 2013}, {'title': 'Ionic Conductivity Studies on Nano ZnO Incorporated PVC-PEG Blend Based Polymer Composite Electrolytes', 'authors': 'D Ravindran, P Vickraman', 'conference': 'Asian Journal of Chemistry 25 (Supplementary Issue), S117', 'citations': 1, 'year': 2013}, {'title': 'Influence of Al', 'authors': 'D Ravindran, P Vickraman', 'conference': 'AIP Conference Proceedings 1731 (1), 050138', 'citations': 0, 'year': 2016}, {'title': 'Conductivity, thermal and morphological properties of nano MgO dispersed PVC-PEG polymer composite electrolytes', 'authors': 'D Ravindran, P Vickraman', 'conference': 'JOURNAL OF THE INDIAN CHEMICAL SOCIETY 92 (5), 645-648', 'citations': 0, 'year': 2015}, {'title': 'Influence of porous structure on the ionic conductivity of nano ZnO incorporated PVC-PEG polymer nanocomposite electrolytes', 'authors': 'D Ravindran, P Vickraman', 'conference': 'JOURNAL OF THE INDIAN CHEMICAL SOCIETY 92 (5), 683-686', 'citations': 0, 'year': 2015}, {'title': 'Effect of Nano Aluminum Oxide Fillers on the Properties of FRP Polymer Matrix Composites', 'authors': 'G Seshanandan, D Ravindran, T Sornakumar', 'conference': 'Applied Mechanics and Materials 787, 612-616', 'citations': 0, 'year': 2015}, {'title': 'Ionic Conductivity Studies on Nano CuO Dispersed Phase-Separated Polymer Electrolytes', 'authors': 'D RAVINDRAN, P VICKRAMAN', 'conference': 'Chemical Science 4 (2), 373-376', 'citations': 0, 'year': 2015}, {'title': 'Conductivity Studies on Nano ZnO Incorporated PVC-PVdF Gel Electrolytes for Li+ Ion Battery Application', 'authors': 'D Ravindran, P Vickraman, N Sankarasubramanian', 'conference': 'Applied Mechanics and Materials 787, 563-567', 'citations': 0, 'year': 2015}, {'title': 'Development of Rice Husk and Wood Dust Filler Based Polyester Resin Based Composites', 'authors': 'D Ravindran, T Sornakumar, P Sankar, K Janarthan', 'conference': 'Applied Mechanics and Materials 787, 607-611', 'citations': 0, 'year': 2015}, {'title': 'Investigation on effect of weight ratios of PEG to ', 'authors': 'P Vickraman, D Ravindran', 'conference': 'AIP Conference Proceedings 1536 (1), 19-20', 'citations': 0, 'year': 2013}]}), ('Arvind Jain', {'country': 'india', 'org': '10153116334818526581', 'institute': 'National Institute of Technology Agartala', 'name': 'Arvind Jain', 'user': 'SX_b4ZoAAAAJ', 'homepage': 'Not Found', 'scholarPage': 'https://scholar.google.co.in/citations?user=SX_b4ZoAAAAJ&hl=en', 'imgLink': 'https://scholar.google.co.in/citations/images/avatar_scholar_128.png', 'verifiedEmail': True, 'subjects': ['Electrical engineering'], 'yearCitations': ['{\"year\": 2011, \"citations\": 1}', '{\"year\": 2012, \"citations\": 0}', '{\"year\": 2013, \"citations\": 1}', '{\"year\": 2014, \"citations\": 0}', '{\"year\": 2015, \"citations\": 0}', '{\"year\": 2016, \"citations\": 0}', '{\"year\": 2017, \"citations\": 1}', '{\"year\": 2018, \"citations\": 1}', '{\"year\": 2019, \"citations\": 5}', '{\"year\": 2020, \"citations\": 4}'], 'citationsAll': '13', 'citations2016': '11', 'h-indexAll': '3', 'h-index2016': '3', 'i10-indexAll': '0', 'i10-index2016': '0', 'papers': [{'title': 'Optimal Bidding Strategy under Transmission Congestion using Genetic Algorithm.', 'authors': 'A Jain, SC Srivastava', 'conference': 'GEM, 88-94', 'citations': 5, 'year': 2007}, {'title': 'Price responsive demand management of an industrial buyer in day-ahead electricity market', 'authors': 'AK Jain, SC Srivastava', 'conference': 'International Journal of Emerging Electric Power Systems 18 (1)', 'citations': 4, 'year': 2017}, {'title': 'Control and techno-economic analysis of PV-diesel-battery based hybrid microgrid system', 'authors': 'A Barua, AK Jain, M Gupta, PK Mishra', 'conference': '2017 Conference on Information and Communication Technology (CICT), 1-5', 'citations': 3, 'year': 2017}, {'title': 'Demand response of an industrial buyer considering congestion and LMP in day-ahead electricity market', 'authors': 'AK Jain', 'conference': 'International Journal of Emerging Electric Power Systems 20 (3)', 'citations': 1, 'year': 2019}, {'title': 'Implementation of Artificial Neural Networks in Real Time Power System: Challenges and Issues.', 'authors': 'T Jain, A Jain', 'conference': 'IICAI, 343-352', 'citations': 0, 'year': 2011}]}), ('Arvind Kumar', {'country': 'india', 'org': '10153116334818526581', 'institute': 'National Institute of Technology Agartala', 'name': 'Arvind Kumar', 'user': '-ZD-NLEAAAAJ', 'homepage': 'Not Found', 'scholarPage': 'https://scholar.google.co.in/citations?user=-ZD-NLEAAAAJ&hl=en', 'imgLink': 'https://scholar.googleusercontent.com/citations?view_op=view_photo&user=-ZD-NLEAAAAJ&citpid=2', 'verifiedEmail': True, 'subjects': ['Metal matrix Composite'], 'yearCitations': ['{\"year\": 2019, \"citations\": 3}', '{\"year\": 2020, \"citations\": 21}', '{\"year\": 2021, \"citations\": 5}'], 'citationsAll': '29', 'citations2016': '29', 'h-indexAll': '3', 'h-index2016': '3', 'i10-indexAll': '1', 'i10-index2016': '1', 'papers': [{'title': 'Fabrication, microstructure and mechanical properties of boron carbide (B4Cp) reinforced aluminum metal matrix composite-A review', 'authors': 'A Kumar, RN Rai', 'conference': 'IOP Conference Series: Materials Science and Engineering 377 (1), 012092', 'citations': 11, 'year': 2018}, {'title': 'Optimization by AHP-ARAS of EDM Process Parameters on Machining AA7050-10%B', 'authors': 'A Kumar, SAI Hussain, RN Rai', 'conference': 'Advances in Industrial and Production Engineering, 285-296', 'citations': 6, 'year': 2019}, {'title': 'Optimisation of EDM process parameters for AA7050-10 (WT) % B', 'authors': 'A Kumar, RN Rai', 'conference': 'International Journal of Materials and Product Technology 59 (2), 102-120', 'citations': 4, 'year': 2019}, {'title': 'Evaluation of tribological properties of Stir Cast AA7050/B4C-T6 composite', 'authors': 'A Kumar, RN Rai', 'conference': 'NISCAIR-CSIR, India', 'citations': 3, 'year': 2019}, {'title': 'Evaluation of Wear Properties of Stir Cast AA7050-10% B4C Ex Situ Composite through Fuzzy-TOPSIS MCDM Method', 'authors': 'A Kumar, RN Rai', 'conference': 'Solid State Phenomena 291, 1-12', 'citations': 3, 'year': 2019}, {'title': 'Grey-Taguchi and TOPSIS-Taguchi-Based Optimisation of Performance Parameters of Spark EDM on Heat-Treated AA7050/5 B 4 C Composite', 'authors': 'A Kumar, RN Rai', 'conference': 'Journal of The Institution of Engineers (India): Series D 101 (1), 71-79', 'citations': 1, 'year': 2020}, {'title': 'Evaluation of Dry Sliding Wear Properties of Stir Cast AA7050/10B', 'authors': 'A Kumar, RN Rai', 'conference': 'Advances in Mechanical Engineering, 449-457', 'citations': 1, 'year': 2020}, {'title': 'Evaluation of Dry Sliding Wear Properties Composites of Through Stir Cast Fuzzy-ARAS AA7050/10B4C', 'authors': 'A Kumar, RN Rai', 'conference': 'Advances in Mechanical Engineering: Select Proceedings of ICRIDME 2018, 449', 'citations': 0, 'year': 2020}, {'title': 'Synthesis of Stir-Cast AA7050/5% B4C Composite and Optimization of EDM Response Parameters Using Taguchi Analysis', 'authors': 'A Kumar, A Kumar, RN Rai', 'conference': 'Key Engineering Materials 844, 104-113', 'citations': 0, 'year': 2020}, {'title': 'MOGA optimisation of wear performance of stir cast AA7050/B', 'authors': 'A Kumar, A Pal, RN Rai', 'conference': 'International Journal of Materials and Product Technology 60 (2-4), 180-194', 'citations': 0, 'year': 2020}, {'title': 'Optimisation of Performance Parameters of EDM for Heat Treated Al 7050 Alloy using ANN and MORSM', 'authors': 'A Kumar, RN Rai', 'conference': 'NISCAIR-CSIR, India', 'citations': 0, 'year': 2019}]}), ('Pravin Rathod', {'country': 'india', 'org': '110515362730719954', 'institute': 'Vishwakarma Institute of Technology', 'name': 'Pravin Rathod', 'user': 'LTb_MRgAAAAJ', 'homepage': 'Not Found', 'scholarPage': 'https://scholar.google.co.in/citations?user=LTb_MRgAAAAJ&hl=en', 'imgLink': 'https://scholar.googleusercontent.com/citations?view_op=view_photo&user=LTb_MRgAAAAJ&citpid=4', 'verifiedEmail': True, 'subjects': ['Computational Linguistics', 'Computer Network', 'Mobile Computing'], 'yearCitations': ['{\"year\": 2015, \"citations\": 6}', '{\"year\": 2016, \"citations\": 3}', '{\"year\": 2017, \"citations\": 9}', '{\"year\": 2018, \"citations\": 9}', '{\"year\": 2019, \"citations\": 7}', '{\"year\": 2020, \"citations\": 3}', '{\"year\": 2021, \"citations\": 4}'], 'citationsAll': '42', 'citations2016': '35', 'h-indexAll': '3', 'h-index2016': '3', 'i10-indexAll': '1', 'i10-index2016': '1', 'papers': [{'title': 'Hindi & Marathi To english transliteration using SVM', 'authors': 'PH Rathod, ML Dhore, RM Dhore', 'conference': 'International Journal on Natural Language Computing (IJNLC) 2 (4), 55-71', 'citations': 31, 'year': 2013}, {'title': 'SURVEY ON MACHINE TRANSLITERATION AND MACHINE LEARNING MODELS', 'authors': 'ML Dhore, RM Dhore, PH Rathod', 'conference': 'International Journal on Natural Language Computing (IJNLC) 4 (2), 9-30', 'citations': 6, 'year': 2015}, {'title': 'TRANSLITERATION BY ORTHOGRAPHY OR PHONOLOGY FOR HINDI AND MARATHI TO ENGLISH: CASE STUDY', 'authors': 'ML Dhore, RM Dhore, PH Rathod', 'conference': 'International Journal on Natural Language Computing (IJNLC) 2 (5), 1-19', 'citations': 4, 'year': 2013}, {'title': 'Case Study on Load Balancing of Access Points Using Spectral Clustering', 'authors': 'AS Chavan, SC Ramole, SS Gujar, ML Dhore, PH Rathod', 'conference': '2017 International Conference on Computing, Communication, Control and\\xa0…', 'citations': 1, 'year': 2017}, {'title': 'Effective UI Design to Explore Poetry Literature Using Multiple Scripts for Ordinary End Users', 'authors': 'ML Dhore, RS Jadhav, MS Bahadure, PH Rathod', 'conference': 'Proceeding of First Doctoral Symposium on Natural Computing Research: DSNCR\\xa0…', 'citations': 0, 'year': 2021}, {'title': 'Hindi and Urdu to English Named Entity Statistical Machine Transliteration Using Source Language Word Origin Context', 'authors': 'ML Dhore, PH Rathod', 'conference': 'Applied Machine Learning for Smart Data Analysis, 1', 'citations': 0, 'year': 2019}]}), ('Niharika Anand', {'country': 'india', 'org': '110271237249066252', 'institute': 'Indian Institute of Information Technology Allahabad', 'name': 'Niharika Anand', 'user': 'fYyeoQEAAAAJ', 'homepage': 'Not Found', 'scholarPage': 'https://scholar.google.co.in/citations?user=fYyeoQEAAAAJ&hl=en', 'imgLink': 'https://scholar.googleusercontent.com/citations?view_op=view_photo&user=fYyeoQEAAAAJ&citpid=1', 'verifiedEmail': True, 'subjects': [], 'yearCitations': ['{\"year\": 2016, \"citations\": 1}', '{\"year\": 2017, \"citations\": 0}', '{\"year\": 2018, \"citations\": 2}', '{\"year\": 2019, \"citations\": 4}', '{\"year\": 2020, \"citations\": 5}', '{\"year\": 2021, \"citations\": 1}'], 'citationsAll': '13', 'citations2016': '13', 'h-indexAll': '3', 'h-index2016': '3', 'i10-indexAll': '0', 'i10-index2016': '0', 'papers': [{'title': 'Enhanced reliable reactive routing (ER3) protocol for multimedia applications in 3D wireless sensor networks', 'authors': 'N Anand, S Varma, G Sharma, S Vidalis', 'conference': 'Multimedia Tools and Applications 77 (13), 16927-16946', 'citations': 4, 'year': 2018}, {'title': 'Performance Evaluation of DSR, AOMDV and ZRP Routing Protocols in MANETS by using NS2', 'authors': 'AR Rao, NM Vishnu, KV Swathi, K Hanisha, N Anand', 'conference': 'International Journal of Computer Scienceand Information Technologies\\xa0…', 'citations': 4, 'year': 2014}, {'title': 'MSVR based range-free localization technique for 3-D sensor networks', 'authors': 'N Anand, R Ranjan, S Varma', 'conference': 'Wireless Personal Communications 97 (4), 6221-6238', 'citations': 3, 'year': 2017}, {'title': 'A novel computational geometry-based node deployment scheme in 3D wireless sensor network', 'authors': 'N Anand, R Ranjan, BS Rai, S Varma', 'conference': 'International Journal of Sensor Networks 25 (3), 135-145', 'citations': 1, 'year': 2017}, {'title': 'Radio irregularity model based on received signal strength for three dimensional Wireless Sensor Network', 'authors': 'N Anand, R Ranjan, S Varma', 'conference': '2016 IEEE Region 10 Conference (TENCON), 2008-2012', 'citations': 1, 'year': 2016}, {'title': 'A 3-D Radio Irregularity Model (3DRIM) for Wireless Sensor Network', 'authors': 'N Anand, SR Bellipady, R Ranjan, S Varma', 'conference': 'Wireless Personal Communications 96 (3), 4725-4735', 'citations': 0, 'year': 2017}, {'title': 'Scrutinizing Localized Topology Control in WSN Using Rigid Graphs', 'authors': None, 'conference': 'Ananad, Niharika, and Shirshu Varma. \"Scrutinizing localized topology\\xa0…', 'citations': 0, 'year': 2015}]}), ('Ravinder Singh', {'country': 'india', 'org': '10561148958168705549', 'institute': 'Dr. B. R. Ambedkar National Institute of Technology', 'name': 'Ravinder Singh', 'user': 'x_Db1k8AAAAJ', 'homepage': 'Not Found', 'scholarPage': 'https://scholar.google.co.in/citations?user=x_Db1k8AAAAJ&hl=en', 'imgLink': 'https://scholar.google.co.in/citations/images/avatar_scholar_128.png', 'verifiedEmail': True, 'subjects': [], 'yearCitations': ['{\"year\": 1985, \"citations\": 1}', '{\"year\": 1986, \"citations\": 1}', '{\"year\": 1987, \"citations\": 2}', '{\"year\": 1988, \"citations\": 4}', '{\"year\": 1989, \"citations\": 0}', '{\"year\": 1990, \"citations\": 0}', '{\"year\": 1991, \"citations\": 1}', '{\"year\": 1992, \"citations\": 0}', '{\"year\": 1993, \"citations\": 1}', '{\"year\": 1994, \"citations\": 1}', '{\"year\": 1995, \"citations\": 1}', '{\"year\": 1996, \"citations\": 1}', '{\"year\": 1997, \"citations\": 2}', '{\"year\": 1998, \"citations\": 4}', '{\"year\": 1999, \"citations\": 3}', '{\"year\": 2000, \"citations\": 1}', '{\"year\": 2001, \"citations\": 1}', '{\"year\": 2002, \"citations\": 0}', '{\"year\": 2003, \"citations\": 0}', '{\"year\": 2004, \"citations\": 3}', '{\"year\": 2005, \"citations\": 1}', '{\"year\": 2006, \"citations\": 2}', '{\"year\": 2007, \"citations\": 6}', '{\"year\": 2008, \"citations\": 5}', '{\"year\": 2009, \"citations\": 2}', '{\"year\": 2010, \"citations\": 4}', '{\"year\": 2011, \"citations\": 7}', '{\"year\": 2012, \"citations\": 11}', '{\"year\": 2013, \"citations\": 13}', '{\"year\": 2014, \"citations\": 9}', '{\"year\": 2015, \"citations\": 15}', '{\"year\": 2016, \"citations\": 14}', '{\"year\": 2017, \"citations\": 22}', '{\"year\": 2018, \"citations\": 29}', '{\"year\": 2019, \"citations\": 29}', '{\"year\": 2020, \"citations\": 37}', '{\"year\": 2021, \"citations\": 4}'], 'citationsAll': '245', 'citations2016': '135', 'h-indexAll': '7', 'h-index2016': '6', 'i10-indexAll': '6', 'i10-index2016': '3', 'papers': [{'title': 'Synthesis of ZnTe nanoparticles by microwave irradiation technique, and their characterization', 'authors': 'M Shkir, S Aarya, R Singh, M Arora, G Bhagavannarayana, ...', 'conference': 'Nanoscience and Nanotechnology Letters 4 (4), 405-408', 'citations': 53, 'year': 2012}, {'title': 'Macrodystrophia lipomatosa with carpal-tunnel syndrome: a case report', 'authors': 'CS Ranawat, MM Arora, RG Singh', 'conference': 'JBJS 50 (6), 1242-1244', 'citations': 42, 'year': 1968}, {'title': 'Minor trauma triggering cervicofacial necrotizing fasciitis from odontogenic abscess', 'authors': 'S Jain, PS Nagpure, R Singh, D Garg', 'conference': 'Journal of Emergencies, Trauma and Shock 1 (2), 114', 'citations': 27, 'year': 2008}, {'title': 'Influence of simulated erosion on soil properties and maize yield in northwestern India', 'authors': 'S Sur, R Singh, SS Malhi', 'conference': 'Communications in soil science and plant analysis 29 (17-18), 2647-2658', 'citations': 12, 'year': 1998}, {'title': 'Investigation on mechanical properties of some thiourea complex crystals: Important nonlinear optical materials', 'authors': 'V Ganesh, M Shkir, R Husain, R Singh, TB Rao, KK Rao', 'conference': 'Optik 124 (24), 6690-6695', 'citations': 11, 'year': 2013}, {'title': 'Small aperture IC-8 intraocular lens in cataract patients: achieving extended depth of focus through small aperture optics', 'authors': 'J Hooshmand, P Allen, T Huynh, C Chan, R Singh, C Moshegov, ...', 'conference': 'Eye 33 (7), 1096-1103', 'citations': 10, 'year': 2019}, {'title': 'Myeloma in young age', 'authors': 'AN Usha, P Kumar, M Rai, RG Singh, M Seth, SK Saraf', 'conference': 'Indian J Pathol Microbiol 48, 314-7', 'citations': 9, 'year': 2005}, {'title': 'Linear stability analysis of double-diffusive convection in magnetic nanofluids in porous media', 'authors': 'MK Sharma, R Singh', 'conference': 'Journal of Porous Media 17 (10)', 'citations': 7, 'year': 2014}, {'title': 'Transferosomes, an overview', 'authors': 'S Saraf, S Saraf, R Singh, NK Gorde', 'conference': 'Pharmaceutical Reviews 5, 6', 'citations': 7, 'year': 2007}, {'title': 'Penetrative phototactic bioconvection in a two-dimensional non-scattering suspension', 'authors': 'MK Panda, R Singh', 'conference': 'Physics of Fluids 28 (5), 054105', 'citations': 6, 'year': 2016}, {'title': 'Clinical presentation and management of neonatal Malaria: a review', 'authors': 'K Mohan, B Omar, R Singh', 'conference': 'Malar Chemoth Cont Elimination 3 (2), 126', 'citations': 6, 'year': 2014}, {'title': 'Wavelength selection in gyrotactic bioconvection', 'authors': 'S Ghorai, R Singh, NA Hill', 'conference': 'Bulletin of mathematical biology 77 (6), 1166-1184', 'citations': 5, 'year': 2015}, {'title': 'Disposing immunisation waste in India', 'authors': 'A Agrawal, R Singh, P Mahesh', 'conference': 'Policy paper: Toxics Link', 'citations': 5, 'year': 2004}, {'title': 'Development Trends in Ultra Thin Gate Dielectrics for Ultra Large Scale Integration (ULSI)', 'authors': 'R Singh', 'conference': 'Proc. 1984 Int. Microelectronics Symp., 386-393', 'citations': 5, 'year': 1984}, {'title': 'Analysis of Micro Inversion to Improve Fault Tolerance in High Speed VLSI Circuits', 'authors': 'VM Somashekhar, RP Singh', 'conference': 'International Research Journal of Engineering and Technology (IRJET) 6 (03\\xa0…', 'citations': 4, 'year': 2019}, {'title': 'Effects of magnetic-field-dependent viscosity at onset of convection in magnetic nanofluids', 'authors': 'M Arora, R Singh, MK Panda', 'conference': 'Journal of Engineering Mathematics 101 (1), 201-217', 'citations': 4, 'year': 2016}, {'title': 'Linear stability analysis of gyrotactic plumes', 'authors': 'S Ghorai, R Singh', 'conference': 'Physics of Fluids 21 (8), 081901', 'citations': 4, 'year': 2009}, {'title': 'Myeloma in young age.', 'authors': 'N Agarwal, P Kumar, M Rai, RG Singh, M Seth, SK Saraf', 'conference': 'Indian journal of pathology & microbiology 48 (3), 314-317', 'citations': 4, 'year': 2005}, {'title': 'Effects of both diffuse and collimated incident radiation on phototactic bioconvection', 'authors': 'MK Panda, R Singh, AC Mishra, SK Mohanty', 'conference': 'Physics of Fluids 28 (12), 124104', 'citations': 3, 'year': 2016}, {'title': 'Performance Evaluation of Data Delivery Mechanism For Cognitive Radio Vehicular and Vehicular Ad-Hoc Networks', 'authors': 'D Garg, RS Bali, A Kaur', 'conference': 'Procedia Computer Science 57, 596-605', 'citations': 3, 'year': 2015}]}), ('Ravinder Singh', {'country': 'india', 'org': '10561148958168705549', 'institute': 'Dr. B. R. Ambedkar National Institute of Technology', 'name': 'Ravinder Singh', 'user': 'scTy5nIAAAAJ', 'homepage': 'Not Found', 'scholarPage': 'https://scholar.google.co.in/citations?user=scTy5nIAAAAJ&hl=en', 'imgLink': 'https://scholar.googleusercontent.com/citations?view_op=view_photo&user=scTy5nIAAAAJ&citpid=1', 'verifiedEmail': True, 'subjects': ['Mobile Robotics', 'SLAM', 'Autonomous Navigation'], 'yearCitations': ['{\"year\": 2003, \"citations\": 1}', '{\"year\": 2004, \"citations\": 0}', '{\"year\": 2005, \"citations\": 0}', '{\"year\": 2006, \"citations\": 0}', '{\"year\": 2007, \"citations\": 2}', '{\"year\": 2008, \"citations\": 0}', '{\"year\": 2009, \"citations\": 0}', '{\"year\": 2010, \"citations\": 0}', '{\"year\": 2011, \"citations\": 0}', '{\"year\": 2012, \"citations\": 3}', '{\"year\": 2013, \"citations\": 0}', '{\"year\": 2014, \"citations\": 1}', '{\"year\": 2015, \"citations\": 2}', '{\"year\": 2016, \"citations\": 0}', '{\"year\": 2017, \"citations\": 1}', '{\"year\": 2018, \"citations\": 2}', '{\"year\": 2019, \"citations\": 23}', '{\"year\": 2020, \"citations\": 27}', '{\"year\": 2021, \"citations\": 6}'], 'citationsAll': '72', 'citations2016': '61', 'h-indexAll': '6', 'h-index2016': '5', 'i10-indexAll': '1', 'i10-index2016': '1', 'papers': [{'title': 'Improved 2D laser grid mapping by solving mirror reflection uncertainty in SLAM', 'authors': 'R Singh, KS Nagla', 'conference': 'International Journal of Intelligent Unmanned Systems', 'citations': 13, 'year': 2018}, {'title': 'Multi-data sensor fusion framework to detect transparent object for the efficient mobile robot mapping', 'authors': 'R Singh, KS Nagla', 'conference': 'International Journal of Intelligent Unmanned Systems', 'citations': 9, 'year': 2019}, {'title': 'Removal of specular reflection and cross talk in sonar for precise and accurate range measurements', 'authors': 'R Singh, KS Nagla', 'conference': 'MAPAN 34 (1), 31-42', 'citations': 8, 'year': 2019}, {'title': 'Sonar sensor model for the precision measurement to generate robust occupancy grid map', 'authors': 'R Singh, KS Nagla', 'conference': 'MAPAN 34 (2), 239-257', 'citations': 7, 'year': 2019}, {'title': 'Error analysis of laser scanner for robust autonomous navigation of mobile robot in diverse illumination environment', 'authors': 'R Singh, KS Nagla', 'conference': 'World Journal of Engineering', 'citations': 6, 'year': 2018}, {'title': 'MEASUREMENT OF DIELECTRIC-PROPERTIES OF ROCKS AND ITS APPLICATION TO MICROWAVE DIELECTRIC-CONSTANT LOGGING', 'authors': 'RP SINGH, T LAL', 'conference': 'Geophysics 46 (4), 415-415', 'citations': 6, 'year': 1981}, {'title': 'Comparative analysis of range sensors for the robust autonomous navigation–a review', 'authors': 'R Singh, KS Nagla', 'conference': 'Sensor Review', 'citations': 5, 'year': 2019}, {'title': 'Mathematical approach for the removal of specular reflection of laser rangefinder', 'authors': 'R Singh, S Sharma, G Kumar, R Kumar', 'conference': 'Int J 2, 186-188', 'citations': 4, 'year': 2012}, {'title': 'Development of an efficient laser grid mapping technique: P-SLAM', 'authors': 'R Singh, KS Nagla', 'conference': 'International Journal of Image and Data Fusion 10 (3), 177-198', 'citations': 3, 'year': 2019}, {'title': 'Proposed model of an earthquake detector by using UBG-04LX-F01 laser rangefinder.', 'authors': 'R Singh, KS Nagla', 'conference': 'International Journal of Advanced Research in Computer Science and Software\\xa0…', 'citations': 3, 'year': 2012}, {'title': 'An adaptive fuzzy logic controller trained by particle swarm optimization for line of sight stabilization', 'authors': 'S Khatoon, R Singh', 'conference': 'Int. J. Comput. Appl 39, 29-33', 'citations': 3, 'year': 2012}, {'title': 'Removal of sonar wave interference in multi-robot system for the efficient SLAM by randomized triggering time technique', 'authors': 'R Singh, A Katyal, M Kumar, K Singh, D Bhola', 'conference': 'World Journal of Engineering', 'citations': 2, 'year': 2020}, {'title': 'A modified sensor fusion framework for quantifying and removing the effect of harsh environmental condition for reliable mobile robot mapping', 'authors': 'R Singh, KS Nagla', 'conference': 'Sensor Review', 'citations': 2, 'year': 2019}, {'title': 'Optimized 3D laser point cloud reconstruction by gradient descent technique', 'authors': 'R Singh, A Khurana, S Kumar', 'conference': 'Industrial Robot: the international journal of robotics research and application', 'citations': 1, 'year': 2020}, {'title': 'Modified probabilistic laser sensor model to reduce the effect of the mixed pixel for robust autonomous mobile robot navigation', 'authors': 'R Singh, KS Nagla', 'conference': 'International Journal of Vehicle Autonomous Systems 14 (4), 305-324', 'citations': 0, 'year': 2019}]}), ('Ravinder Kumar', {'country': 'india', 'org': '10561148958168705549', 'institute': 'Dr. B. R. Ambedkar National Institute of Technology', 'name': 'Ravinder Kumar', 'user': 'xpu1KIgAAAAJ', 'homepage': 'Not Found', 'scholarPage': 'https://scholar.google.co.in/citations?user=xpu1KIgAAAAJ&hl=en', 'imgLink': 'https://scholar.google.co.in/citations/images/avatar_scholar_128.png', 'verifiedEmail': True, 'subjects': ['Refrigeration and Air Conditioning', 'Heat Transfer'], 'yearCitations': ['{\"year\": 2018, \"citations\": 6}', '{\"year\": 2019, \"citations\": 5}', '{\"year\": 2020, \"citations\": 7}', '{\"year\": 2021, \"citations\": 1}'], 'citationsAll': '19', 'citations2016': '19', 'h-indexAll': '2', 'h-index2016': '2', 'i10-indexAll': '1', 'i10-index2016': '1', 'papers': [{'title': 'Effect of ZnO nanoparticles in R290/R600a (50/50) based vapour compression refrigeration system added via lubricant oil on compressor suction and discharge characteristics', 'authors': 'R Kumar, J Singh', 'conference': 'Heat and Mass Transfer 53 (5), 1579-1587', 'citations': 13, 'year': 2017}, {'title': 'Effect of CuO nanolubricant on compressor characteristics and performance of LPG based refrigeration cycle: experimental investigation', 'authors': 'R Kumar, J Singh, P Kundal', 'conference': 'Heat and Mass Transfer 54 (5), 1405-1413', 'citations': 5, 'year': 2018}, {'title': 'Effect of Nanoparticles on Performance Characteristics of Refrigeration Cycle', 'authors': 'R Kumar', 'conference': 'Low-temperature Technologies, 101', 'citations': 1, 'year': 2019}, {'title': 'An experimental approach to study thermal and tribology behavior of LPG refrigerant and MO lubricant appended with ZnO nanoparticles in domestic refrigeration cycle', 'authors': 'R Kumar, DK Singh, S Chander', 'conference': 'Heat and Mass Transfer 56 (7), 2303-2311', 'citations': 0, 'year': 2020}]}), ('Parin Shah', {'country': 'india', 'org': '10517511597332023446', 'institute': 'Nirma University Ahmedabad', 'name': 'Parin Shah', 'user': 'ukuvF4wAAAAJ', 'homepage': 'Not Found', 'scholarPage': 'https://scholar.google.co.in/citations?user=ukuvF4wAAAAJ&hl=en', 'imgLink': 'https://scholar.googleusercontent.com/citations?view_op=view_photo&user=ukuvF4wAAAAJ&citpid=2', 'verifiedEmail': True, 'subjects': [], 'yearCitations': ['{\"year\": 2012, \"citations\": 1}', '{\"year\": 2013, \"citations\": 3}', '{\"year\": 2014, \"citations\": 7}', '{\"year\": 2015, \"citations\": 13}', '{\"year\": 2016, \"citations\": 16}', '{\"year\": 2017, \"citations\": 14}', '{\"year\": 2018, \"citations\": 12}', '{\"year\": 2019, \"citations\": 14}', '{\"year\": 2020, \"citations\": 14}', '{\"year\": 2021, \"citations\": 4}'], 'citationsAll': '98', 'citations2016': '74', 'h-indexAll': '4', 'h-index2016': '4', 'i10-indexAll': '1', 'i10-index2016': '1', 'papers': [{'title': 'Enzymatic degradation of textile dye Reactive Orange 13 by newly isolated bacterial strain Alcaligenes faecalis PMS-1', 'authors': 'PD Shah', 'conference': 'International Biodeterioration & Biodegradation 69 (69), 41-50', 'citations': 69, 'year': 2012}, {'title': 'Merkel’s Method for Designing Induced Draft Cooling Tower', 'authors': 'P Shah', 'conference': 'International Journal of Advanced Research in Engineering and Technology 6\\xa0…', 'citations': 8, 'year': 2015}, {'title': 'Thermal Design of Ammonia Desuperheater-Condenser and Comparative Study with HTRI', 'authors': 'S Sahajpal, PD Shah', 'conference': 'Procedia Engineering 51, 375-379', 'citations': 7, 'year': 2013}, {'title': 'Development and application of hybrid materials in coagulation and flocculation of wastewater', 'authors': 'S Parin D.', 'conference': 'Journal of Environmental Research and Development 9 (4), 1218-1224', 'citations': 6, 'year': 2015}, {'title': 'Adsorptive Removal of Hazardous Waste Materials using Metal-Organic Frameworks', 'authors': 'TP Sagar, P Shah', 'conference': 'International Journal of Research and Scientific Innovation 1 (7), 469-471', 'citations': 4, 'year': 2014}, {'title': 'Resource Conservation through Thermal Design of Evaporative Condensers', 'authors': 'SD Parin', 'conference': 'Journal of Environmental Research and Development 8 (2), 335-341', 'citations': 3, 'year': 2013}, {'title': 'Application of Nanoscale Zero-valent Iron for Wastewater Treatment', 'authors': 'S Sen, P Shah', 'conference': 'International Journal of Research and Scientific Innovation 1 (7), 342-344', 'citations': 1, 'year': 2014}, {'title': 'Ecofriendly RO 13 Dye Decolorization by newly isolated  Alcaligenes faecalis PMS-1 using Lignocellulosic Agriculture Waste', 'authors': 'S P.D.', 'conference': 'Research Journal of Biotechnology 8 (7), 29-34', 'citations': 0, 'year': 2013}]}), ('Jaivindra Singh', {'country': 'india', 'org': '10561148958168705549', 'institute': 'Dr. B. R. Ambedkar National Institute of Technology', 'name': 'Jaivindra Singh', 'user': 'mDMBpDEAAAAJ', 'homepage': 'http://www.nitj.ac.in/', 'scholarPage': 'https://scholar.google.co.in/citations?user=mDMBpDEAAAAJ&hl=en', 'imgLink': 'https://scholar.googleusercontent.com/citations?view_op=view_photo&user=mDMBpDEAAAAJ&citpid=2', 'verifiedEmail': True, 'subjects': ['CMT Brazing', 'Structure-property correlation'], 'yearCitations': ['{\"year\": 2019, \"citations\": 7}', '{\"year\": 2020, \"citations\": 28}', '{\"year\": 2021, \"citations\": 3}'], 'citationsAll': '38', 'citations2016': '38', 'h-indexAll': '3', 'h-index2016': '3', 'i10-indexAll': '1', 'i10-index2016': '1', 'papers': [{'title': 'Dissimilar MIG-CMT weld-brazing of aluminium to steel: A review', 'authors': 'J Singh, KS Arora, DK Shukla', 'conference': 'Journal of Alloys and Compounds', 'citations': 24, 'year': 2018}, {'title': 'Role of bead shape and dispersed intermetallic phases in determining the strength of CMT brazed DP780 lap joints', 'authors': 'J Singh, KS Arora, N Shajan, DK Shukla, M Shome', 'conference': 'Journal of Manufacturing Processes 44, 207-215', 'citations': 8, 'year': 2019}, {'title': 'Influence of filler wire composition and heat input on microstructure and strength of CMT brazed DP steel joints', 'authors': 'J Singh, KS Arora, N Shajan, M Shome, DK Shukla', 'conference': 'Materials Research Express 6 (11), 116551', 'citations': 3, 'year': 2019}, {'title': 'Lap weld-brazing of aluminium to steel using novel cold metal transfer process', 'authors': 'J Singh, KS Arora, DK Shukla', 'conference': 'Journal of Materials Processing Technology 283, 116728', 'citations': 2, 'year': 2020}, {'title': 'Influence of wire feed rate to speed ratio on arc stability and characteristics of cold metal transfer weld–brazed dissimilar joints', 'authors': 'J Singh, KS Arora, N Shajan, M Shome, DK Shukla', 'conference': 'The International Journal of Advanced Manufacturing Technology 108 (11\\xa0…', 'citations': 1, 'year': 2020}, {'title': 'Influence of Novel Torch Type on Mechanical and Microstructural Characteristics of Cold Metal Transfer Brazed Joints', 'authors': 'J Singh, KS Arora, N Shajan, M Shome, DK Shukla', 'conference': 'Journal of Manufacturing Science and Engineering 143 (1)', 'citations': 0, 'year': 2021}, {'title': 'High cycle fatigue performance of cold metal transfer (CMT) brazed C-Mn-440 steel joints', 'authors': 'J Singh, KS Arora, DK Shukla', 'conference': 'International Journal of Fatigue 137, 105663', 'citations': 0, 'year': 2020}, {'title': 'Joining of Dissimilar Materials—Aluminium to Steel—Using', 'authors': 'J Singh, KS Arora, DK Shukla', 'conference': 'Manufacturing Engineering: Select Proceedings of CPIE 2019, 271', 'citations': 0, 'year': 2020}, {'title': 'Joining of Dissimilar Materials—Aluminium to Steel—Using CMT+ P Weld-Brazing Process', 'authors': 'J Singh, KS Arora, DK Shukla', 'conference': 'Manufacturing Engineering, 271-284', 'citations': 0, 'year': 2020}, {'title': 'Lemongrass-weed competition', 'authors': 'S Chandra, R Gupta, AK Shahi, P Dutt, J Singh, SK Bakshi, MK Kaul', 'conference': 'INDIAN PERFUMER 48 (2), 167-172', 'citations': 0, 'year': 2004}, {'title': 'Experimental Study on Effects of Spindle Speed and Forge Load on Tensile Strength of Similar Tubular Weld Joints of Aluminum and GI Pipes', 'authors': 'J Singh', 'conference': 'JOURNAL-INSTITUTION OF ENGINEERS INDIA PART PE PRODUCTION ENGINEERING\\xa0…', 'citations': 0, 'year': 2003}]})]\n"
     ]
    }
   ],
   "source": [
    "# Reference: https://stackoverflow.com/questions/50861237/is-there-an-alternative-to-difflib-get-close-matches-that-returns-indexes-l\n",
    "# Return indices of the closes matches to the query\n",
    "def get_close_matches_indexes(word, possibilities, n=10, cutoff=0.4):\n",
    "    \n",
    "    \"\"\"Use SequenceMatcher to return a list of the indexes of the best \n",
    "    \"good enough\" matches. word is a sequence for which close matches \n",
    "    are desired (typically a string).\n",
    "    possibilities is a list of sequences against which to match word\n",
    "    (typically a list of strings).\n",
    "    Optional arg n (default 3) is the maximum number of close matches to\n",
    "    return.  n must be > 0.\n",
    "    Optional arg cutoff (default 0.6) is a float in [0, 1].  Possibilities\n",
    "    that don't score at least that similar to word are ignored.\n",
    "    \"\"\"\n",
    "\n",
    "    if not n >  0:\n",
    "        raise ValueError(\"n must be > 0: %r\" % (n,))\n",
    "    if not 0.0 <= cutoff <= 1.0:\n",
    "        raise ValueError(\"cutoff must be in [0.0, 1.0]: %r\" % (cutoff,))\n",
    "    result = []\n",
    "    s = SequenceMatcher()\n",
    "    s.set_seq2(word)\n",
    "    for idx, x in enumerate(possibilities):\n",
    "        s.set_seq1(x)\n",
    "        if s.real_quick_ratio() >= cutoff and \\\n",
    "           s.quick_ratio() >= cutoff and \\\n",
    "           s.ratio() >= cutoff:\n",
    "            result.append((s.ratio(), idx))\n",
    "\n",
    "    # Move the best scorers to head of list\n",
    "    result = _nlargest(n, result)\n",
    "\n",
    "    # Strip scores for the best n matches\n",
    "    return [x for score, x in result]\n",
    "\n",
    "# name query\n",
    "name_query = \"arvind\"\n",
    "inds = get_close_matches_indexes(name_query, loaded_prof_names)\n",
    "res = [(loaded_prof_names[i],loaded_documents[i]) for i in inds]\n",
    "print(res)"
   ]
  },
  {
   "cell_type": "code",
   "execution_count": 23,
   "metadata": {},
   "outputs": [
    {
     "name": "stdout",
     "output_type": "stream",
     "text": [
      "[]\n",
      "['A K Chakraborty', 'AJAY BISWAS', 'Abhijit Bhowmik', 'Abhik Majumder', 'Amitabha Nath', 'Amlanbrata Chakraborty', 'Anil S. Katarkar', 'Animesh Debnath', 'Anindita Jamatia', 'Anupam Jamatia', 'Apangshu Das', 'Apu Kumar Saha', 'Arindam Debnath', 'Arindam Majumder', 'Arnab Pal', 'Arup Ratan Bhowmik', 'Arvind Jain', 'Arvind Kumar', 'Ashmita Ghosh', 'Baby Bhattacharya', 'Biman Debbarma', 'Biplab Bhattacharjee', 'Biswajit Saha', 'DR UMESH MISHRA', 'DR. MUNESH CHANDRA TRIVEDI', 'Debanjali Nath', 'Debasish Bhattacharya', 'Dibyendu Ghoshal', 'Dipak Chandra Das', 'Diptesh Chanda', 'Dr. Abhijit Mondal', 'Dr. Abhishek Nag', 'Dr. Ardhendu Saha', 'Dr. Arup Ratan Bhowmik', 'Dr. Ashim Saha', 'Dr. Ashis Acharjee', 'Dr. Biswanath Bhunia', 'Dr. Manash Kumar Paul', 'Dr. PINKU DEBNATH', 'Dr. Rakesh Roy', 'Dr. Saurab Dhar', 'Dr. Soma Nag', 'Dr. Sujoy Chakraborty', 'Dr.Dijendra Nath Roy', 'Dr.Parthasarathi De', 'Dr.Rahul Banerjee', 'Dwijen Rudrapal', 'G.R.K. Sastry', 'Gouranga Mandal', 'Habila Basumatary', 'Jawahar Paulraj', 'Jayanta K Rakshit', 'Jitendra Nath Roy', 'K.Trinath', 'Kalyan Gayen', 'Kaushik Das', 'Krishanu Gupta', 'Madan Pal Singh', 'Mithun Chakraborty', 'Mitra Barun Sarkar', 'Mriganka Sekhar Manna', 'Mrinal Kanti Debbarma', 'Mrinmoy Majumder', 'Navonita Sharma', 'Pabitra Maji', 'Papia Dutta', 'Partha Pratim Sarkar', 'Payel Choudhury', 'Prashant Bhardwaj', 'Prasun Chakraborti', 'Pritam Dey', 'Priyanka Dey', 'Probir Kumar Bose', 'Rahul KANTI NATH', 'Rajib Saha', 'Rajsekhar Panua', 'Ram Singh', 'Ria Majumdar', 'Rupam Gupta Roy', 'S.Sathishkumar', 'Sameer S. Gajghate', 'Sanjay Kumar Mandal', 'Saptadip Saha', 'Saroj Kumar Parida', 'Shirsendu Das', 'Smita Banik', 'Smita Das', 'Soumesh Chatterjee', 'Subhojit Das', 'Suman Deb', 'Suman Dey', 'Suvendu Mohanty', 'Suvra Prakash Mondal', 'Swapan Bhaumik', 'Swapan Debbarma, PhD', 'TARUN KUMAR MISRA', 'Tanmoy Majumder', 'Tarunkanti Bandyopadhyay', 'Tribid Debbarma', 'Tridib Kumar Bhowmick', 'Uttam Kumar Bera', 'Uttara Biswas', 'kunal chakma', 'sambhu nath pradhan', 'santanu chakraborty', ' Rajkumar M R', 'AKHIL K A', 'ANOOPA S', 'ANOOPA S', 'ASHALATHA RAJAMMA', 'Abdul Nizar', 'Abhilash Suryan', 'Ajeesh Ramanujan', 'Ajeesh Ramanujan', 'Akshay Vijayan', 'Anish K. John', 'Anitha Edison', 'Anurenjan P. R.', 'Bijulal D', 'Bindhu K R', 'Bindu GR', 'C Raju', 'Deepa Raj S', 'Deepak John Peter', 'Densen Puthussery', 'Dhanya Pankaj', 'Dinesh Gopinath', 'Dr. ANIL R', 'Dr. Biji Jacob', 'Dr. Binoosh S A', 'Dr. Francis M. Fernandez', 'Dr. Jayaraj Kochupillai', 'Dr.Rani Pavithran', 'FATIMA RASHEED J', 'Hari Kumar R', 'Hema Ramachandran', 'Hrishikesh P.S.', 'Jain K George', 'Jairaj P. Gomathi', 'Jayasree P K', 'Jiji C.V.', 'Jnaneswar K', 'Joaquim Ignatious Monteiro', 'Lalu V', 'M Hashim', 'M VINOD', 'Padmakumar Radhakrishnan', 'Parvathi V S', 'Pradeep Arjunan', 'Priyadarsini R S', 'R.M. Shereef', 'Rajasree R', 'Rani S', 'Ranjith S Kumar', 'S Sajikumar and A K Anilkumar', 'S Ushakumari', 'S. Anil Lal', 'Sabitha S', 'Salim A', 'Sandeep Soman', 'Santhosh Kumar', 'Saritha G', 'Savier J S', 'Shabu S', 'Shehan P. Rajendran', 'Shiny G', 'Sreeja S', 'Srichitra S', 'Sumi S', 'Sunil Edward', 'Vijayalekshmy S', 'Vinod B.R.', 'Vinya Vijayan', 'Yashida Nadir', 'sneha edla', 'A. Madhusudan Achari', 'Amee Krishnakumar', 'Amola Bhatt', 'Ankit Sharma', 'Ankur Dwivedi', 'Bhavin Kakani', 'Bhumika Patel', 'Chanakya B Bhatt', 'Charmy Kothari', 'Chetan Jhaveri', 'Chintan Mehta', 'D.J.Yadav', 'Daiwat Vyas', 'Darshit Upadhyay', 'Dharambhai Shah', 'Dhaval Pujara', 'Digesh Joshi', 'Dilip Kothari', 'Dipal gandhi', 'Dr Absar Lakdawala', 'Dr Dhaivat Parikh', 'Dr Jigar Shah', 'Dr KUNAL PATHAK', 'Dr Mitesh B Panchal', 'Dr Sanjay Patel', 'Dr Shalini Rajkumar', 'Dr Smita Agrawal', 'Dr Sriram Seshadri', 'Dr Tejal A. Mehta(Shah)', 'Dr jignasa savjani', 'Dr. Bhagawati Saxena', 'Dr. Bhajan Lal', 'Dr. Bhoomika Mayur Patel', 'Dr. Dhaval B. Shah', 'Dr. Hardik Bhatt', 'Dr. Jayesh Ruparelia', 'Dr. Jigna Shah', 'Dr. Kaushik M. Patel', 'Dr. Kuntal Bhattacharjee', 'Dr. Mangal Singh', 'Dr. Manjunath Ghate', 'Dr. Nasreen Munshi', 'Dr. Nilesh Ghetiya', 'Dr. Niyati S Acharya', 'Dr. Rajesh K. Jain', 'Dr. Sachin Gajjar', 'Dr. Sandip Sharma', 'Dr. Sarat Dalai', 'Dr. Shahir Bhatt', 'Dr. Shashank Thanki', 'Dr. Shital Bariya Butani', 'Dr. Shivani Patel', 'Dr. Siddharthsingh K. Chauhan', 'Dr. Urmil Dave', 'Dr. Vijay Kothari', 'Dr. Zunnun Narmawala', 'Dr.Kaumil Shah', 'Dvijesh Bhatt', 'Hardik Shah', 'Jaiprakash Verma', 'Jatin Dave', 'Jayesh Aagja', 'Jignesh Patel', 'KEDAR TRIVEDI', 'KULDEEP VERMA', 'Komal Chaudhary', 'Krupali Parmar', 'Leena Bora', 'MOHAMMAD YASEEN Khan', 'Malaram Kumhar', 'Manisha Shah', 'Maulin Bhagat', 'Mayank  Bhatia', 'Mayank Bhatia', 'Mayur M. Patel', 'Meghavi Choksi', 'Mihir Chauhan', 'Motilal Panigrahi', 'Mr Ashish Gohil', 'Mr NARASIMHAREDDY RAVURU', 'Mr Nrupesh Patel', 'Ms reena trivedi', 'Namdev Dhas', 'Naveen Yadav', 'Neha Patni', 'Nina Muncherji', 'Nivedita Patel', 'P. N. Kapil', 'Paresh Patel', 'Parimal Mehta', 'Parin Shah', 'Parth Rajput', 'Parul  R Patel', 'Payal Saluja', 'Pooja Shah', 'Pradeep Sahu', 'Priyam A Parikh', 'Priyank Thakkar', 'Prof Bharat Modi', 'Prof Dipak Adhyaru', 'Prof Gaurang Raval', 'Prof H. K. Patel', 'Prof Jigna Ashish Patel', 'Prof Madhuri Bhavsar', 'Prof Nimish Shah', 'Prof Santosh C Vora', 'Prof Sharada Valiveti', 'Prof. (Dr.) Amit N Patel', 'Prof. (Dr.) Usha Sandeep Mehta', 'Prof. Dr. P. N. Tekwani', 'Prof. Manish Patel', 'Pronaya Bhattacharya', 'Rajesh K. Jain', 'Rajesh N Patel', 'Ram Ratan Tiwari', 'Ritesh Patel', 'Ritika Lohiya', 'Rupal Kapdi', 'Sakshi Sharma', 'Samik Shome', 'Sanjay V. Jain', 'Sapan H Mankad', 'Sapna Parashar', 'Sharadkumar Purohit', 'Shibu G. Pillai', 'Shruti Rawal', 'Sonal Bakshi', 'Sonam Parashar', 'Sudeep Tanwar', 'Surekha Talaari', 'Umesh Bodkhe', 'VAISHALI DHARE', 'Vidhi Shah', 'Vijay Savani', 'Vijay Ukani', 'Vikas Lakhera', 'Viral Patel', 'Yogesh Trivedi', 'chetna chauhan', 'shital panchal', 'A L Sangal', 'A guptaa', 'ASHISH SIMALTI', 'Abhilasha Sharma', 'Afzal Sikander', 'Ajay Bansal', 'Aman Kamboj', 'Amit Kumar Dogra', 'Anee Mohanty', 'Anish Sachdeva', 'Ankush Thakur', 'Anshul Dadwal', 'Anterpreet Kaur Bedi', 'Anurag Kumar Tiwari', 'Archana Khurana', 'Arvind kumar Pathak', 'Ashok Kumar Bagha', 'Asim Kumar jana', 'Aviral Misra', 'Avtar Singh', 'Awadhesh Kumar Choudhary', 'D.K. Gupta', 'Deepak Singh', 'Deepti Gupta', 'Dinesh Kumar Shukla', 'Dr A Bhardwaj', 'Dr A Chatterjee', 'Dr A Mukhopadhyay', 'Dr A P Singh', 'Dr Arun Khosla', 'Dr Arvind  Kumar Agnihotri', 'Dr Arvinder Singh', 'Dr Atul Kumar Verma', 'Dr D Giribabu', 'Dr Deepak Sahu', 'Dr Deepika Rani', 'Dr Dharmender Singh', 'Dr GN Nikhil', 'Dr Geeta Sikka', 'Dr Ghanshyam Neje', 'Dr H M Mittal', 'Dr Harleen Dahiya', 'Dr Indu Chauhan', 'Dr J N Chakraborty', 'Dr K V P Singh', 'Dr Karan Veer', 'Dr Krishna Pal Sharma', 'Dr Kuldeep Singh Nagla', 'Dr L P Singh', 'Dr Lalatendu Behera', 'Dr Manjeet Singh', 'Dr Mohit Tyagi', 'Dr N C Kothiyal', 'Dr Navdeep Singh', 'Dr Neetu Divya', 'Dr Om Prakash Verma', 'Dr R Bansal', 'Dr R K Garg', 'Dr R K Sarin', 'Dr Raghaw Raman Sinha', 'Dr Rajeev Jindal', 'Dr Rajeev Verma', 'Dr Ravi Verma', 'Dr Ravinder Kumar', 'Dr Sadhika Khullar', 'Dr Sangeeta Obrai', 'Dr Sarbrinder Kaur', 'Dr Sateesh Kumar Awasthi', 'Dr Shailendra Singh Bhadauria', 'Dr Shashi Kant Sharma', 'Dr Subhash Chander', 'Dr Tangellapalli Srinivas', 'Dr Uma Shanker', 'Dr Varun Sharma', 'Dr Virender Singh', 'Dr. Akhil Khajuria', 'Dr. Amit Kumar Singh', 'Dr. Anjireddy Bhavanam', 'Dr. Anupam Yadav', 'Dr. Arvind Kumar', 'Dr. Gyan Prakash', 'Dr. KUNWAR PAL', 'Dr. Kapil Kumar Goyal', 'Dr. Karan Jain', 'Dr. Narendra Kumar', 'Dr. Nitin Naresh Pandhare', 'Dr. Raman Bedi', 'Dr. Sarbjot Singh Sandhu', 'Dr. Satyender Singh', 'Dr. Sumer Singh Meena', 'Dr.Preeti Puri', 'Drishti Yadav', 'Girish Wadhwa', 'Gurkamal Nain Singh', 'Harimurugan Devarajan', 'Harmanpreet Meehnian', 'Harsh Kumar', 'Harsukhpreet Singh', 'Harwinder Singh', 'Indu chauhan', 'Jagwinder Singh', 'Jaivindra Singh', 'Jitender Sharma', 'K RAGHAVENDRA', 'K. Senthil', 'Kailash Sharma', 'Kiran Singh', 'Kuldeep Kumar', 'Lalit Jajpura', 'Lalit K. Awasthi', 'M Abdul Akbar', 'M. Zafar', 'MOHAMMAD ARIF', 'Mahesh Patel', 'Mandeep Singh Khamba', 'Manoj Kumar', 'Monica Sikka', 'Mukesh Kumar', 'NIKITA .', 'Naveen Kumar', 'Neha Agarwal', 'Nitin Sharma', 'Nonita Sharma', 'PALVI', 'Parampreet Singh', 'Pawan Kumar', 'Payal Bansal', 'Prashant Kumar', 'Pratibha', 'Priyavrat', 'Prof (Dr) S K sinha', 'Prof S Bawa', 'Raj Kumar Singh', 'Rajan Kumar', 'Rajesh Singla', 'Rajesh kumar', 'Rajneesh Rani', 'Rakesh Kumar', 'Raman Rao', 'Ramanjit Kaur', 'Ranchan Chauhan', 'Ravinder Kumar', 'Ravinder Singh', 'Ravinder Singh', 'Rishipal Singh', 'Robin Marlar Rajendran', 'S. Rupali', 'SUDHANSU DAS', 'Sandeep Verma', 'Sangeeta garg', 'Sanglakpam Chiranjiakumari Devi', 'Sanjay Kumar', 'Saumya Tripathi', 'Saurabh Kango', 'Shailendra Singh', 'Sharvan  kumar Pahujas', 'Shashank Tripathi', 'Sheela Tiwari', 'Simarjot Kaur Randhawa', 'Smitarani Pati', 'Somesh Agarwal', 'Sonia Chawla', 'Sukhjit Singh', 'Sukwinder Singh', 'Sumit Sharma', 'Sunil Kumar', 'Suraj Choudhary', 'Tanu Wadhera', 'Vickramjeet Singh', 'Vikash Kumar', 'Vinay Midha', 'Vinod Ashokan', 'Vishal Vasistha', 'Vivek Sharma', 'indu saini', 'nikhil rathi', 'rachna', 'shashikant yadav', 'Aditi Sharma', 'Aditya Dev Mishra', 'Ajay Kumar', 'Ajay Narayan Shukla', 'Anamika Sahu (Gulbake)', 'Arun Pratap Singh', 'Bhavna K', 'Bipin Kumar', 'Chirag Joshi', 'Deep Kumar', 'Dr Anil Kumar Patil', 'Dr K K Raina', 'Dr Manoj Kumar', 'Dr. Aditya  Kishore Saxena', 'Dr. Ajay K. Singh Chaudhary [PhD, IIT Indore]', 'Dr. Amrindra Pal', 'Dr. D. Tapas Kumar Dora', 'Dr. Dheeraj  Kumar Joshi (D.K.Joshi)', 'Dr. Havagiray Chitme', 'Dr. Hemraj Verma', 'Dr. Jabrinder Singh', 'Dr. Jogendra Kumar', 'Dr. Kuldeep Choudhary', 'Dr. Neeraj Kumar Sethiya', 'Dr. Pankaj Kumar', 'Dr. Prakash Tiwari', 'Dr. Ritika Mehra', 'Dr. Sakshi Semwal', 'Dr. Sanjaya Kumar Lenka (Ph.D.,IIT Indore)', 'Dr. Santosh Kumar', 'Dr. Suheel K. Porwal, Ph.D. Chemistry', 'Dr. Vikas Kumar Sharma', 'Dr. Vinod K. Gupta', 'Dr.ANUJ NAUTIYAL', 'Dr.Neeraj Kumar Pandey', 'Dr.Rakesh Kumar Saini', 'Garima Verma', 'HARI OM MAURYA', 'Kuldeep Choudhary', 'MANMOHAN SINGHAL', 'Madhu Sharma', 'Moumita Ghosh', 'NAFEES AKHTER FAROOQUI', 'NV SATHEESH MADHAV', 'Nafees Ahamad', 'Neha Joshi', 'Neha Singh', 'Nitin Kumar Gupta', 'P S Sharma', 'Parveen Kumar', 'Pravesh Belwal', 'Priyanka Panday', 'Prof.Naveen K.Singhal', 'Rahul Tiwari', 'Rakesh K. Pandey', 'Rakesh Mohan', 'Rama Sushil', 'Rashika Bangroo', 'Rashika Bangroo', 'Ravi Shukla', 'Samir Bhargava', 'Sandeep Sharma', 'Sanjay Garg', 'Saurabh Mishra', 'Seema Yadav', 'Shilpi agarwal', 'Sneh Lata Aswal', 'Sonika Singh', 'Sonika Singh', 'Srabanti Maji (Bhunia)', 'TARUMAY GHOSHAL', 'TARUN KUMAR', 'Vijay  Kumar Jain', 'Vivek Kumar Srivastava', 'anuj yadav', 'nalin somani', 'Carlos Guedes Soares', 'Joao Seixas', 'Marcelino Bicho dos Santos', 'Alamgir Rahman, Ph.D.', 'Allan Peter Davis', 'Alok Gupta', 'Anastasios Tsiatis', 'Bradley L. Kirkman', 'Carl Meyer', 'D W Brenner', 'David Dickey', 'David F Ollis', 'Dr. Stith T. Gower, Professor and Dept. Head', 'Ed Breitschwerdt', 'Frances Ligler', 'Fred A Wright', 'Harald Ade', 'Jan Genzer', 'Jay Narayan', 'Jerzy (Jerry) Bernholc', 'Jon Carr', 'Jon-Paul Maria', 'Jonathan Lindsey', 'Jose Alonso', 'Keith Gubbins', 'Kenneth Pollock', 'Morton A. Barlaz', 'Munindar P Singh', 'Myung-Hwan Whangbo', 'Orlin D Velev', 'Patrick Louis Combettes', 'RA Dean', 'Randy Jirtle', 'Robert B Handfield', 'Robert Handfield', 'Robert Heath', 'Rodolphe Barrangou', 'Ronald Sederoff', 'Saad A Khan', 'Todd R. Klaenhammer', 'Yuntian Zhu', 'A. Bernick Raj', 'Athbel Joe', 'Dr. Kesavan Karthikeyan', 'Dr.K.Javubar Sathick', 'Dr.S.Rajasekaran', 'G Marudhu', 'Haji Sheik Mohammed Mohammed', 'Hemavathy P. R', 'Katheeja Parveen', 'M RAJKUMAR', 'Maha Lingam', 'Meenakshi Ramalingam', 'N Hajara Beevi', 'PRAKASH N', 'Pervaz Ahmed M', 'S Srinivasan', 'SINDHU KUMAAR', 'Sarmila K', 'Sathik Ali I', 'V.M.Periasamy', 'Vijayaraghavan G.V', 'anitha G', 'john peter', 'sangeetha mk', 'ANAMIKA JAIN', 'ANUP SHRIVASTAVA', 'Abhishek Menon', 'Abhishek', 'Adrish Banerjee', 'Ajay Kumar Dwivedi', 'Akhilesh Kumar Maurya', 'Akhilesh Panchal', 'Akhilesh Tiwari', 'Amar Nath Yadav', 'Amaresh Kumar Sahoo', 'Amit Prabhakar', 'Amit singh', 'Anirudh singh', 'Anju Sharma', 'Ankit Singh', 'Ankur Gupta', 'Anuj Kaushik', 'Anupam Agrawal', 'Arti Gupta', 'Arushi Verma', 'Ashish Chaudhary', 'Ashutosh Mishra', 'Ayush Sinha', 'Ayushi Gupta', 'B. R. Singh', 'Bakshi Rohit Prasad', 'Bibhas Ghoshal', 'Bodhi Chakraborty', 'Chandan Kumar', 'Dipti Mishra', 'Divyesh Sachan', 'Dr Abhishek Kumar', 'Dr Ranjit Singh', 'Dr. Anand Kumar Tiwari', 'Dr. Ashutosh Kumar Singh', 'Dr. Bharat Singh', 'Dr. Kalpana Singh', 'Dr. Kavindra Kandpal', 'Dr. Krishna Kant Agrawal', 'Dr. Nitish Ojha', 'Dr. Ranjeet Kumar', 'Dr. Savitri Joshi', 'Dr. Shailendra Kumar', 'Dr. Shailendra Kumar', 'Dr. Utkarsh Goel', 'Dr. Vijay kumar Chaurasiya', 'FAIZAN AHMAD', 'G C Nandi', 'Gopal Chandra Jana', 'Jitendra Kumar Mishra', 'Kamal Kumar Chaudhary, Ph.D.', 'Kapil Mishra', 'Krishna Misra', 'Krishna Pratap Singh', 'Kuldeep Singh', 'Manali Gupta', 'Manas Gogoi', 'Manish Goswami', 'Manoj Kumar Pal', 'Mayank Kumar Aditia', 'Md Iftekhar Alam', 'Monika Rani', 'Mridul Mahajan', 'NEERAJ SONANIYA', 'Neera Saxena', 'Neetesh Purohit', 'Nidhi Kushwaha', 'Nidhi Mishra', 'Nidhi Verma (PhD)', 'Niharika Anand', 'Nimisha Roy', 'Nitish Andola', 'PANKAJ TYAGI', 'Pallavi Dixit', 'Pankaj Warbal', 'Pavan Chakraborty', 'Pavan Gangwar', 'Pavan Kumar Gautam', 'Pinki K. Sharma', 'Pooja Mishra', 'Pradheepkumar singaravelu', 'Pragya Singh', 'Pramod Kumar', 'Prasanna Kumar Misra', 'Prashant Gupta', 'Prateek Mishra', 'Purav Parikh', 'Rahul Gautam', 'Rahul Kala', 'Raman Goyal', 'Ravi Pratap Tripathi', 'Rekha  Verma', 'Rohit Mishra', 'S M haider jafri', 'SANDEEP TRIPATHI', 'Sangeeta Singh', 'Sanjai Singh', 'Sanjay Kumar Sonbhadra', 'Saurabh Shivalkar', 'Seema Mishra', 'Shailesh Kumar', 'Shaishav Agrawal', 'Shivangi Nigam', 'Shivangi Raman', 'Shrikant Malviya', 'Shwet Ketu', 'Shweta Agarwal', 'Sintu Kumar Samanta', 'Sitangshu Bhattacharya', 'Sonali Agarwal', 'Soumit Samadder Chaudhury', 'Srijit Bhattacharjee', 'Sudipta Das', 'Sunanda Ambulker', 'Sunny', 'Swarnima Singh Gautam', 'TEJASVEE BISEN', 'TINKU SINGH', 'Tapobrata Lahiri', 'Tinku Singh', 'Triloki Pant', 'Uma Shanker Tiwary', 'VAIBHAV MALVIYA', 'VK Jatav', 'Vibhu Srivastava', 'Vikash Kumar Mishra', 'Vikash', 'Vineet Tiwari', 'Vishal Singh', 'Vrijendra Singh', 'abhishek vaish', 'agrim khanna', 'priya shukla', 'shruti jaiswal', 'sudhakar Mishra', 'sunanda ambulkar', 'Bhatkhande Dhananjay', 'M L Dhore', 'M.V. Wyawahare', 'S. T. Patil', 'SHRIKANT CHANDAN', 'Sagar Kulkarni', 'Ajay K Talele', 'Anil kadu', 'Archana Chaudhari', 'Ashutosh Marathe', 'Chetan V Kapadnis', 'Chippa S P', 'Deepali Joshi', 'Dhiraj Jadhav', 'Dr Shilpa M. Lambor', 'Dr. Ashutosh M. Kulkarni', 'Dr. Laxmikant Mangate', 'Dr. Manik Deosarkar', 'Dr. Premanand P Ghadekar', 'Dr. Sanika S Patankar', 'Dr. Shrikaant  Kulkarni', 'Dr. Vijay Gaikwad', 'Gajanan Gambhire', 'Ganesh Bhutkar', 'Girish Kotwal', 'J. A. Gaikwad', 'KETAN RATHOD', 'Kanchan Varpe', 'Kavita Ugale', 'M. M. Shidore', 'Milind Patwardhan', 'Nandakishor Dhanaji Valakunde', 'Noshir Tarapore', 'Parth Kelkar', 'Pooja Kulkarni', 'Prakash Kulkarni', 'Praveen Pol', 'Pravin Rathod', 'Preeti Bailke', 'Priyank Kularia', 'Prof Deepali Deshpande', 'Prof.Dr.Varsha Karandikar', 'Pushkar Joglekar', 'Rahul Diwate', 'Rahul Waikar', 'Rajesh Chaudhari', 'Rajesh Dhake', 'Rupali Tornekar', 'S.N.Raut', 'SIDDHARTH DESHMUKH', 'Sairaj Patil', 'Satchidanand Satpute', 'Saurabh Khatri', 'Shamrao Malgonde', 'Shaygan Hallaj', 'Shilpa Sondkar', 'Sidharth B. Bhorge', 'Sunil Shinde', 'Swati Shilaskar', 'Umesh Chavan', 'Vedant Shukla', 'Vivek Deshpande', 'haribhau phakatkar', 'madhuri  C.deshpande', 'mahesh dube', 'milind rane', 'milind tirmare', 'satish inamdar', 'umesh kodgule', 'A L Subramanian', 'A M Abirami 0000-0002-7957-5143', 'A Sheik Abdullah', 'Abirami S', 'Anitha D(0000-0001-6915-3986)', 'Arockia Edwin Xavier', 'Arun Fera', 'Aruna Mohan', 'B Sathyabama,0000-0003-2670-4340', 'B Subbulakshmi (https://orcid.org/0000-0001-5247-9904)', 'B.KARTHIKEYAN', 'Babulal C.K.', 'Banumathi Arumugam', 'Baskaran T (ORCID 0000-0002-5973-5701)', 'C SenthilKumar (ORCID-0000-0002-6660-745X)', 'Chandran Sundararaj, https://orcid.org/0000-0002-9197-7532', 'D Kavitha', 'D RAJKUMAR', 'D Ravindran', 'D TamilSelvi', 'D.Gracia Nirmala Rani', 'Danyson Jose Theres D', 'Deepamangai palanivel', 'Dhinesh kumar Devendiran', 'Dr .G . Jothilakshmi, https://orcid.org/0000-0001-9940-8820', 'Dr A Anitha  0000-0003-0862-7046', 'Dr A P Pushpalatha ,  https://orcid.org/0000-0001-6697-7867', 'Dr C Deisy', 'Dr C Paramasivam', 'Dr D Brindha   (0000-0003-4171-0909)', 'Dr G Ananthi https://orcid.org/0000-0002-1942-743X', 'Dr G Kanagaraj (ORCID ID 0000-0003-1321-1686)', 'Dr G S R Emil Selvan', 'Dr K Hariharan', 'Dr K Selvi', 'Dr M C Sundarraja', 'Dr M Geethanjali', 'Dr M S K Manikandan', 'Dr M Saravanan', 'Dr R A Alagu Raja(0000-0001-5524-1221)', 'Dr R Kodi Pandyan(Oricd Id-0000-0003-1494-8970)', 'Dr R Ponnudurai(orcid : https://orcid.org/0000-0001-6917-1121)', 'Dr R Rajan Prakash', 'Dr R Velkennedy(orcid ID 0000-0001-6536-8779)', 'Dr S J Thiruvengadam', 'Dr S Latha', 'Dr T Velrajan(VEL RAJAN THANGARAJ ORCID iD https://orcid.org/0000-0001-7010-5113)', 'Dr V Saravanan', 'Dr. A. Karuppasamy', 'Dr. Chandrakumar Thangavel', 'Dr. D.Nelson Jayakumar 0000-0002-2480-7824', 'Dr. G.Chitra (0000-0001-6851-2190)', 'Dr. K. Chockalingam (0000-0002-2268-359X)', 'Dr. P.Venkatesh', 'Dr. S. Charles Raja', 'Dr. S.Saravana Perumaal (0000-0002-6545-2783)', 'Dr. Sudhaman Parthasarathy', 'Dr.(Mrs.)R Sukanesh', 'Dr.A.SAMUEL RAJA (0000-0002-1811-217X)', 'Dr.K.Srithar', 'Dr.L Radha(0000-0001-6959-5936)  (vidwan 116287 )', 'Dr.S.Manikandan', 'Dr.Vasudevan Karuppiah (https://orcid.org/0000-0003-4790-1909)', 'E Ramanujam', 'Eanest Jebasingh Benjamin', 'G Kumaraguruparan(0000-0002-4466-3346)', 'G Madhupriya (Orcid Id: 0000-0002-8922-0266)', 'Gayathri N', 'Gayathri Venkatachari', 'H Ramesh (ORCHID-0000-0002-0890-2848)', 'Helen R', 'Himali Vaghela', 'I Chandramathy', 'Idrish Khan', 'Indira Indira', 'J.Josalin Jemima', 'JEYKUMAR R.K.C., https://orcid.org/0000-0002-5361-1046', 'Jalila Nasreen.A', 'Janani Venugopal', 'Jeyamala Chandrasekaran (ORCID ID: 0000-0001-5233-4393)', 'Jinu Louishidha Kitchley', 'K Rajeswari 0000-0002-7834-4183', 'K V Uma ,https://orcid.org/0000-0002-7079-3101', 'Kamaraj Nagappan (ORCID ID 0000-0002-0424-5529)', 'Kanagaraj G', 'Karthic M (0000-0002-2713-9550)', 'Karthigaipriya (ORCID: 0000-0002-0870-215X)', 'M Balamurali', 'M Kannan', 'M Manikandakumar 0000-0003-2648-7139', 'M N Suresh', 'M P Ramkumar', 'M Suguna (Orcid id: 0000-0002-4775-9773)', 'M Varatharajan', 'M.Elango', 'M.Sivakumar(0000-0003-0854-2683)', 'Mahadevan ML', 'Mani Chandran Thirumoolam', 'Manickam Mahendran, Ph.D., FASCh.', 'Manikandan S', 'Mrs S Pudu Malar', 'N Shanmuga Vadivoo', 'N Shivakumar', 'N.B.Balamurugan (0000-0002-0541-6123)', 'N.Nithya', 'Narasimha Mallikarjunan,K  (0000-0002-9517-100X)', 'Naveen Krishna V', 'P Chitra (ORCID 0000-0002-0235-1205)', 'P G S Velmurugan', 'P Karthikeyan (ORCID:0000-0003-2703-4051)', 'P Maran', 'P.S.MANOHARAN', 'PIRAIARASI C', 'Padmavathi Durairaj 0000-0002-4072-4869', 'Palani natharaja', 'Palaniappan PL.K', 'Prakash T (0000-0001-7496-1427)', 'Priya Kannapiran', 'Prof V Suresh Kumar', 'Prof. M K Kavitha Devi  https://orcid.org/0000-0002-5690-1049', 'Prof. S.Baskar  0000-0002-2735-0487', 'Prof.M.Kottaisamy', 'R Leena Sri', 'R Medeswaran', 'R Suganya 0000-0003-1874-6479', 'R Vasuki /0000-0003-3828-1824', 'R. Hemavathi', 'R.Parkavi (https://orcid.org/0000-0002-8233-0104)', 'RAJARAM S  0000-0001-8015-5878', 'Raja Lavanya(orcid.org-0000-0002-5826-1110)', 'Rajan Prakash', 'Rajasekar A', 'Ram kumar Gurumurthy', 'S Balaji', 'S Jeya bharathi', 'S Julius Fusic', 'S Kannan', 'S KarthiKeyan', 'S Mercy Shalinie', 'S Mohamed Mansoor Roomi', 'S Nagan(orcid 0000-0002-3474-5065)', 'S Prasanna 0000-0001-6859-9089', 'S Sivasangari (ORCID 0000-0002-9156-1385)', 'S Sridevi', 'S Vijayalakshmi(https://orcid.org/0000-0002-2227-7567)', 'S.R.Thiruchelve (https://orcid.org/0000-0002-6964-5240)', 'S.Rajkumar 0000-0003-3236-184X', 'SARANYA T', 'SIVASANKAR G', 'Sanjay Kumar R(orcid/0000-0001-7758-0005)', 'Sankayya Muthuramalingam', 'Sassi Rekha ORCID:https://orcid.org/0000-0002-9180-0817', 'Selva Kumar C (0000-0002-4165-5092)', 'Sivasankaran Rengasamy']\n"
     ]
    }
   ],
   "source": [
    "print(inds)\n",
    "print(loaded_prof_names)"
   ]
  },
  {
   "cell_type": "code",
   "execution_count": null,
   "metadata": {},
   "outputs": [],
   "source": []
  }
 ],
 "metadata": {
  "kernelspec": {
   "display_name": "Python 3",
   "language": "python",
   "name": "python3"
  },
  "language_info": {
   "codemirror_mode": {
    "name": "ipython",
    "version": 3
   },
   "file_extension": ".py",
   "mimetype": "text/x-python",
   "name": "python",
   "nbconvert_exporter": "python",
   "pygments_lexer": "ipython3",
   "version": "3.8.8"
  },
  "toc": {
   "base_numbering": 1,
   "nav_menu": {},
   "number_sections": true,
   "sideBar": true,
   "skip_h1_title": false,
   "title_cell": "Table of Contents",
   "title_sidebar": "Contents",
   "toc_cell": false,
   "toc_position": {},
   "toc_section_display": true,
   "toc_window_display": false
  },
  "varInspector": {
   "cols": {
    "lenName": 16,
    "lenType": 16,
    "lenVar": 40
   },
   "kernels_config": {
    "python": {
     "delete_cmd_postfix": "",
     "delete_cmd_prefix": "del ",
     "library": "var_list.py",
     "varRefreshCmd": "print(var_dic_list())"
    },
    "r": {
     "delete_cmd_postfix": ") ",
     "delete_cmd_prefix": "rm(",
     "library": "var_list.r",
     "varRefreshCmd": "cat(var_dic_list()) "
    }
   },
   "types_to_exclude": [
    "module",
    "function",
    "builtin_function_or_method",
    "instance",
    "_Feature"
   ],
   "window_display": false
  }
 },
 "nbformat": 4,
 "nbformat_minor": 4
}
