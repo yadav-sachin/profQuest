{
 "cells": [
  {
   "cell_type": "code",
   "execution_count": 1,
   "metadata": {
    "ExecuteTime": {
     "end_time": "2021-04-30T17:04:42.141375Z",
     "start_time": "2021-04-30T17:04:40.452278Z"
    }
   },
   "outputs": [],
   "source": [
    "# Reference used: https://www.geeksforgeeks.org/tf-idf-for-bigrams-trigrams/\n",
    "import nltk \n",
    "import re \n",
    "import math\n",
    "import numpy as np\n",
    "import pandas as pd\n",
    "from sklearn.feature_extraction.text import CountVectorizer, TfidfVectorizer\n",
    "from sklearn.metrics.pairwise import cosine_similarity \n",
    "from sklearn.metrics.pairwise import linear_kernel\n",
    "from sklearn.preprocessing import normalize\n",
    "from sklearn.linear_model import Ridge, LinearRegression\n",
    "from nltk.corpus import stopwords\n",
    "from nltk.tokenize import word_tokenize\n",
    "from nltk.stem import PorterStemmer\n",
    "from nltk.util import ngrams\n",
    "import pandas as pd   \n",
    "import jsonlines\n",
    "import json\n",
    "from tqdm.notebook import tqdm\n",
    "import pickle\n",
    "from scipy.sparse import csr_matrix\n",
    "from difflib import SequenceMatcher\n",
    "from heapq import nlargest as _nlargest"
   ]
  },
  {
   "cell_type": "code",
   "execution_count": 2,
   "metadata": {
    "ExecuteTime": {
     "end_time": "2021-04-30T17:04:42.156546Z",
     "start_time": "2021-04-30T17:04:42.143755Z"
    }
   },
   "outputs": [
    {
     "data": {
      "application/javascript": [
       "if (!(\"Notification\" in window)) {\n",
       "    alert(\"This browser does not support desktop notifications, so the %%notify magic will not work.\");\n",
       "} else if (Notification.permission !== 'granted' && Notification.permission !== 'denied') {\n",
       "    Notification.requestPermission(function (permission) {\n",
       "        if(!('permission' in Notification)) {\n",
       "            Notification.permission = permission;\n",
       "        }\n",
       "    })\n",
       "}\n"
      ],
      "text/plain": [
       "<IPython.core.display.Javascript object>"
      ]
     },
     "metadata": {},
     "output_type": "display_data"
    }
   ],
   "source": [
    "%load_ext jupyternotify"
   ]
  },
  {
   "cell_type": "code",
   "execution_count": 3,
   "metadata": {
    "ExecuteTime": {
     "end_time": "2021-04-30T17:04:42.537350Z",
     "start_time": "2021-04-30T17:04:42.158603Z"
    }
   },
   "outputs": [
    {
     "name": "stderr",
     "output_type": "stream",
     "text": [
      "[nltk_data] Downloading package punkt to\n",
      "[nltk_data]     C:\\Users\\RAGHAV\\AppData\\Roaming\\nltk_data...\n",
      "[nltk_data]   Package punkt is already up-to-date!\n",
      "[nltk_data] Downloading package stopwords to\n",
      "[nltk_data]     C:\\Users\\RAGHAV\\AppData\\Roaming\\nltk_data...\n",
      "[nltk_data]   Package stopwords is already up-to-date!\n"
     ]
    },
    {
     "data": {
      "text/plain": [
       "True"
      ]
     },
     "execution_count": 3,
     "metadata": {},
     "output_type": "execute_result"
    }
   ],
   "source": [
    "nltk.download('punkt')\n",
    "nltk.download('stopwords')"
   ]
  },
  {
   "cell_type": "code",
   "execution_count": 4,
   "metadata": {
    "ExecuteTime": {
     "end_time": "2021-04-30T17:04:45.195086Z",
     "start_time": "2021-04-30T17:04:42.539842Z"
    }
   },
   "outputs": [
    {
     "data": {
      "application/vnd.jupyter.widget-view+json": {
       "model_id": "",
       "version_major": 2,
       "version_minor": 0
      },
      "text/plain": [
       "0it [00:00, ?it/s]"
      ]
     },
     "metadata": {},
     "output_type": "display_data"
    }
   ],
   "source": [
    "documents = []\n",
    "prof_names = []\n",
    "docID = {}\n",
    "userIndex = {}\n",
    "term_total_citations = {}\n",
    "author_term_citations = {}\n",
    "idx = 0\n",
    "with jsonlines.open('data_india_sample.jl') as reader:\n",
    "    for obj in tqdm(reader, leave=False):\n",
    "        if obj['user'] not in userIndex:\n",
    "            documents.append(obj)\n",
    "            prof_names.append(obj['name'])\n",
    "            docID[idx] = obj['user']\n",
    "            userIndex[obj['user']] = idx\n",
    "            author_term_citations[obj['user']] = {}\n",
    "            idx += 1"
   ]
  },
  {
   "cell_type": "code",
   "execution_count": 5,
   "metadata": {
    "ExecuteTime": {
     "end_time": "2021-04-30T17:04:45.202398Z",
     "start_time": "2021-04-30T17:04:45.197344Z"
    }
   },
   "outputs": [],
   "source": [
    "# Code Taken From: https://www.geeksforgeeks.org/tf-idf-for-bigrams-trigrams/\n",
    "def remove_string_special_characters(s):\n",
    "    # removes special characters with ' '\n",
    "    stripped = re.sub('[^a-zA-z\\s]', ' ', s)\n",
    "#     print(stripped)\n",
    "    stripped = re.sub('_', ' ', stripped)\n",
    "      \n",
    "    # Change any white space to one space\n",
    "    stripped = re.sub('\\s+', ' ', stripped)\n",
    "      \n",
    "    # Remove start and end white spaces\n",
    "    stripped = stripped.strip()\n",
    "    if stripped != '':\n",
    "            return stripped.lower()"
   ]
  },
  {
   "cell_type": "code",
   "execution_count": 6,
   "metadata": {
    "ExecuteTime": {
     "end_time": "2021-04-30T17:04:45.208682Z",
     "start_time": "2021-04-30T17:04:45.204707Z"
    }
   },
   "outputs": [],
   "source": [
    "# Code Reference: https://www.geeksforgeeks.org/python-stemming-words-with-nltk/\n",
    "def stem_string(sentence):\n",
    "    ps = PorterStemmer()\n",
    "    \n",
    "    words = word_tokenize(sentence)\n",
    "    words = [ps.stem(word) for word in words]\n",
    "    return \" \".join(words)"
   ]
  },
  {
   "cell_type": "code",
   "execution_count": 7,
   "metadata": {
    "ExecuteTime": {
     "end_time": "2021-04-30T17:04:45.216382Z",
     "start_time": "2021-04-30T17:04:45.212110Z"
    }
   },
   "outputs": [],
   "source": [
    "def remove_stop_words(sentence):\n",
    "    stop_words = set(stopwords.words('english'))\n",
    "    words = word_tokenize(sentence)\n",
    "    words = [word for word in words if word not in stop_words]\n",
    "    return \" \".join(words)"
   ]
  },
  {
   "cell_type": "code",
   "execution_count": 8,
   "metadata": {
    "ExecuteTime": {
     "end_time": "2021-04-30T17:04:45.223644Z",
     "start_time": "2021-04-30T17:04:45.219513Z"
    }
   },
   "outputs": [],
   "source": [
    "def process_string(sentence):\n",
    "    sentence = remove_string_special_characters(sentence)\n",
    "    sentence = stem_string(sentence)\n",
    "    sentence = remove_stop_words(sentence)\n",
    "    return sentence"
   ]
  },
  {
   "cell_type": "code",
   "execution_count": null,
   "metadata": {},
   "outputs": [],
   "source": []
  },
  {
   "cell_type": "markdown",
   "metadata": {},
   "source": [
    "## Edit Distance Name"
   ]
  },
  {
   "cell_type": "code",
   "execution_count": null,
   "metadata": {},
   "outputs": [],
   "source": []
  },
  {
   "cell_type": "code",
   "execution_count": 9,
   "metadata": {},
   "outputs": [
    {
     "data": {
      "application/vnd.jupyter.widget-view+json": {
       "model_id": "",
       "version_major": 2,
       "version_minor": 0
      },
      "text/plain": [
       "  0%|          | 0/994 [00:00<?, ?it/s]"
      ]
     },
     "metadata": {},
     "output_type": "display_data"
    },
    {
     "name": "stdout",
     "output_type": "stream",
     "text": [
      "[('Sudipta Das', 'W30QIawAAAAJ'), ('A guptaa', 'tU2hq0MAAAAJ'), ('Ayushi Gupta', 'TocNeCQAAAAJ'), ('Prashant Gupta', 'TAWp5pUAAAAJ'), ('Arti Gupta', 'lhB9PMkAAAAJ'), ('Alok Gupta', 'U8XFUe0AAAAJ'), ('D.K. Gupta', 'mb1pZXIAAAAJ'), ('Ankur Gupta', '_RosYhQAAAAJ'), ('Manali Gupta', '1nFTrywAAAAJ'), ('Dipti Mishra', 'nk_hmfMAAAAJ')]\n"
     ]
    }
   ],
   "source": [
    "def get_close_matches_indexes(word, possibilities, n=10, cutoff=0.4):\n",
    "    \n",
    "    \"\"\"Use SequenceMatcher to return a list of the indexes of the best \n",
    "    \"good enough\" matches. word is a sequence for which close matches \n",
    "    are desired (typically a string).\n",
    "    possibilities is a list of sequences against which to match word\n",
    "    (typically a list of strings).\n",
    "    Optional arg n (default 3) is the maximum number of close matches to\n",
    "    return.  n must be > 0.\n",
    "    Optional arg cutoff (default 0.6) is a float in [0, 1].  Possibilities\n",
    "    that don't score at least that similar to word are ignored.\n",
    "    \"\"\"\n",
    "\n",
    "    if not n >  0:\n",
    "        raise ValueError(\"n must be > 0: %r\" % (n,))\n",
    "    if not 0.0 <= cutoff <= 1.0:\n",
    "        raise ValueError(\"cutoff must be in [0.0, 1.0]: %r\" % (cutoff,))\n",
    "    result = []\n",
    "    s = SequenceMatcher()\n",
    "    s.set_seq2(word)\n",
    "    for idx, x in enumerate(possibilities):\n",
    "        s.set_seq1(x)\n",
    "        if s.real_quick_ratio() >= cutoff and \\\n",
    "           s.quick_ratio() >= cutoff and \\\n",
    "           s.ratio() >= cutoff:\n",
    "            result.append((s.ratio(), idx))\n",
    "\n",
    "    # Move the best scorers to head of list\n",
    "    result = _nlargest(n, result)\n",
    "\n",
    "    # Strip scores for the best n matches\n",
    "    return [x for score, x in result]\n",
    "\n",
    "name_query = \"sudipta\"\n",
    "prof_names = []\n",
    "prof_ids = []\n",
    "for document in tqdm(documents, leave=False):\n",
    "    prof_names.append(document['name'])\n",
    "    prof_ids.append(document['user'])\n",
    "inds = get_close_matches_indexes(name_query, prof_names)\n",
    "res = [(prof_names[i],prof_ids[i]) for i in inds]\n",
    "print(res)"
   ]
  },
  {
   "cell_type": "code",
   "execution_count": null,
   "metadata": {},
   "outputs": [],
   "source": []
  },
  {
   "cell_type": "code",
   "execution_count": null,
   "metadata": {},
   "outputs": [],
   "source": []
  },
  {
   "cell_type": "code",
   "execution_count": null,
   "metadata": {},
   "outputs": [],
   "source": []
  },
  {
   "cell_type": "code",
   "execution_count": null,
   "metadata": {},
   "outputs": [],
   "source": []
  },
  {
   "cell_type": "markdown",
   "metadata": {},
   "source": [
    "## TF-IDF Matrix"
   ]
  },
  {
   "cell_type": "code",
   "execution_count": 10,
   "metadata": {
    "ExecuteTime": {
     "end_time": "2021-04-30T17:04:45.233207Z",
     "start_time": "2021-04-30T17:04:45.226237Z"
    }
   },
   "outputs": [],
   "source": [
    "def update_term_citations(document, sentence, numCitations, userID):\n",
    "    sentence = sentence.lower()\n",
    "    sentence = re.sub(r'[^a-zA-Z0-9\\s]', ' ', sentence)\n",
    "    tokens = [token for token in sentence.split(\" \") if token != \"\"]\n",
    "    for n in range(1, 5):\n",
    "        seen_ngms = []\n",
    "        ngms = list(ngrams(tokens, n))\n",
    "        for ngm in ngms:\n",
    "            gm = \" \".join(ngm)\n",
    "            if gm in seen_ngms:\n",
    "                continue\n",
    "            seen_ngms.append(gm)\n",
    "            if gm in author_term_citations[userID]:\n",
    "                author_term_citations[userID][gm] += numCitations\n",
    "            else:\n",
    "                author_term_citations[userID][gm] = numCitations\n",
    "            if gm in term_total_citations:\n",
    "                term_total_citations[gm] += numCitations\n",
    "            else:\n",
    "                term_total_citations[gm] = numCitations + 1"
   ]
  },
  {
   "cell_type": "code",
   "execution_count": 11,
   "metadata": {
    "ExecuteTime": {
     "end_time": "2021-04-30T17:05:05.626758Z",
     "start_time": "2021-04-30T17:04:45.235520Z"
    }
   },
   "outputs": [
    {
     "data": {
      "application/vnd.jupyter.widget-view+json": {
       "model_id": "",
       "version_major": 2,
       "version_minor": 0
      },
      "text/plain": [
       "  0%|          | 0/994 [00:00<?, ?it/s]"
      ]
     },
     "metadata": {},
     "output_type": "display_data"
    }
   ],
   "source": [
    "word_documents = []\n",
    "for document in tqdm(documents, leave=False):\n",
    "    sentences = []\n",
    "    for subject in document['subjects']:\n",
    "        sentence = process_string(subject)\n",
    "        sentences.append(sentence)\n",
    "        update_term_citations(document, sentence, int(document['citationsAll']), document['user'])\n",
    "    for paper in document['papers']:\n",
    "        try:\n",
    "            sentence = paper['title'] + \" \" + paper['conference']\n",
    "            sentence = process_string(sentence)\n",
    "        except: \n",
    "            continue\n",
    "        update_term_citations(document, sentence, paper['citations'], document['user'])\n",
    "        sentences.append(sentence)\n",
    "\n",
    "    word_documents.append(\".\\n\".join(sentences))"
   ]
  },
  {
   "cell_type": "code",
   "execution_count": 12,
   "metadata": {
    "ExecuteTime": {
     "end_time": "2021-04-30T17:05:05.663817Z",
     "start_time": "2021-04-30T17:04:41.680Z"
    }
   },
   "outputs": [
    {
     "data": {
      "application/vnd.jupyter.widget-view+json": {
       "model_id": "",
       "version_major": 2,
       "version_minor": 0
      },
      "text/plain": [
       "  0%|          | 0/994 [00:00<?, ?it/s]"
      ]
     },
     "metadata": {},
     "output_type": "display_data"
    },
    {
     "name": "stdout",
     "output_type": "stream",
     "text": [
      "(994, 370417)\n"
     ]
    }
   ],
   "source": [
    "vectorizer = TfidfVectorizer(stop_words='english', ngram_range=(1,4), analyzer='word')\n",
    "tfidf_matrix = vectorizer.fit_transform(word_documents) \n",
    "features = (vectorizer.get_feature_names())\n",
    "idf_scores = vectorizer.idf_\n",
    "\n",
    "cnt_vct = CountVectorizer(stop_words='english', ngram_range=(1,4), analyzer='word')\n",
    "cnt_matrix = cnt_vct.fit_transform(word_documents)\n",
    "cnt_features = cnt_vct.get_feature_names()\n",
    "\n",
    "idf_scores = csr_matrix(idf_scores)\n",
    "tfidf_new_matrix = csr_matrix.copy(csr_matrix.astype(cnt_matrix, dtype=np.float64))\n",
    "for row in tqdm(range(cnt_matrix.shape[0]), leave=False):\n",
    "    tfidf_new_matrix[row] = tfidf_new_matrix[row].multiply(idf_scores)\n",
    "print(tfidf_new_matrix.shape)"
   ]
  },
  {
   "cell_type": "markdown",
   "metadata": {
    "ExecuteTime": {
     "start_time": "2021-04-30T16:29:13.483Z"
    }
   },
   "source": [
    "### Multiply the Citations Log Factor"
   ]
  },
  {
   "cell_type": "code",
   "execution_count": 13,
   "metadata": {
    "ExecuteTime": {
     "end_time": "2021-04-30T17:05:05.667093Z",
     "start_time": "2021-04-30T17:04:41.683Z"
    }
   },
   "outputs": [
    {
     "data": {
      "application/vnd.jupyter.widget-view+json": {
       "model_id": "",
       "version_major": 2,
       "version_minor": 0
      },
      "text/plain": [
       "  0%|          | 0/994 [00:00<?, ?it/s]"
      ]
     },
     "metadata": {},
     "output_type": "display_data"
    }
   ],
   "source": [
    "feature_idx = {}\n",
    "for idx, feature in enumerate(cnt_features):\n",
    "    feature_idx[feature] = idx\n",
    "\n",
    "for author, author_dict in tqdm(author_term_citations.items(), leave=False):\n",
    "    for term, term_citations in author_dict.items():\n",
    "        if term in feature_idx:\n",
    "            term_idx = feature_idx[term]\n",
    "            author_idx = userIndex[author]\n",
    "            if tfidf_new_matrix[author_idx, term_idx]:\n",
    "                log_factor = math.log( 1 + (term_citations / term_total_citations[term]) , 2)\n",
    "                tfidf_new_matrix[author_idx, term_idx] *= log_factor"
   ]
  },
  {
   "cell_type": "markdown",
   "metadata": {},
   "source": [
    "# Activeness "
   ]
  },
  {
   "cell_type": "code",
   "execution_count": 14,
   "metadata": {
    "ExecuteTime": {
     "end_time": "2021-04-30T17:05:05.668843Z",
     "start_time": "2021-04-30T17:04:41.685Z"
    }
   },
   "outputs": [
    {
     "data": {
      "application/vnd.jupyter.widget-view+json": {
       "model_id": "",
       "version_major": 2,
       "version_minor": 0
      },
      "text/plain": [
       "  0%|          | 0/994 [00:00<?, ?it/s]"
      ]
     },
     "metadata": {},
     "output_type": "display_data"
    }
   ],
   "source": [
    "#check index orders\n",
    "\n",
    "#rows -> professors \n",
    "#columns -> 2020, 2020+2019, 2020+2019+2018 .... cumulative no of citations\n",
    "\n",
    "maxrng=20\n",
    "minyr,maxyr=2001,2020\n",
    "mat_activeness = np.zeros((len(documents),maxrng))\n",
    "ind=0\n",
    "for document in tqdm(documents, leave=False):\n",
    "    papers=document['papers']\n",
    "    for paper in papers:\n",
    "        paperyr=paper['year']\n",
    "        if paperyr>=minyr and paperyr<=maxyr:\n",
    "            dis=maxyr-paperyr\n",
    "            mat_activeness[ind,dis]+=paper['citations']\n",
    "    ind+=1\n",
    "\n",
    "ind=0\n",
    "for i in range(mat_activeness.shape[0]):\n",
    "    for j in range(mat_activeness.shape[1]):\n",
    "        if j>0:\n",
    "            mat_activeness[i,j]+=mat_activeness[i,j-1]\n",
    "            "
   ]
  },
  {
   "cell_type": "markdown",
   "metadata": {},
   "source": [
    "## Slope, Hindex, Institute Reputation"
   ]
  },
  {
   "cell_type": "code",
   "execution_count": 15,
   "metadata": {},
   "outputs": [],
   "source": [
    "def slope_calc(x,y):\n",
    "    x,y = np.array(x),np.array(y)\n",
    "    n=y.size\n",
    "    clf = LinearRegression(fit_intercept=False)\n",
    "#     xinds = np.array([i for i in range(n)]).reshape(-1,1)\n",
    "#     xinds = np.array([i+5000 for i in range(n)]).reshape(-1,1)\n",
    "    x = np.concatenate([np.ones((n,1)),x.reshape(-1,1)],axis=1)\n",
    "#     print(xinds)\n",
    "    clf.fit(x,y)\n",
    "    return clf.coef_[1]\n",
    "\n",
    "def get_insti_ranks():\n",
    "    files = [\"india_institutes.txt\", \"britain_institutes.txt\", \"america_institutes.txt\"]\n",
    "    insti_score = dict()\n",
    "    for file in files:\n",
    "        path = \"web_data/\"+file\n",
    "        with open(path,\"r\") as f:\n",
    "            insti = f.readlines()\n",
    "            instinew=[]\n",
    "            for institute in insti:\n",
    "                instinew.append(institute.strip())\n",
    "            insti = list(filter(lambda x:x!='\\n',instinew))\n",
    "            n = len(insti)\n",
    "            maxrank, minrank = 100,1\n",
    "            diff = (maxrank-minrank)/(n-1)\n",
    "            cur=maxrank\n",
    "            for institute in insti:\n",
    "                insti_score[institute] = cur\n",
    "                cur-=diff\n",
    "    return insti_score\n",
    "                         \n",
    "# d=get_insti_ranks()                         \n",
    "# print(d['Anurag Group of Institutions'])\n",
    "# slope_calc([3, 9, 14, 17, 32, 0, 49, 67, 62, 0, 94, 129, 42])\n"
   ]
  },
  {
   "cell_type": "code",
   "execution_count": 16,
   "metadata": {
    "ExecuteTime": {
     "end_time": "2021-04-30T17:05:05.671164Z",
     "start_time": "2021-04-30T17:04:41.688Z"
    }
   },
   "outputs": [
    {
     "data": {
      "application/vnd.jupyter.widget-view+json": {
       "model_id": "",
       "version_major": 2,
       "version_minor": 0
      },
      "text/plain": [
       "  0%|          | 0/994 [00:00<?, ?it/s]"
      ]
     },
     "metadata": {},
     "output_type": "display_data"
    },
    {
     "data": {
      "application/vnd.jupyter.widget-view+json": {
       "model_id": "",
       "version_major": 2,
       "version_minor": 0
      },
      "text/plain": [
       "  0%|          | 0/994 [00:00<?, ?it/s]"
      ]
     },
     "metadata": {},
     "output_type": "display_data"
    },
    {
     "data": {
      "application/vnd.jupyter.widget-view+json": {
       "model_id": "",
       "version_major": 2,
       "version_minor": 0
      },
      "text/plain": [
       "  0%|          | 0/994 [00:00<?, ?it/s]"
      ]
     },
     "metadata": {},
     "output_type": "display_data"
    }
   ],
   "source": [
    "# Columns -> slope of citations, hindex, institute reputation\n",
    "ranking_metrics = np.zeros((len(documents),3))\n",
    "\n",
    "# Slope of citations (omitting current year)\n",
    "# ref: https://www.varsitytutors.com/hotmath/hotmath_help/topics/line-of-best-fit\n",
    "ind=0\n",
    "for document in tqdm(documents, leave=False):\n",
    "    cits=[]\n",
    "    years=[]\n",
    "    for entry in document['yearCitations']:\n",
    "        dictx = json.loads(entry)\n",
    "        if dictx['year']<=2020:\n",
    "            cits.append(dictx['citations'])\n",
    "            years.append(dictx['year'])\n",
    "    if len(years)<=5:\n",
    "        ranking_metrics[ind,0]=0\n",
    "    else:    \n",
    "        ranking_metrics[ind,0]=slope_calc(years,cits)\n",
    "    ind+=1           \n",
    "min_slope =  np.min(ranking_metrics[:,0])\n",
    "if min_slope<0:\n",
    "    for i in range(ranking_metrics.shape[0]):\n",
    "        ranking_metrics[i,0]+=min_slope\n",
    "    \n",
    "# H index\n",
    "ind=0\n",
    "for document in tqdm(documents, leave=False):\n",
    "    ranking_metrics[ind,1]=document[\"h-indexAll\"]\n",
    "    ind+=1\n",
    "                                                                        \n",
    "#Institute Reputation\n",
    "insti_ranks = get_insti_ranks()\n",
    "ind=0\n",
    "for document in tqdm(documents, leave=False):\n",
    "    ranking_metrics[ind,2] = insti_ranks[document['institute']]\n",
    "    ind+=1\n",
    "    \n",
    "# print(ranking_metrics[599,:])\n",
    "                               "
   ]
  },
  {
   "cell_type": "code",
   "execution_count": null,
   "metadata": {},
   "outputs": [],
   "source": []
  },
  {
   "cell_type": "markdown",
   "metadata": {},
   "source": [
    "### Pickle the Matrix and Vectorizer"
   ]
  },
  {
   "cell_type": "code",
   "execution_count": 17,
   "metadata": {
    "ExecuteTime": {
     "end_time": "2021-04-30T17:05:05.677360Z",
     "start_time": "2021-04-30T17:04:41.694Z"
    }
   },
   "outputs": [],
   "source": [
    "pickle.dump(cnt_vct, open(\"web_data/count_vectorizer.pkl\", \"wb\"))\n",
    "pickle.dump(tfidf_new_matrix, open(\"web_data/tfidf_new_matrix.pkl\", \"wb\"))\n",
    "pickle.dump(docID, open(\"web_data/doc_id_dict.pkl\", \"wb\"))\n",
    "pickle.dump(mat_activeness, open(\"web_data/mat_activeness.pkl\", \"wb\"))\n",
    "pickle.dump(ranking_metrics, open(\"web_data/ranking_metrics.pkl\", \"wb\"))\n",
    "pickle.dump(documents, open(\"web_data/documents.pkl\", \"wb\"))\n",
    "pickle.dump(prof_names, open(\"web_data/prof_names.pkl\", \"wb\"))"
   ]
  },
  {
   "cell_type": "code",
   "execution_count": null,
   "metadata": {},
   "outputs": [],
   "source": []
  },
  {
   "cell_type": "markdown",
   "metadata": {},
   "source": [
    "### Query Subjects"
   ]
  },
  {
   "cell_type": "code",
   "execution_count": null,
   "metadata": {},
   "outputs": [],
   "source": []
  },
  {
   "cell_type": "code",
   "execution_count": 18,
   "metadata": {},
   "outputs": [],
   "source": [
    "\n",
    "# def query_subject(subject=\"data mining\"):\n",
    "    \n",
    "#     # tf-idf\n",
    "#     query = process_string(query)\n",
    "#     cnt_matrix_query = cnt_vct.transform([query])\n",
    "#     cnt_matrix_query = csr_matrix.transpose(cnt_matrix_query)\n",
    "\n",
    "\n",
    "#     res = tfidf_new_matrix * cnt_matrix_query\n",
    "#     res = csr_matrix.transpose(res)\n",
    "#     res = res.toarray()[0]\n",
    "#     related_docs_indices = res.argsort()\n",
    "#     related_docs_indices = related_docs_indices[::-1]\n",
    "#     related_results = [docID[i] for i in related_docs_indices]\n",
    "    \n",
    "#     # activness\n",
    "#     activeness_factor = 2\n",
    "    \n",
    "    \n",
    "#     return related_results"
   ]
  },
  {
   "cell_type": "code",
   "execution_count": 19,
   "metadata": {},
   "outputs": [],
   "source": [
    "# query_subject()"
   ]
  },
  {
   "cell_type": "code",
   "execution_count": null,
   "metadata": {},
   "outputs": [],
   "source": []
  },
  {
   "cell_type": "markdown",
   "metadata": {},
   "source": [
    "### Pickled Testing"
   ]
  },
  {
   "cell_type": "code",
   "execution_count": 20,
   "metadata": {},
   "outputs": [],
   "source": [
    "loaded_cnt_vct = pickle.load(open(\"web_data/count_vectorizer.pkl\", \"rb\"))\n",
    "loaded_tfidf_new_matrix = pickle.load(open(\"web_data/tfidf_new_matrix.pkl\", \"rb\"))\n",
    "loaded_docID = pickle.load(open(\"web_data/doc_id_dict.pkl\", \"rb\"))\n",
    "loaded_mat_activeness = pickle.load(open(\"web_data/mat_activeness.pkl\", \"rb\"))\n",
    "loaded_ranking_metrics = pickle.load(open(\"web_data/ranking_metrics.pkl\", \"rb\"))\n",
    "loaded_documents = pickle.load(open(\"web_data/documents.pkl\", \"rb\"))\n",
    "loaded_prof_names = pickle.load(open(\"web_data/prof_names.pkl\", \"rb\"))"
   ]
  },
  {
   "cell_type": "code",
   "execution_count": 21,
   "metadata": {},
   "outputs": [],
   "source": [
    "def get_tf_idf_vec(query):\n",
    "    query = process_string(query)\n",
    "    cnt_matrix_query = loaded_cnt_vct.transform([query])\n",
    "    cnt_matrix_query = csr_matrix.transpose(cnt_matrix_query)\n",
    "\n",
    "    result = loaded_tfidf_new_matrix * cnt_matrix_query\n",
    "    result = csr_matrix.transpose(result)\n",
    "    result = result.toarray()[0]\n",
    "    \n",
    "    return result\n",
    "\n",
    "def get_active_vec(year):\n",
    "    col = year-1\n",
    "    citations = loaded_mat_activeness[:,col].squeeze()\n",
    "    return citations\n",
    "\n",
    "def get_slope_vec():\n",
    "    return loaded_ranking_metrics[:,0].squeeze()\n",
    "\n",
    "def get_hindex_vec():\n",
    "    return loaded_ranking_metrics[:,1].squeeze()\n",
    "    \n",
    "def get_insti_vec():\n",
    "    return loaded_ranking_metrics[:,2].squeeze()\n",
    "\n",
    "def normalise(x):\n",
    "    return x/np.linalg.norm(x)\n",
    "\n",
    "\n",
    "def query_subject(user_input):\n",
    "    \n",
    "    #parameters\n",
    "    params = ['tfidf', 'active', 'slope', 'hindex', 'insti']\n",
    "    ranks={}\n",
    "    for param in params:\n",
    "        ranks[param]={}\n",
    "    \n",
    "    #set weight factors\n",
    "    ranks['tfidf']['wt'] = user_input['tfidf_score']\n",
    "    ranks['active']['wt'] = user_input['active_score']\n",
    "    ranks['hindex']['wt'] = user_input['hindex_score']\n",
    "    ranks['slope']['wt'] = user_input['slope_score']\n",
    "    ranks['insti']['wt'] = user_input['insti_score']\n",
    "    \n",
    "    #scale up \n",
    "    total_user_input_wt = 0\n",
    "    for key,val in ranks.items():\n",
    "        total_user_input_wt += val['wt']\n",
    "    factor = 100/total_user_input_wt\n",
    "    for key,val in ranks.items():\n",
    "        val['wt'] *= factor\n",
    "    \n",
    "#     print(ranks)\n",
    "    \n",
    "    #tf-idf\n",
    "    ranks['tfidf']['vec'] = normalise(get_tf_idf_vec(user_input['query_string']))\n",
    "#     print(ranks['tfidf']['vec'].shape)\n",
    "    \n",
    "    #activeness\n",
    "    ranks['active']['vec'] = normalise(get_active_vec(user_input['active_yr']))\n",
    "#     print(ranks['active']['vec'].shape)\n",
    "    \n",
    "    #slope of citations\n",
    "    ranks['slope']['vec'] = normalise(get_slope_vec())\n",
    "    \n",
    "    #h-index\n",
    "    ranks['hindex']['vec'] = normalise(get_hindex_vec())\n",
    "    \n",
    "    #institute reputation\n",
    "    ranks['insti']['vec'] = normalise(get_insti_vec())\n",
    "    \n",
    "#     print(ranks['active']['vec'])\n",
    "    \n",
    "    #final score\n",
    "    final_sc = np.zeros(ranks['tfidf']['vec'].size)\n",
    "    for key,val in ranks.items():\n",
    "        final_sc += val['wt']*val['vec']\n",
    "        \n",
    "    indices = final_sc.argsort()\n",
    "    indices = indices[::-1]\n",
    "    profs = [(i,loaded_documents[i],loaded_docID[i],final_sc[i]) for i in indices]\n",
    "    metrics = []\n",
    "    for ind in indices:\n",
    "        metrics.append([ind,\n",
    "                        ranks['tfidf']['vec'][ind],\n",
    "                        ranks['active']['vec'][ind],\n",
    "                        ranks['slope']['vec'][ind],\n",
    "                       ranks['hindex']['vec'][ind],\n",
    "                        ranks['insti']['vec'][ind],\n",
    "                       ])\n",
    "        \n",
    "    return profs, metrics"
   ]
  },
  {
   "cell_type": "code",
   "execution_count": 27,
   "metadata": {},
   "outputs": [
    {
     "name": "stdout",
     "output_type": "stream",
     "text": [
      "['0MNT3h8AAAAJ', 'hPvt6d8AAAAJ', 'a2Wgu0EAAAAJ', 'HTVepekAAAAJ', '1TgzFksAAAAJ', '3RND6lUAAAAJ', 'inrwXiIAAAAJ', 'cVdB1iwAAAAJ', 'mJIUC0UAAAAJ', 'leKXwz4AAAAJ', '3gHKDo4AAAAJ', 'VhoipoUAAAAJ', '3jc0vZsAAAAJ', 'N2O8hI4AAAAJ', 'slAHcFIAAAAJ', 'bwZHQ8EAAAAJ', '2PDhWl0AAAAJ', '7k6tzDAAAAAJ', 'sIQDguEAAAAJ', 'mb1pZXIAAAAJ', 'cv7Xbu8AAAAJ', 'H85F5q8AAAAJ', 'h55vyUQAAAAJ', '7D4ts0YAAAAJ', 'rNeidT4AAAAJ', 'X5Bjw-wAAAAJ', 'Rln7jKAAAAAJ', 'zlyCnPsAAAAJ', 'stMEHeUAAAAJ', '8mGCr2oAAAAJ', 'qXQPkuEAAAAJ', 'DGNTCYEAAAAJ', 'enGoLCQAAAAJ', '5EtPkJoAAAAJ', '1y6Z-ckAAAAJ', 'B_oQnccAAAAJ', '-875CKoAAAAJ', '8g3TkDAAAAAJ', 'qCzk-pYAAAAJ', 'dIypbs4AAAAJ', 'YGAmZF4AAAAJ', 'K834eKgAAAAJ', 'ppEhO9YAAAAJ', 'verRbuoAAAAJ', 'S8cDuZ4AAAAJ', '11MDgP4AAAAJ', 'cWcqrncAAAAJ', 'qvckJGkAAAAJ', 'CU5RlLYAAAAJ', '0u7mV4cAAAAJ', 'U1H8JZEAAAAJ', '_TpoQ08AAAAJ', 'mEs0PmoAAAAJ', 'sphOH2IAAAAJ', '3WEQbgMAAAAJ', 'R7pbH9YAAAAJ', '_GVZlQ4AAAAJ', 'QJNq4-YAAAAJ', 'cTkda4oAAAAJ', 'zYs3TaAAAAAJ', 'UerEKpIAAAAJ', 'bzOdHtwAAAAJ', 'mDMBpDEAAAAJ', 'wGNrpD4AAAAJ', 'q-_jk8wAAAAJ', 'hMywgWUAAAAJ', 'sEoRaxQAAAAJ', 'QM9qltUAAAAJ', 'subvPdQAAAAJ', 'Cd_tFkUAAAAJ', 'H7jzu-QAAAAJ', '5h2LnBcAAAAJ', 'pLE4PTYAAAAJ', 'FVTyjCAAAAAJ', 'BafR46oAAAAJ', 'OSdXHS8AAAAJ', '-k5OiuwAAAAJ', 'u86drLgAAAAJ', 'EWG-qssAAAAJ', 'CWCHSmoAAAAJ', '5XqbBqEAAAAJ', '8qiTzY0AAAAJ', 'Go68I-cAAAAJ', '2O4MQ-kAAAAJ', '2yRcKGgAAAAJ', '37CNdWQAAAAJ', 'khY76cYAAAAJ', '2NOoOgsAAAAJ', 'asu9hvIAAAAJ', 'ZitY-ZgAAAAJ', 'xBen0NcAAAAJ', 'f0lk958AAAAJ', '1YLbgQ4AAAAJ', 'eE0Le_sAAAAJ', 'Ihcdv4UAAAAJ', '5y5Uev4AAAAJ', 'KA5t_VQAAAAJ', 'HBGr9_0AAAAJ', 'epuogiEAAAAJ', '1BuQRewAAAAJ']\n"
     ]
    }
   ],
   "source": [
    "## generate in code using user input\n",
    "input_obj = dict()\n",
    "input_obj['query_string'] = 'machine learning'\n",
    "input_obj['active_yr'] = 5\n",
    "input_obj['tfidf_score'] = 1\n",
    "input_obj['active_score'] = 0\n",
    "input_obj['hindex_score'] = 0\n",
    "input_obj['slope_score'] = 0\n",
    "input_obj['insti_score'] = 10\n",
    "\n",
    "profs, _ = query_subject(input_obj)\n",
    "top_100=[]\n",
    "cnt=0\n",
    "while cnt<100:\n",
    "    top_100.append(profs[cnt][2])\n",
    "    cnt+=1\n",
    "print(top_100)\n",
    "# print(metrics[0])"
   ]
  },
  {
   "cell_type": "code",
   "execution_count": 23,
   "metadata": {},
   "outputs": [],
   "source": [
    "# print(loaded_mat_activeness[599,:])"
   ]
  },
  {
   "cell_type": "code",
   "execution_count": 24,
   "metadata": {
    "ExecuteTime": {
     "end_time": "2021-04-30T17:05:05.692397Z",
     "start_time": "2021-04-30T17:04:41.699Z"
    }
   },
   "outputs": [],
   "source": [
    "#old code\n",
    "\n",
    "# query=\"data mining\"\n",
    "# query = process_string(query)\n",
    "# cnt_matrix_query = loaded_cnt_vct.transform([query])\n",
    "# cnt_matrix_query = csr_matrix.transpose(cnt_matrix_query)\n",
    "\n",
    "# result = loaded_tfidf_new_matrix * cnt_matrix_query\n",
    "# result = csr_matrix.transpose(result)\n",
    "# result = result.toarray()[0]\n",
    "# related_docs_indices = result.argsort()\n",
    "# related_docs_indices = related_docs_indices[::-1]\n",
    "# related_results = [loaded_docID[i] for i in related_docs_indices]"
   ]
  },
  {
   "cell_type": "code",
   "execution_count": null,
   "metadata": {},
   "outputs": [],
   "source": []
  }
 ],
 "metadata": {
  "kernelspec": {
   "display_name": "Python 3",
   "language": "python",
   "name": "python3"
  },
  "language_info": {
   "codemirror_mode": {
    "name": "ipython",
    "version": 3
   },
   "file_extension": ".py",
   "mimetype": "text/x-python",
   "name": "python",
   "nbconvert_exporter": "python",
   "pygments_lexer": "ipython3",
   "version": "3.8.8"
  },
  "toc": {
   "base_numbering": 1,
   "nav_menu": {},
   "number_sections": true,
   "sideBar": true,
   "skip_h1_title": false,
   "title_cell": "Table of Contents",
   "title_sidebar": "Contents",
   "toc_cell": false,
   "toc_position": {},
   "toc_section_display": true,
   "toc_window_display": false
  },
  "varInspector": {
   "cols": {
    "lenName": 16,
    "lenType": 16,
    "lenVar": 40
   },
   "kernels_config": {
    "python": {
     "delete_cmd_postfix": "",
     "delete_cmd_prefix": "del ",
     "library": "var_list.py",
     "varRefreshCmd": "print(var_dic_list())"
    },
    "r": {
     "delete_cmd_postfix": ") ",
     "delete_cmd_prefix": "rm(",
     "library": "var_list.r",
     "varRefreshCmd": "cat(var_dic_list()) "
    }
   },
   "types_to_exclude": [
    "module",
    "function",
    "builtin_function_or_method",
    "instance",
    "_Feature"
   ],
   "window_display": false
  }
 },
 "nbformat": 4,
 "nbformat_minor": 4
}
