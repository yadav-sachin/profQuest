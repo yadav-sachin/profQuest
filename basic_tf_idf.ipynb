{
 "cells": [
  {
   "cell_type": "code",
   "execution_count": 1,
   "metadata": {
    "ExecuteTime": {
     "end_time": "2021-04-22T03:03:22.586885Z",
     "start_time": "2021-04-22T03:03:21.697407Z"
    }
   },
   "outputs": [],
   "source": [
    "# Reference used: https://www.geeksforgeeks.org/tf-idf-for-bigrams-trigrams/\n",
    "import nltk \n",
    "import re \n",
    "import math\n",
    "from sklearn.feature_extraction.text import CountVectorizer, TfidfVectorizer\n",
    "from sklearn.metrics.pairwise import cosine_similarity \n",
    "from sklearn.metrics.pairwise import linear_kernel\n",
    "from sklearn.preprocessing import normalize\n",
    "from nltk.corpus import stopwords\n",
    "from nltk.tokenize import word_tokenize\n",
    "from nltk.stem import PorterStemmer\n",
    "from nltk.util import ngrams\n",
    "import pandas as pd   \n",
    "import jsonlines\n",
    "import json\n",
    "from tqdm.notebook import tqdm\n",
    "import pickle"
   ]
  },
  {
   "cell_type": "code",
   "execution_count": 2,
   "metadata": {
    "ExecuteTime": {
     "end_time": "2021-04-22T03:03:22.654698Z",
     "start_time": "2021-04-22T03:03:22.588924Z"
    }
   },
   "outputs": [
    {
     "data": {
      "application/vnd.jupyter.widget-view+json": {
       "model_id": "",
       "version_major": 2,
       "version_minor": 0
      },
      "text/plain": [
       "|          | 0/? [00:00<?, ?it/s]"
      ]
     },
     "metadata": {},
     "output_type": "display_data"
    }
   ],
   "source": [
    "documents = []\n",
    "docID = {}\n",
    "term_total_citations = {}\n",
    "author_term_citations = {}\n",
    "idx = 0\n",
    "with jsonlines.open('data_india_sample.jl') as reader:\n",
    "    for obj in tqdm(reader, leave=False):\n",
    "        documents.append(obj)\n",
    "        docID[idx] = obj['user']\n",
    "        author_term_citations[obj['user']] = {}\n",
    "        idx += 1"
   ]
  },
  {
   "cell_type": "code",
   "execution_count": 3,
   "metadata": {
    "ExecuteTime": {
     "end_time": "2021-04-22T03:03:22.661059Z",
     "start_time": "2021-04-22T03:03:22.656824Z"
    }
   },
   "outputs": [],
   "source": [
    "# Code Taken From: https://www.geeksforgeeks.org/tf-idf-for-bigrams-trigrams/\n",
    "def remove_string_special_characters(s):\n",
    "    # removes special characters with ' '\n",
    "    stripped = re.sub('[^a-zA-z\\s]', ' ', s)\n",
    "    stripped = re.sub('_', ' ', stripped)\n",
    "      \n",
    "    # Change any white space to one space\n",
    "    stripped = re.sub('\\s+', ' ', stripped)\n",
    "      \n",
    "    # Remove start and end white spaces\n",
    "    stripped = stripped.strip()\n",
    "    if stripped != '':\n",
    "            return stripped.lower()"
   ]
  },
  {
   "cell_type": "code",
   "execution_count": 4,
   "metadata": {
    "ExecuteTime": {
     "end_time": "2021-04-22T03:03:22.666662Z",
     "start_time": "2021-04-22T03:03:22.662857Z"
    }
   },
   "outputs": [],
   "source": [
    "# Code Reference: https://www.geeksforgeeks.org/python-stemming-words-with-nltk/\n",
    "def stem_string(sentence):\n",
    "    ps = PorterStemmer()\n",
    "    \n",
    "    words = word_tokenize(sentence)\n",
    "    words = [ps.stem(word) for word in words]\n",
    "    return \" \".join(words)"
   ]
  },
  {
   "cell_type": "code",
   "execution_count": 5,
   "metadata": {
    "ExecuteTime": {
     "end_time": "2021-04-22T03:03:22.674550Z",
     "start_time": "2021-04-22T03:03:22.669351Z"
    }
   },
   "outputs": [],
   "source": [
    "def remove_stop_words(sentence):\n",
    "    stop_words = set(stopwords.words('english'))\n",
    "    words = word_tokenize(sentence)\n",
    "    words = [word for word in words if word not in stop_words]\n",
    "    return \" \".join(words)"
   ]
  },
  {
   "cell_type": "code",
   "execution_count": 6,
   "metadata": {
    "ExecuteTime": {
     "end_time": "2021-04-22T03:03:22.680436Z",
     "start_time": "2021-04-22T03:03:22.677089Z"
    }
   },
   "outputs": [],
   "source": [
    "def process_string(sentence):\n",
    "    sentence = remove_string_special_characters(sentence)\n",
    "    sentence = stem_string(sentence)\n",
    "    sentence = remove_stop_words(sentence)\n",
    "    return sentence"
   ]
  },
  {
   "cell_type": "markdown",
   "metadata": {},
   "source": [
    "### TF-IDF Matrix"
   ]
  },
  {
   "cell_type": "code",
   "execution_count": 7,
   "metadata": {
    "ExecuteTime": {
     "end_time": "2021-04-22T03:03:22.689235Z",
     "start_time": "2021-04-22T03:03:22.683795Z"
    }
   },
   "outputs": [],
   "source": [
    "def update_term_citations(document, sentence, numCitations, userID):\n",
    "    numCitations += 1\n",
    "    sentence = sentence.lower()\n",
    "    sentence = re.sub(r'[^a-zA-Z0-9\\s]', ' ', sentence)\n",
    "    tokens = [token for token in sentence.split(\" \") if token != \"\"]\n",
    "    for n in range(1, 5):\n",
    "#         seen_ngms = []\n",
    "        ngms = list(ngrams(tokens, n))\n",
    "        for ngm in ngms:\n",
    "            gm = \" \".join(ngm)\n",
    "#             if gm in seen_ngms:\n",
    "#                 continue\n",
    "#             seen_ngms.append(gm)\n",
    "            if gm in author_term_citations[userID]:\n",
    "                author_term_citations[userID][gm] += numCitations\n",
    "            else:\n",
    "                author_term_citations[userID][gm] = numCitations\n",
    "            if gm in term_total_citations:\n",
    "                term_total_citations[gm] += numCitations\n",
    "            else:\n",
    "                term_total_citations[gm] = numCitations"
   ]
  },
  {
   "cell_type": "code",
   "execution_count": 8,
   "metadata": {
    "ExecuteTime": {
     "end_time": "2021-04-22T03:03:34.008605Z",
     "start_time": "2021-04-22T03:03:22.691162Z"
    }
   },
   "outputs": [
    {
     "data": {
      "application/vnd.jupyter.widget-view+json": {
       "model_id": "",
       "version_major": 2,
       "version_minor": 0
      },
      "text/plain": [
       "  0%|          | 0/1000 [00:00<?, ?it/s]"
      ]
     },
     "metadata": {},
     "output_type": "display_data"
    }
   ],
   "source": [
    "word_documents = []\n",
    "for document in tqdm(documents, leave=False):\n",
    "    sentences = []\n",
    "    for subject in document['subjects']:\n",
    "        sentence = process_string(subject)\n",
    "        sentences.append(sentence)\n",
    "        update_term_citations(document, sentence, int(document['citationsAll']), document['user'])\n",
    "    for paper in document['papers']:\n",
    "        try:\n",
    "            sentence = paper['title'] + \" \" + paper['conference']\n",
    "            sentence = process_string(sentence)\n",
    "        except: \n",
    "            continue\n",
    "#         print(sentence)\n",
    "#         print(sentence)\n",
    "        update_term_citations(document, sentence, paper['citations'], document['user'])\n",
    "        sentences.append(sentence)\n",
    "#     word_documents.append(sentences)\n",
    "    word_documents.append(\".\\n\".join(sentences))\n",
    "#     print(word_documents[-1])\n",
    "#     word_documents.append(sentences)\n",
    "#     print(\".\".join(sentences))"
   ]
  },
  {
   "cell_type": "code",
   "execution_count": 9,
   "metadata": {
    "ExecuteTime": {
     "end_time": "2021-04-22T03:03:35.821363Z",
     "start_time": "2021-04-22T03:03:34.010658Z"
    }
   },
   "outputs": [],
   "source": [
    "vectorizer = TfidfVectorizer(stop_words='english', ngram_range=(1,4),\n",
    "                             , min_df=0, analyzer='word')\n",
    "# vectorizer vectorizeridfVectorizer()\n",
    "tfidf_matrix = vectorizer.fit_transform(word_documents) \n",
    "# print(type(tfidf_matrix[0]))\n",
    "# print(\"HIHIHI\")\n",
    "# print(vectorizer.idf_)\n",
    "features = (vectorizer.get_feature_names())\n",
    "# print(len(features))\n",
    "# print(features)\n",
    "# print(tfidf_matrix.shape)\n",
    "# print(tfidf_matrix)\n",
    "#     print(vectorizer.toarray())"
   ]
  },
  {
   "cell_type": "code",
   "execution_count": 10,
   "metadata": {
    "ExecuteTime": {
     "end_time": "2021-04-22T03:03:35.825069Z",
     "start_time": "2021-04-22T03:03:35.822910Z"
    }
   },
   "outputs": [],
   "source": [
    "# print(tfidf_matrix)\n",
    "# print(tfidf_matrix[(0, 3235)])"
   ]
  },
  {
   "cell_type": "code",
   "execution_count": 11,
   "metadata": {
    "ExecuteTime": {
     "end_time": "2021-04-22T03:03:35.836761Z",
     "start_time": "2021-04-22T03:03:35.831388Z"
    }
   },
   "outputs": [],
   "source": [
    "# print(author_term_citations)\n",
    "# feature_idx = {}\n",
    "# for idx, feature in enumerate(features):\n",
    "#     feature_idx[feature] = idx\n",
    "# author_idx = 0\n",
    "# for author, author_dict in tqdm(author_term_citations.items(), leave=False):\n",
    "#     for term, term_citations in author_dict.items():\n",
    "#         if term in feature_idx:\n",
    "#             term_idx = feature_idx[term]\n",
    "#             log_factor = 1 + math.log( 1 + ((term_citations) / (term_total_citations[term] + 1)) , 2)\n",
    "# #             print(log_factor)\n",
    "#             tfidf_matrix[(author_idx, term_idx)] *= log_factor\n",
    "#     author_idx += 1"
   ]
  },
  {
   "cell_type": "code",
   "execution_count": 12,
   "metadata": {
    "ExecuteTime": {
     "end_time": "2021-04-22T03:03:35.842453Z",
     "start_time": "2021-04-22T03:03:35.839212Z"
    }
   },
   "outputs": [],
   "source": [
    "# tfidf_matrix = normalize(tfidf_matrix, norm='l2', axis=0)"
   ]
  },
  {
   "cell_type": "markdown",
   "metadata": {},
   "source": [
    "### Pickle the Matrix and Vectorizer"
   ]
  },
  {
   "cell_type": "code",
   "execution_count": 13,
   "metadata": {
    "ExecuteTime": {
     "end_time": "2021-04-22T03:03:36.022729Z",
     "start_time": "2021-04-22T03:03:35.844121Z"
    }
   },
   "outputs": [],
   "source": [
    "pickle.dump(vectorizer, open(\"web_data/tfidf_vectorizer.pkl\", \"wb\"))\n",
    "pickle.dump(tfidf_matrix, open(\"web_data/tfidf_matrix.pkl\", \"wb\"))\n",
    "pickle.dump(docID, open(\"web_data/doc_id_dict.pkl\", \"wb\"))"
   ]
  },
  {
   "cell_type": "markdown",
   "metadata": {},
   "source": [
    "### Query Subjects"
   ]
  },
  {
   "cell_type": "code",
   "execution_count": 14,
   "metadata": {
    "ExecuteTime": {
     "end_time": "2021-04-22T03:03:36.051907Z",
     "start_time": "2021-04-22T03:03:36.024668Z"
    }
   },
   "outputs": [
    {
     "name": "stdout",
     "output_type": "stream",
     "text": [
      "  (0, 83601)\t1.0\n",
      "1000\n",
      "[848 277 234 555 805 157 744 989 158]\n",
      "['ZLOm0jEAAAAJ', 'wM-ma0MAAAAJ', '2oe3sXwAAAAJ', 'vcngn2gAAAAJ', 'ag3m3Y8AAAAJ', 'fREQGZkAAAAJ', 'hPvt6d8AAAAJ', 'b4hhMpwAAAAJ', 'u2h2WiMAAAAJ']\n"
     ]
    }
   ],
   "source": [
    "query=\"data mining\"\n",
    "# print(features[3730])\n",
    "query = process_string(query)\n",
    "result_matrix = vectorizer.transform([query])\n",
    "print(result_matrix)\n",
    "cosine_similarities = linear_kernel(result_matrix, tfidf_matrix).flatten()\n",
    "print(len(cosine_similarities))\n",
    "related_docs_indices = cosine_similarities.argsort()[:-10:-1]\n",
    "print(related_docs_indices)\n",
    "related_results = [docID[i] for i in related_docs_indices]\n",
    "print(related_results)\n",
    "# print(result_matrix)"
   ]
  },
  {
   "cell_type": "markdown",
   "metadata": {},
   "source": [
    "### Activeness over 'n' years"
   ]
  },
  {
   "cell_type": "code",
   "execution_count": 15,
   "metadata": {
    "ExecuteTime": {
     "end_time": "2021-04-22T03:03:36.188510Z",
     "start_time": "2021-04-22T03:03:36.057269Z"
    }
   },
   "outputs": [
    {
     "ename": "SyntaxError",
     "evalue": "unexpected EOF while parsing (<ipython-input-15-36ec8c92a847>, line 5)",
     "output_type": "error",
     "traceback": [
      "\u001b[0;36m  File \u001b[0;32m\"<ipython-input-15-36ec8c92a847>\"\u001b[0;36m, line \u001b[0;32m5\u001b[0m\n\u001b[0;31m    \u001b[0m\n\u001b[0m    ^\u001b[0m\n\u001b[0;31mSyntaxError\u001b[0m\u001b[0;31m:\u001b[0m unexpected EOF while parsing\n"
     ]
    }
   ],
   "source": [
    "for doc in doccuments:\n",
    "    \n",
    "    \n",
    "    \n",
    "    "
   ]
  },
  {
   "cell_type": "markdown",
   "metadata": {},
   "source": [
    "### Pickled Testing"
   ]
  },
  {
   "cell_type": "code",
   "execution_count": null,
   "metadata": {
    "ExecuteTime": {
     "end_time": "2021-04-22T03:03:36.207427Z",
     "start_time": "2021-04-22T03:03:21.714Z"
    }
   },
   "outputs": [],
   "source": [
    "loaded_vectorizer = pickle.load(open(\"web_data/tfidf_vectorizer.pkl\",\"rb\"))\n",
    "loaded_matrix = pickle.load(open(\"web_data/tfidf_matrix.pkl\",\"rb\"))\n",
    "query=\"data mining\"\n",
    "# print(features[3730])\n",
    "query = process_string(query)\n",
    "result_matrix = loaded_vectorizer.transform([query])\n",
    "cosine_similarities = linear_kernel(result_matrix, loaded_matrix).flatten()\n",
    "related_docs_indices = cosine_similarities.argsort()[:-10:-1]\n",
    "related_results = [docID[i] for i in related_docs_indices]\n",
    "print(related_results)"
   ]
  }
 ],
 "metadata": {
  "kernelspec": {
   "display_name": "Python 3",
   "language": "python",
   "name": "python3"
  },
  "language_info": {
   "codemirror_mode": {
    "name": "ipython",
    "version": 3
   },
   "file_extension": ".py",
   "mimetype": "text/x-python",
   "name": "python",
   "nbconvert_exporter": "python",
   "pygments_lexer": "ipython3",
   "version": "3.8.2"
  },
  "toc": {
   "base_numbering": 1,
   "nav_menu": {},
   "number_sections": true,
   "sideBar": true,
   "skip_h1_title": false,
   "title_cell": "Table of Contents",
   "title_sidebar": "Contents",
   "toc_cell": false,
   "toc_position": {},
   "toc_section_display": true,
   "toc_window_display": false
  },
  "varInspector": {
   "cols": {
    "lenName": 16,
    "lenType": 16,
    "lenVar": 40
   },
   "kernels_config": {
    "python": {
     "delete_cmd_postfix": "",
     "delete_cmd_prefix": "del ",
     "library": "var_list.py",
     "varRefreshCmd": "print(var_dic_list())"
    },
    "r": {
     "delete_cmd_postfix": ") ",
     "delete_cmd_prefix": "rm(",
     "library": "var_list.r",
     "varRefreshCmd": "cat(var_dic_list()) "
    }
   },
   "types_to_exclude": [
    "module",
    "function",
    "builtin_function_or_method",
    "instance",
    "_Feature"
   ],
   "window_display": false
  }
 },
 "nbformat": 4,
 "nbformat_minor": 4
}
