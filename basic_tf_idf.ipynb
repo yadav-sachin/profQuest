{
 "cells": [
  {
   "cell_type": "code",
   "execution_count": 30,
   "metadata": {
    "ExecuteTime": {
     "end_time": "2021-04-10T14:26:07.294863Z",
     "start_time": "2021-04-10T14:26:07.291761Z"
    }
   },
   "outputs": [],
   "source": [
    "# Reference used: https://www.geeksforgeeks.org/tf-idf-for-bigrams-trigrams/\n",
    "import nltk \n",
    "import re \n",
    "from sklearn.feature_extraction.text import CountVectorizer, TfidfVectorizer\n",
    "from nltk.corpus import stopwords\n",
    "from nltk.tokenize import word_tokenize\n",
    "from nltk.stem import PorterStemmer\n",
    "import pandas as pd   \n",
    "import jsonlines\n",
    "import json"
   ]
  },
  {
   "cell_type": "code",
   "execution_count": 33,
   "metadata": {
    "ExecuteTime": {
     "end_time": "2021-04-10T14:27:47.789432Z",
     "start_time": "2021-04-10T14:27:47.581670Z"
    }
   },
   "outputs": [],
   "source": [
    "documents = []\n",
    "with jsonlines.open('data_india_sample.jl') as reader:\n",
    "    for obj in reader:\n",
    "        documents.append(obj)"
   ]
  },
  {
   "cell_type": "code",
   "execution_count": 11,
   "metadata": {
    "ExecuteTime": {
     "end_time": "2021-04-10T14:02:20.729406Z",
     "start_time": "2021-04-10T14:02:20.726150Z"
    }
   },
   "outputs": [],
   "source": [
    "# Code Taken From: https://www.geeksforgeeks.org/tf-idf-for-bigrams-trigrams/\n",
    "def remove_string_special_characters(s):\n",
    "    # removes special characters with ' '\n",
    "    stripped = re.sub('[^a-zA-z\\s]', '', s)\n",
    "    stripped = re.sub('_', '', stripped)\n",
    "      \n",
    "    # Change any white space to one space\n",
    "    stripped = re.sub('\\s+', ' ', stripped)\n",
    "      \n",
    "    # Remove start and end white spaces\n",
    "    stripped = stripped.strip()\n",
    "    if stripped != '':\n",
    "            return stripped.lower()"
   ]
  },
  {
   "cell_type": "code",
   "execution_count": 13,
   "metadata": {
    "ExecuteTime": {
     "end_time": "2021-04-10T14:08:44.031952Z",
     "start_time": "2021-04-10T14:08:44.028608Z"
    }
   },
   "outputs": [],
   "source": [
    "# Code Reference: https://www.geeksforgeeks.org/python-stemming-words-with-nltk/\n",
    "def stem_string(sentence):\n",
    "    ps = PorterStemmer()\n",
    "    \n",
    "    words = word_tokenize(sentence)\n",
    "    words = [ps.stem(word) for word in words]\n",
    "    return \" \".join(words)"
   ]
  },
  {
   "cell_type": "code",
   "execution_count": 26,
   "metadata": {
    "ExecuteTime": {
     "end_time": "2021-04-10T14:21:31.741396Z",
     "start_time": "2021-04-10T14:21:31.730961Z"
    }
   },
   "outputs": [],
   "source": [
    "def remove_stop_words(sentence):\n",
    "    stop_words = set(stopwords.words('english'))\n",
    "    words = word_tokenize(sentence)\n",
    "    words = [word for word in words if word not in stop_words]\n",
    "    return \" \".join(words)"
   ]
  },
  {
   "cell_type": "markdown",
   "metadata": {},
   "source": [
    "### Extracting Trigrams"
   ]
  },
  {
   "cell_type": "code",
   "execution_count": 36,
   "metadata": {
    "ExecuteTime": {
     "end_time": "2021-04-10T14:34:35.029963Z",
     "start_time": "2021-04-10T14:34:34.469129Z"
    }
   },
   "outputs": [
    {
     "name": "stdout",
     "output_type": "stream",
     "text": [
      "['activ line flow', 'activ power loss', 'advanc meter infrastructur', 'algorithm consid activ', 'algorithm new metaheurist', 'algorithm shortterm hydrotherm', 'algorithm toward solut', 'allopt quaternari rs', 'ambient temperatur wind', 'among peopl live', 'analysi comparison variou', 'base gravit search', 'base pso algorithm', 'choic use soft', 'comparison variou fact', 'comput simul influenc', 'congest manag deregul', 'consid activ power', 'control perman magnet', 'control power system', 'current neutral voltag', 'curtail use pso', 'cytomegaloviru induc end', 'deregul power system', 'determin cytomegaloviru induc', 'devic choic use', 'devic power system', 'devic use sapso', 'diseas among peopl', 'distribut determin cytomegaloviru', 'distribut system technic', 'domin sort multi', 'effect ambient temperatur', 'encod allopt quaternari', 'end organ diseas', 'evapor algorithm new', 'fact devic choic', 'fact devic power', 'fact devic use', 'fix head shortterm', 'flipflop use binari', 'flow control power', 'flow use non', 'flow use nondomin', 'four wire distribut', 'gener load curtail', 'gravit search algorithm', 'head shortterm hydrotherm', 'hivaid poor resourc', 'hydrotherm schedul presenc', 'hydrotherm schedul use', 'induc end organ', 'influenc shade solar', 'infrastructur technolog challeng', 'ion motion optim', 'line flow control', 'live hivaid poor', 'load curtail use', 'locat upfc base', 'loss minim fact', 'magnet synchron motor', 'manag deregul power', 'metaheurist algorithm toward', 'meter infrastructur technolog', 'minim fact devic', 'minimis sever oral', 'modul tripura india', 'monocrystallin solar photovolta', 'motion optim algorithm', 'motor pmsm use', 'multi object gravit', 'multi object opposit', 'network analysi synthesi', 'network fact devic', 'neutral current neutral', 'neutral voltag three', 'new metaheurist algorithm', 'non domin sort', 'nondomin sort multi', 'object gravit search', 'object opposit base', 'opposit base gravit', 'optim algorithm shortterm', 'optim locat upfc', 'optim power flow', 'oral submuc fibrosi', 'organ diseas among', 'peopl live hivaid', 'perform analysi comparison', 'perform monocrystallin solar', 'perman magnet synchron', 'phase four wire', 'photovolta modul tripura', 'pmsm use vector', 'polar encod allopt', 'poor resourc set', 'power flow use', 'power loss minim', 'power system network', 'power system reschedul', 'presenc solar wind', 'pso algorithm consid', 'quasireflect ion motion', 'quaternari rs flipflop', 'reschedul sensit gener', 'resourc set observ', 'rs flipflop use', 'schedul presenc solar', 'schedul use sine', 'sensit gener load', 'set observ india', 'sever oral submuc', 'shade solar photovolta', 'shortterm hydrotherm schedul', 'simul influenc shade', 'sine cosin algorithm', 'soft comput techniqu', 'solar photovolta array', 'solar photovolta modul', 'solar wind power', 'solut optim power', 'solut shortterm hydrotherm', 'sort multi object', 'speed perform monocrystallin', 'synchron motor pmsm', 'system network fact', 'system reschedul sensit', 'system technic institut', 'temperatur wind speed', 'three phase four', 'toward solut optim', 'upfc base pso', 'use binari latch', 'use non domin', 'use nondomin sort', 'use sapso techniqu', 'use sine cosin', 'use soft comput', 'use vector control', 'variou fact devic', 'vector control approach', 'vitamin minimis sever', 'voltag three phase', 'water evapor algorithm', 'wind speed perform', 'wire distribut system', 'zinc vitamin minimis']\n",
      "['al alloy sictib', 'alloy sictib composit', 'alsic composit appli', 'alsic exsitu composit', 'alsic metal matrix', 'alsicgraphit hybrid composit', 'altib metal matrix', 'aluminium base composit', 'aluminium matrix composit', 'aluminiumtitanium diborid altib', 'aluminumtitanium diborid altib', 'analysi rel import', 'analysi submerg arc', 'angl well weld', 'appli greyfuzzi approach', 'arc weld explor', 'arc weld process', 'arc weld saw', 'arc weld three', 'arc weld use', 'arc weldment use', 'artifici neural network', 'base composit reinforc', 'base taguchi method', 'bead form partial', 'bead geometri microhard', 'bead geometri optim', 'behavior stir cast', 'behaviour alsic metal', 'behaviour aluminiumtitanium diborid', 'behaviour sictib dispers', 'cast aluminumtitanium diborid', 'celsiu plate temperatur', 'character physic mechan', 'character sictib reinforc', 'characterist studi physic', 'compar studi microstructur', 'compar studi physic', 'compon analysi wpca', 'composit appli greyfuzzi', 'composit dure machin', 'composit prepar stir', 'composit reinforc titanium', 'condit saw multirespons', 'condit submerg arc', 'content mechan tribolog', 'coupl fuzzi infer', 'degre celsiu plate', 'develop submerg arc', 'diborid altib composit', 'diborid altib metal', 'differ electrod angl', 'differ heat input', 'differ weld qualiti', 'dilut haz width', 'dispers aluminium matrix', 'dri slide wear', 'dure machin use', 'dure submerg arc', 'effect dure submerg', 'effect preheat techniqu', 'effect sic content', 'electrod angl well', 'evalu optim process', 'evalu wear perform', 'explor weight princip', 'form partial hybrid', 'fuzzi infer system', 'ga weld submerg', 'gener effect dure', 'geometri microhard weldment', 'geometri optim submerg', 'grey base taguchi', 'hard weld bead', 'haz width submerg', 'heat gener effect', 'hybrid composit dure', 'hybrid weld metal', 'import differ weld', 'indic influenc optim', 'inert ga weld', 'influenc optim process', 'investig wear behaviour', 'lubric properti alsicgraphit', 'machin use artifici', 'matrix composit prepar', 'mechan character sictib', 'mechan properti aluminium', 'mechan tribolog behaviour', 'mechan tribolog properti', 'metal inert ga', 'metal matrix composit', 'microhard weldment develop', 'microstructur physic mechan', 'mild steel plate', 'multirespons optim approach', 'neural network ann', 'optim process condit', 'optim submerg arc', 'optimis percent dilut', 'paramet respect differ', 'partial hybrid weld', 'percent dilut haz', 'perform alsic composit', 'perform alsic exsitu', 'philosophi coupl fuzzi', 'physic mechan character', 'physic mechan properti', 'physic mechan tribolog', 'plate zero degre', 'preheat techniqu bead', 'prepar stir cast', 'princip compon analysi', 'process condit saw', 'process condit submerg', 'process paramet respect', 'properti al alloy', 'properti alsic composit', 'properti alsicgraphit hybrid', 'properti aluminium base', 'qualiti indic influenc', 'regress analysi submerg', 'reinforc aluminium matrix', 'reinforc titanium diborid', 'rel import differ', 'respect differ electrod', 'saw mild steel', 'saw multirespons optim', 'self lubric properti', 'sensit analysi rel', 'sic content mechan', 'sictib dispers aluminium', 'sictib reinforc aluminium', 'slide wear perform', 'steel plate zero', 'stir cast aluminumtitanium', 'stir cast process', 'studi hard weld', 'studi heat gener', 'studi microstructur physic', 'studi physic mechan', 'studi self lubric', 'submerg arc weld', 'submerg arc weldment', 'taguchi philosophi coupl', 'techniqu bead geometri', 'theori evalu optim', 'three differ heat', 'titanium diborid particul', 'tribolog behaviour aluminiumtitanium', 'tribolog behaviour sictib', 'tribolog properti al', 'tribolog properti alsic', 'use artifici neural', 'use grey base', 'use taguchi philosophi', 'util theori evalu', 'wear behavior stir', 'wear behaviour alsic', 'wear perform alsic', 'weight princip compon', 'weld bead form', 'weld explor weight', 'weld metal inert', 'weld process paramet', 'weld qualiti indic', 'weld saw mild', 'weld submerg arc', 'weld three differ', 'weld use grey', 'weldment develop submerg', 'weldment use taguchi', 'well weld direct', 'width submerg arc', 'zero degre celsiu']\n",
      "['alsic composit appli', 'alsic exsitu composit', 'alsic metal matrix', 'altib metal matrix', 'aluminium base composit', 'aluminium matrix composit', 'aluminiumtitanium diborid altib', 'aluminumtitanium diborid altib', 'appli greyfuzzi approach', 'arc weld saw', 'base composit reinforc', 'behavior stir cast', 'behaviour alsic metal', 'behaviour aluminiumtitanium diborid', 'behaviour sictib dispers', 'cast aluminumtitanium diborid', 'celsiu plate temperatur', 'character physic mechan', 'character sictib reinforc', 'characterist studi physic', 'compar studi microstructur', 'composit appli greyfuzzi', 'composit prepar stir', 'composit reinforc titanium', 'content mechan tribolog', 'degre celsiu plate', 'diborid altib composit', 'diborid altib metal', 'dispers aluminium matrix', 'dri slide wear', 'dure submerg arc', 'effect dure submerg', 'effect sic content', 'evalu wear perform', 'gener effect dure', 'heat gener effect', 'investig wear behaviour', 'matrix composit prepar', 'mechan character sictib', 'mechan properti aluminium', 'mechan tribolog behaviour', 'mechan tribolog properti', 'metal matrix composit', 'microstructur physic mechan', 'mild steel plate', 'perform alsic composit', 'perform alsic exsitu', 'physic mechan character', 'physic mechan properti', 'physic mechan tribolog', 'plate zero degre', 'prepar stir cast', 'properti alsic composit', 'properti aluminium base', 'reinforc aluminium matrix', 'reinforc titanium diborid', 'saw mild steel', 'sic content mechan', 'sictib dispers aluminium', 'sictib reinforc aluminium', 'slide wear perform', 'steel plate zero', 'stir cast aluminumtitanium', 'stir cast process', 'studi heat gener', 'studi microstructur physic', 'studi physic mechan', 'submerg arc weld', 'titanium diborid particul', 'tribolog behaviour aluminiumtitanium', 'tribolog behaviour sictib', 'tribolog properti alsic', 'wear behavior stir', 'wear behaviour alsic', 'wear perform alsic', 'weld saw mild', 'zero degre celsiu']\n",
      "['airwat flow minichannel', 'analysi pool boil', 'baffl shell tube', 'boil heat transfer', 'bubbl flow squar', 'case studi tripura', 'central lowpressur region', 'channel fluid flow', 'continu helic baffl', 'cool perform heat', 'corner radiu tjunction', 'develop region three', 'dimension numer simul', 'dimension numer studi', 'dure gasliquid taylor', 'effect corner radiu', 'enhanc dure gasliquid', 'environ case studi', 'exchang central lowpressur', 'exchang delta winglet', 'experiment analysi pool', 'extens rubber plantat', 'fintub type heat', 'flow heat transfer', 'flow squar minichannel', 'fluid flow heat', 'gasliquid taylor bubbl', 'graphen nanofluid review', 'heat exchang central', 'heat exchang delta', 'heat sink airwat', 'heat transfer develop', 'heat transfer use', 'helic baffl shell', 'influenc local environ', 'local environ case', 'local nusselt number', 'minichannel experiment studi', 'minisquar channel fluid', 'nanomateri surfact prepar', 'number enhanc dure', 'numer experiment analysi', 'numer studi cool', 'numer studi fintub', 'nusselt number enhanc', 'perform heat sink', 'perform studi continu', 'plantat influenc local', 'pool boil heat', 'prepar graphen nanofluid', 'radiu tjunction minisquar', 'region three dimension', 'role nanomateri surfact', 'rubber plantat influenc', 'shell tube heat', 'sink airwat flow', 'squar minichannel experiment', 'studi continu helic', 'studi cool perform', 'studi fintub type', 'studi tripura northeast', 'surfact prepar graphen', 'taylor bubbl flow', 'three dimension numer', 'tjunction minisquar channel', 'transfer develop region', 'transfer use graphen', 'tripura northeast india', 'tube heat exchang', 'type heat exchang', 'use graphen nanofluid']\n",
      "['ag nanoparticl coat', 'ag nanoparticl cover', 'ag nanoparticl decor', 'ag nanoparticl shelter', 'aid ag nanoparticl', 'angl deposit aid', 'angl deposit onedimension', 'anneal ag nanoparticl', 'array boost photosens', 'assist ino nwtio', 'bandgap modul glanc', 'boost photosens adopt', 'cap tio nanowir', 'capabl spin coat', 'capacit mo memori', 'cell technolog materi', 'coat titania heterostructur', 'comparison photodetect capabl', 'cover tio thin', 'decor ino nanowir', 'deposit aid ag', 'deposit onedimension ino', 'enhanc photodetect glanc', 'enhanc uvvi absorpt', 'film high temperatur', 'glad assist ino', 'glanc angl deposit', 'heterostructur enhanc uvvi', 'high temperatur anneal', 'indium nanoparticl cap', 'ino nanorod array', 'ino nanowir capacit', 'ino nanowir low', 'ino nwtio nw', 'low nois photodetector', 'mo memori devic', 'modul glanc angl', 'nanoparticl cap tio', 'nanoparticl coat titania', 'nanoparticl cover tio', 'nanoparticl decor ino', 'nanoparticl shelter ino', 'nanowir array boost', 'nanowir capacit mo', 'nanowir low nois', 'nw heterostructur enhanc', 'nwtio nw heterostructur', 'onedimension ino nanorod', 'paper recent trend', 'photodetect capabl spin', 'photodetect glanc angl', 'photodetect use anneal', 'rang photodetect use', 'recent trend solar', 'review paper recent', 'shelter ino nanowir', 'solar cell technolog', 'spin coat tio', 'surfaceplasmoninduc ag nanoparticl', 'technolog materi effici', 'thin film high', 'tio nanowir array', 'tio thin film', 'trend solar cell', 'use anneal ag', 'visibl rang photodetect']\n",
      "['aspect indo bangladesh', 'bangladesh bilater relat', 'bilater relat special', 'carbon trade india', 'challeng medic servic', 'contribut aspect indo', 'energi tripura present', 'financi inclus tripura', 'inclus tripura challeng', 'india issu prospect', 'indo bangladesh bilater', 'insurg challeng medic', 'medic servic tripura', 'present statu util', 'relat special refer', 'renew energi tripura', 'special refer tripura', 'trade india issu', 'tripura challeng opportun', 'tripura present statu']\n",
      "['angl use sessil', 'boil heat transfer', 'characterist nanomateri suspend', 'coat surfac boil', 'coeffici perform increment', 'contact angl use', 'dhale coeffici perform', 'domest refriger literatur', 'effect enhanc surfac', 'effect porou coat', 'effect structur surfac', 'electrochem exfoli graphit', 'enhanc surfac materi', 'enhanc techniqu pool', 'facil synthesi graphen', 'graphen nanofluid review', 'graphen ultrasonicassist electrochem', 'heat enhanc techniqu', 'heat transfer characterist', 'heat transfer hfo', 'hfo refriger review', 'increment domest refriger', 'katarkar lenin dhale', 'lenin dhale coeffici', 'materi boil heat', 'nanomateri surfact prepar', 'nanomateri suspend refriger', 'passiv heat enhanc', 'perform increment domest', 'pool boil heat', 'porou coat surfac', 'prepar graphen nanofluid', 'refriger literatur review', 'refriger refriger system', 'review effect porou', 'review heat transfer', 'review passiv heat', 'role nanomateri surfact', 'sessil droplet method', 'structur surfac contact', 'surfac boil heat', 'surfac contact angl', 'surfac materi boil', 'surfact prepar graphen', 'suspend refriger refriger', 'synthesi graphen ultrasonicassist', 'techniqu pool boil', 'transfer characterist nanomateri', 'transfer hfo refriger', 'ultrasonicassist electrochem exfoli', 'use sessil droplet']\n",
      "['abat methyl orang', 'additivefre synthesi hematit', 'adsorb anion dye', 'adsorb methyl orang', 'adsorpt anion dye', 'adsorpt cr vi', 'adsorpt hexaval chromium', 'adsorpt methyl orang', 'adsorpt onto simpl', 'adsorpt perform novel', 'adsorpt tetracyclin onto', 'amongst children five', 'anion dye binari', 'anion dye onto', 'anion dye polyanilin', 'approach develop highperform', 'approach select sourc', 'aqua matrix optim', 'aqueou media artifici', 'aqueou media kinet', 'artifici neural network', 'assist enhanc adsorpt', 'base climat impact', 'base multi criteria', 'binari dye matrix', 'binari dye mix', 'cafeomnfeo nanocomposit aqua', 'calcium ferrit nanoparticl', 'calcium ferrit zirconia', 'case studi indian', 'cellulos organ conjug', 'character mix phase', 'chemic rout synthes', 'chemic rout synthesi', 'children five studi', 'chromium aqueou media', 'chromium onto magnet', 'cognit approach select', 'conjug macromolecul environment', 'cr vi artifici', 'criteria decis make', 'crystallin feo nanoparticl', 'decis make problem', 'develop highperform nanocomposit', 'diarrhoeal diseas amongst', 'diseas amongst children', 'dye aqua matrix', 'dye binari dye', 'dye matrix onto', 'dye mix respons', 'dye onto magnet', 'dye onto polyanilin', 'dye polyanilin implant', 'effect adsorpt tetracyclin', 'enhanc adsorpt anion', 'enhanc adsorpt hexaval', 'enhanc adsorpt methyl', 'enhanc adsorpt perform', 'enhanc properti adsorpt', 'equilibrium isotherm neural', 'fabric mix phase', 'facil additivefre synthesi', 'facil approach develop', 'femnzr metal oxid', 'feo nanoparticl kinet', 'ferrit hausmannit magnet', 'ferrit nanoparticl kinet', 'ferrit zirconia nanocomposit', 'five studi rural', 'game theori base', 'graphen oxid facil', 'graphen oxid remark', 'hausmannit magnet nanoparticl', 'hematit nanoparticl enhanc', 'hematitepolyanilin nanocomposit respons', 'hexaval chromium aqueou', 'hexaval chromium onto', 'highperform nanocomposit ultrafiltr', 'implant cellulos organ', 'impregn zinc oxid', 'indian tea industri', 'interact anion dye', 'isotherm neural network', 'isotherm optim process', 'isotherm thermodynam studi', 'kinet equilibrium isotherm', 'kinet isotherm neural', 'kinet isotherm optim', 'kinet isotherm thermodynam', 'landfil leachat treatment', 'leachat treatment use', 'macromolecul environment applic', 'magnet cafeomnfeo nanocomposit', 'magnet calcium ferrit', 'magnet nanocomposit enhanc', 'magnet nanoparticl potenti', 'make problem uncertainti', 'manganes ferrit hausmannit', 'matrix onto novel', 'matrix optim process', 'matur landfil leachat', 'media kinet isotherm', 'membran minim tradeoff', 'mesopor reduc graphen', 'metal oxid nanocomposit', 'methyl orang adsorpt', 'methyl orang aqueou', 'methyl orang dye', 'microbi green technolog', 'mix phase calcium', 'mix phase fe', 'mix phase manganes', 'mix respons surfac', 'mnfeo mno magnet', 'mno magnet nanocomposit', 'multi criteria decis', 'nanocomposit abat methyl', 'nanocomposit adsorb anion', 'nanocomposit aqua matrix', 'nanocomposit enhanc properti', 'nanocomposit respons surfac', 'nanocomposit ultrafiltr membran', 'nanoparticl enhanc adsorpt', 'nanoparticl kinet equilibrium', 'nanoparticl kinet isotherm', 'nanoparticl potenti adsorb', 'nanoparticl synthes novel', 'nanostructur reduc graphen', 'neural network model', 'novel femnzr metal', 'novel hematitepolyanilin nanocomposit', 'novel microbi green', 'onto magnet cafeomnfeo', 'onto magnet calcium', 'onto novel hematitepolyanilin', 'onto polyanilin impregn', 'onto simpl chemic', 'onto zirconia nanoparticl', 'optim neural network', 'optim process paramet', 'orang adsorpt onto', 'orang aqueou media', 'orang dye aqua', 'orang dye onto', 'organ conjug macromolecul', 'oxid facil approach', 'oxid nanocomposit adsorb', 'oxid nanoparticl kinet', 'oxid optim process', 'oxid remark supercapacit', 'perform novel femnzr', 'peroxid oxid optim', 'phase calcium ferrit', 'phase manganes ferrit', 'plant base climat', 'polyanilin implant cellulos', 'polyanilin impregn zinc', 'potenti adsorb methyl', 'problem uncertainti case', 'properti adsorpt cr', 'rapid adsorpt anion', 'rapid enhanc adsorpt', 'reduc graphen oxid', 'reinforc nanostructur reduc', 'remark supercapacit perform', 'respons surfac methodolog', 'respons surfac optim', 'rout synthes crystallin', 'rout synthesi fe', 'select sourc water', 'simpl chemic rout', 'sonoassist rapid adsorpt', 'sonolyticpersulfatehydrogen peroxid oxid', 'sourc water treatment', 'studi indian tea', 'studi rural alwar', 'surfac methodolog optim', 'surfac optim neural', 'synthes crystallin feo', 'synthes novel microbi', 'synthesi character mix', 'synthesi hematit nanoparticl', 'synthesi mnfeo mno', 'tetracyclin onto zirconia', 'theori base multi', 'treatment plant base', 'treatment use sonolyticpersulfatehydrogen', 'ultrafiltr membran minim', 'ultrason assist enhanc', 'ultrasoundaid rapid enhanc', 'uncertainti case studi', 'use sonolyticpersulfatehydrogen peroxid', 'vi artifici neural', 'water treatment plant', 'zinc oxid nanoparticl', 'zirconia nanocomposit abat', 'zirconia nanoparticl synthes']\n",
      "['algorithm valid use', 'analysi grid connect', 'buckboost deriv pv', 'connect three phase', 'control dualactivebridg convert', 'convert gridconnect pv', 'convert use fourier', 'data pv modul', 'decoupl method singl', 'decoupl singlephas pv', 'deriv pv microinvert', 'direct matrix convert', 'dualactivebridg convert gridconnect', 'grid connect three', 'gridconnect pv system', 'harmon analysi grid', 'matrix convert use', 'method singl phase', 'microinvert power decoupl', 'model control dualactivebridg', 'mppt algorithm valid', 'new perturb observ', 'observ mppt algorithm', 'perturb observ mppt', 'phase buckboost deriv', 'phase direct matrix', 'phase pv system', 'power decoupl capabl', 'power decoupl method', 'power decoupl singlephas', 'pv microinvert power', 'pv system use', 'singl phase buckboost', 'singl phase pv', 'singlephas pv system', 'system use uk', 'three phase direct', 'uk deriv microinvert', 'use data pv', 'use fourier integr', 'use uk deriv', 'valid use data']\n",
      "['abus languag detect', 'across abus languag', 'algorithm distribut deadlock', 'analys social media', 'analysi aodv dsdvand', 'analysi codemix englishhindi', 'analysi hierarch flat', 'analysi improv probebas', 'analysi predict valu', 'analysi softwar complex', 'annot indian social', 'aodv dsdvand dsr', 'approach identifi categor', 'base design pattern', 'base paus time', 'base sentiment analysi', 'base supervis machin', 'biometr base design', 'boundari detect social', 'build multimod classifi', 'categor offens languag', 'cbr connect manet', 'classifi tackl internet', 'codemix englishhindi englishbengali', 'codemix englishhindi twitter', 'codemix indian social', 'codemix social media', 'collect annot indian', 'complex metric structur', 'consciou evot system', 'contest po tag', 'data secur use', 'deep learn base', 'deep learningbas languag', 'design pattern implement', 'destin base supervis', 'detect social media', 'distribut deadlock detect', 'dsdvand dsr cbr', 'dsr cbr connect', 'englishbengali social media', 'englishhindi englishbengali social', 'englishhindi twitter facebook', 'englishhindibengali codemix social', 'ensembl approach identifi', 'ethic individu analys', 'evot system use', 'facebook chat messag', 'facebook twitter whatsapp', 'flat network rout', 'generalis across abus', 'hierarch flat network', 'identif englishhindibengali codemix', 'identifi categor offens', 'implement secur consciou', 'improv data secur', 'improv probebas algorithm', 'indian social media', 'individu analys social', 'languag detect dataset', 'languag identif englishhindibengali', 'languag twitter social', 'learn base sentiment', 'learningbas languag identif', 'machin learn algorithm', 'media codemix corpora', 'media facebook twitter', 'media text twitter', 'metric structur test', 'multimod classifi tackl', 'network rout protocol', 'network use ns', 'nitagartalanlpteam semev task', 'offens languag twitter', 'partofspeech tag codemix', 'partofspeech tag system', 'pattern implement secur', 'paus time analysi', 'perform analysi hierarch', 'po tag codemix', 'predict tourist destin', 'predict valu ethic', 'probebas algorithm distribut', 'protocol wireless sensor', 'rate predict tourist', 'report tool contest', 'review analysi softwar', 'rout protocol wireless', 'scenario base paus', 'secur consciou evot', 'secur use dna', 'semev task build', 'semev task ensembl', 'sensor network use', 'sentenc boundari detect', 'sentiment analysi codemix', 'sentiment analysi predict', 'social media codemix', 'social media content', 'social media corpora', 'social media corpu', 'social media facebook', 'social media text', 'societ sentiment analysi', 'softwar complex metric', 'studi generalis across', 'supervis machin learn', 'system indian social', 'system use cryptograph', 'tackl internet humor', 'tag codemix englishhindi', 'tag codemix indian', 'tag system indian', 'task build multimod', 'task ensembl approach', 'task report tool', 'time analysi aodv', 'tool contest po', 'tourist destin base', 'twitter facebook chat', 'twitter social media', 'twitter whatsapp text', 'use cryptograph protocol', 'use dna sequenc', 'valu ethic individu', 'whatsapp text icon', 'wireless sensor network']\n"
     ]
    }
   ],
   "source": [
    "for document in documents:\n",
    "    sentences = []\n",
    "    for paper in document['papers']:\n",
    "        sentence = paper['title']\n",
    "        sentence = remove_string_special_characters(sentence)\n",
    "        sentence = stem_string(sentence)\n",
    "        sentence = remove_stop_words(sentence)\n",
    "#         print(sentence)\n",
    "        sentences.append(sentence)\n",
    "    vectorizer = CountVectorizer(ngram_range = (3,3))\n",
    "    X1 = vectorizer.fit_transform(sentences) \n",
    "    features = (vectorizer.get_feature_names())\n",
    "    print(features)"
   ]
  },
  {
   "cell_type": "code",
   "execution_count": null,
   "metadata": {},
   "outputs": [],
   "source": []
  }
 ],
 "metadata": {
  "kernelspec": {
   "display_name": "Python 3",
   "language": "python",
   "name": "python3"
  },
  "language_info": {
   "codemirror_mode": {
    "name": "ipython",
    "version": 3
   },
   "file_extension": ".py",
   "mimetype": "text/x-python",
   "name": "python",
   "nbconvert_exporter": "python",
   "pygments_lexer": "ipython3",
   "version": "3.8.2"
  },
  "toc": {
   "base_numbering": 1,
   "nav_menu": {},
   "number_sections": true,
   "sideBar": true,
   "skip_h1_title": false,
   "title_cell": "Table of Contents",
   "title_sidebar": "Contents",
   "toc_cell": false,
   "toc_position": {},
   "toc_section_display": true,
   "toc_window_display": false
  },
  "varInspector": {
   "cols": {
    "lenName": 16,
    "lenType": 16,
    "lenVar": 40
   },
   "kernels_config": {
    "python": {
     "delete_cmd_postfix": "",
     "delete_cmd_prefix": "del ",
     "library": "var_list.py",
     "varRefreshCmd": "print(var_dic_list())"
    },
    "r": {
     "delete_cmd_postfix": ") ",
     "delete_cmd_prefix": "rm(",
     "library": "var_list.r",
     "varRefreshCmd": "cat(var_dic_list()) "
    }
   },
   "types_to_exclude": [
    "module",
    "function",
    "builtin_function_or_method",
    "instance",
    "_Feature"
   ],
   "window_display": false
  }
 },
 "nbformat": 4,
 "nbformat_minor": 4
}
