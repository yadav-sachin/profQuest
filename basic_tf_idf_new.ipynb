{
 "cells": [
  {
   "cell_type": "code",
   "execution_count": 60,
   "metadata": {
    "ExecuteTime": {
     "end_time": "2021-04-22T03:03:22.586885Z",
     "start_time": "2021-04-22T03:03:21.697407Z"
    }
   },
   "outputs": [],
   "source": [
    "# Reference used: https://www.geeksforgeeks.org/tf-idf-for-bigrams-trigrams/\n",
    "import nltk \n",
    "import re \n",
    "import math\n",
    "import numpy as np\n",
    "import pandas as pd\n",
    "from sklearn.feature_extraction.text import CountVectorizer, TfidfVectorizer\n",
    "from sklearn.metrics.pairwise import cosine_similarity \n",
    "from sklearn.metrics.pairwise import linear_kernel\n",
    "from sklearn.preprocessing import normalize\n",
    "from nltk.corpus import stopwords\n",
    "from nltk.tokenize import word_tokenize\n",
    "from nltk.stem import PorterStemmer\n",
    "from nltk.util import ngrams\n",
    "import pandas as pd   \n",
    "import jsonlines\n",
    "import json\n",
    "from tqdm.notebook import tqdm\n",
    "import pickle"
   ]
  },
  {
   "cell_type": "code",
   "execution_count": 61,
   "metadata": {},
   "outputs": [
    {
     "name": "stderr",
     "output_type": "stream",
     "text": [
      "[nltk_data] Downloading package punkt to\n",
      "[nltk_data]     C:\\Users\\RAGHAV\\AppData\\Roaming\\nltk_data...\n",
      "[nltk_data]   Package punkt is already up-to-date!\n",
      "[nltk_data] Downloading package stopwords to\n",
      "[nltk_data]     C:\\Users\\RAGHAV\\AppData\\Roaming\\nltk_data...\n",
      "[nltk_data]   Package stopwords is already up-to-date!\n"
     ]
    },
    {
     "data": {
      "text/plain": [
       "True"
      ]
     },
     "execution_count": 61,
     "metadata": {},
     "output_type": "execute_result"
    }
   ],
   "source": [
    "nltk.download('punkt')\n",
    "nltk.download('stopwords')"
   ]
  },
  {
   "cell_type": "code",
   "execution_count": 62,
   "metadata": {
    "ExecuteTime": {
     "end_time": "2021-04-22T03:03:22.654698Z",
     "start_time": "2021-04-22T03:03:22.588924Z"
    }
   },
   "outputs": [
    {
     "data": {
      "application/vnd.jupyter.widget-view+json": {
       "model_id": "",
       "version_major": 2,
       "version_minor": 0
      },
      "text/plain": [
       "0it [00:00, ?it/s]"
      ]
     },
     "metadata": {},
     "output_type": "display_data"
    }
   ],
   "source": [
    "documents = []\n",
    "docID = {}\n",
    "term_total_citations = {}\n",
    "author_term_citations = {}\n",
    "idx = 0\n",
    "with jsonlines.open('data_india_sample.jl') as reader:\n",
    "    for obj in tqdm(reader, leave=False):\n",
    "        documents.append(obj)\n",
    "        docID[idx] = obj['user']\n",
    "        author_term_citations[obj['user']] = {}\n",
    "        idx += 1"
   ]
  },
  {
   "cell_type": "code",
   "execution_count": 63,
   "metadata": {
    "ExecuteTime": {
     "end_time": "2021-04-22T03:03:22.661059Z",
     "start_time": "2021-04-22T03:03:22.656824Z"
    }
   },
   "outputs": [],
   "source": [
    "# Code Taken From: https://www.geeksforgeeks.org/tf-idf-for-bigrams-trigrams/\n",
    "def remove_string_special_characters(s):\n",
    "    # removes special characters with ' '\n",
    "    stripped = re.sub('[^a-zA-z\\s]', ' ', s)\n",
    "#     print(stripped)\n",
    "    stripped = re.sub('_', ' ', stripped)\n",
    "      \n",
    "    # Change any white space to one space\n",
    "    stripped = re.sub('\\s+', ' ', stripped)\n",
    "      \n",
    "    # Remove start and end white spaces\n",
    "    stripped = stripped.strip()\n",
    "    if stripped != '':\n",
    "            return stripped.lower()"
   ]
  },
  {
   "cell_type": "code",
   "execution_count": 64,
   "metadata": {
    "ExecuteTime": {
     "end_time": "2021-04-22T03:03:22.666662Z",
     "start_time": "2021-04-22T03:03:22.662857Z"
    }
   },
   "outputs": [],
   "source": [
    "# Code Reference: https://www.geeksforgeeks.org/python-stemming-words-with-nltk/\n",
    "def stem_string(sentence):\n",
    "    ps = PorterStemmer()\n",
    "    \n",
    "    words = word_tokenize(sentence)\n",
    "    words = [ps.stem(word) for word in words]\n",
    "    return \" \".join(words)"
   ]
  },
  {
   "cell_type": "code",
   "execution_count": 65,
   "metadata": {
    "ExecuteTime": {
     "end_time": "2021-04-22T03:03:22.674550Z",
     "start_time": "2021-04-22T03:03:22.669351Z"
    }
   },
   "outputs": [],
   "source": [
    "def remove_stop_words(sentence):\n",
    "    stop_words = set(stopwords.words('english'))\n",
    "    words = word_tokenize(sentence)\n",
    "    words = [word for word in words if word not in stop_words]\n",
    "    return \" \".join(words)"
   ]
  },
  {
   "cell_type": "code",
   "execution_count": 66,
   "metadata": {
    "ExecuteTime": {
     "end_time": "2021-04-22T03:03:22.680436Z",
     "start_time": "2021-04-22T03:03:22.677089Z"
    }
   },
   "outputs": [],
   "source": [
    "def process_string(sentence):\n",
    "    sentence = remove_string_special_characters(sentence)\n",
    "    sentence = stem_string(sentence)\n",
    "    sentence = remove_stop_words(sentence)\n",
    "    return sentence"
   ]
  },
  {
   "cell_type": "markdown",
   "metadata": {},
   "source": [
    "### TF-IDF Matrix"
   ]
  },
  {
   "cell_type": "code",
   "execution_count": 67,
   "metadata": {
    "ExecuteTime": {
     "end_time": "2021-04-22T03:03:22.689235Z",
     "start_time": "2021-04-22T03:03:22.683795Z"
    }
   },
   "outputs": [],
   "source": [
    "def update_term_citations(document, sentence, numCitations, userID):\n",
    "    numCitations += 1\n",
    "    sentence = sentence.lower()\n",
    "    sentence = re.sub(r'[^a-zA-Z0-9\\s]', ' ', sentence)\n",
    "    tokens = [token for token in sentence.split(\" \") if token != \"\"]\n",
    "    for n in range(1, 5):\n",
    "#         seen_ngms = []\n",
    "        ngms = list(ngrams(tokens, n))\n",
    "        for ngm in ngms:\n",
    "            gm = \" \".join(ngm)\n",
    "#             if gm in seen_ngms:\n",
    "#                 continue\n",
    "#             seen_ngms.append(gm)\n",
    "            if gm in author_term_citations[userID]:\n",
    "                author_term_citations[userID][gm] += numCitations\n",
    "            else:\n",
    "                author_term_citations[userID][gm] = numCitations\n",
    "            if gm in term_total_citations:\n",
    "                term_total_citations[gm] += numCitations\n",
    "            else:\n",
    "                term_total_citations[gm] = numCitations"
   ]
  },
  {
   "cell_type": "code",
   "execution_count": 68,
   "metadata": {
    "ExecuteTime": {
     "end_time": "2021-04-22T03:03:34.008605Z",
     "start_time": "2021-04-22T03:03:22.691162Z"
    }
   },
   "outputs": [
    {
     "data": {
      "application/vnd.jupyter.widget-view+json": {
       "model_id": "",
       "version_major": 2,
       "version_minor": 0
      },
      "text/plain": [
       "  0%|          | 0/1000 [00:00<?, ?it/s]"
      ]
     },
     "metadata": {},
     "output_type": "display_data"
    }
   ],
   "source": [
    "word_documents = []\n",
    "for document in tqdm(documents, leave=False):\n",
    "    sentences = []\n",
    "    for subject in document['subjects']:\n",
    "        sentence = process_string(subject)\n",
    "        sentences.append(sentence)\n",
    "        update_term_citations(document, sentence, int(document['citationsAll']), document['user'])\n",
    "    for paper in document['papers']:\n",
    "        try:\n",
    "            sentence = paper['title'] + \" \" + paper['conference']\n",
    "            sentence = process_string(sentence)\n",
    "        except: \n",
    "            continue\n",
    "#         print(sentence)\n",
    "#         print(sentence)\n",
    "        update_term_citations(document, sentence, paper['citations'], document['user'])\n",
    "        sentences.append(sentence)\n",
    "\n",
    "#     word_documents.append(sentences)\n",
    "    word_documents.append(\".\\n\".join(sentences))\n",
    "#     print(word_documents[-1])\n",
    "#     word_documents.append(sentences)\n",
    "#     print(\".\".join(sentences))"
   ]
  },
  {
   "cell_type": "code",
   "execution_count": 69,
   "metadata": {
    "ExecuteTime": {
     "end_time": "2021-04-22T03:03:35.821363Z",
     "start_time": "2021-04-22T03:03:34.010658Z"
    }
   },
   "outputs": [],
   "source": [
    "vectorizer = TfidfVectorizer(stop_words='english', ngram_range=(1,4),min_df=0, analyzer='word')\n",
    "tfidf_matrix = vectorizer.fit_transform(word_documents) \n",
    "features = (vectorizer.get_feature_names())\n",
    "idf_scores = vectorizer.idf_\n",
    "\n",
    "cnt_vct = CountVectorizer(stop_words='english', ngram_range=(1,4),min_df=0, analyzer='word')\n",
    "cnt_matrix = cnt_vct.fit_transform(word_documents)\n",
    "cnt_features = cnt_vct.get_feature_names()\n",
    "\n",
    "cnt_matrix_arr = cnt_matrix.toarray()\n",
    "tfidf_new_matrix = cnt_matrix_arr*idf_scores\n",
    "\n",
    "# print(features)"
   ]
  },
  {
   "cell_type": "code",
   "execution_count": 54,
   "metadata": {
    "ExecuteTime": {
     "end_time": "2021-04-22T03:03:35.836761Z",
     "start_time": "2021-04-22T03:03:35.831388Z"
    }
   },
   "outputs": [
    {
     "data": {
      "application/vnd.jupyter.widget-view+json": {
       "model_id": "",
       "version_major": 2,
       "version_minor": 0
      },
      "text/plain": [
       "  0%|          | 0/994 [00:00<?, ?it/s]"
      ]
     },
     "metadata": {},
     "output_type": "display_data"
    }
   ],
   "source": [
    "# print(author_term_citations)\n",
    "# feature_idx = {}\n",
    "# for idx, feature in enumerate(features):\n",
    "#     feature_idx[feature] = idx\n",
    "# author_idx = 0\n",
    "# for author, author_dict in tqdm(author_term_citations.items(), leave=False):\n",
    "#     for term, term_citations in author_dict.items():\n",
    "#         if term in feature_idx:\n",
    "#             term_idx = feature_idx[term]\n",
    "#             log_factor = math.log( 1 + ((term_citations) / (term_total_citations[term] + 1)) , 2)\n",
    "# #             print(log_factor)\n",
    "#             tfidf_new_matrix[author_idx, term_idx] *= log_factor\n",
    "#     author_idx += 1"
   ]
  },
  {
   "cell_type": "code",
   "execution_count": 55,
   "metadata": {
    "ExecuteTime": {
     "end_time": "2021-04-22T03:03:35.842453Z",
     "start_time": "2021-04-22T03:03:35.839212Z"
    }
   },
   "outputs": [],
   "source": [
    "# tfidf_matrix = normalize(tfidf_matrix, norm='l2', axis=0)"
   ]
  },
  {
   "cell_type": "markdown",
   "metadata": {},
   "source": [
    "# Activeness "
   ]
  },
  {
   "cell_type": "code",
   "execution_count": 24,
   "metadata": {},
   "outputs": [
    {
     "data": {
      "application/vnd.jupyter.widget-view+json": {
       "model_id": "",
       "version_major": 2,
       "version_minor": 0
      },
      "text/plain": [
       "  0%|          | 0/10 [00:00<?, ?it/s]"
      ]
     },
     "metadata": {},
     "output_type": "display_data"
    },
    {
     "name": "stdout",
     "output_type": "stream",
     "text": [
      "[[  0.   0.  66.  89. 111. 186. 303. 313. 376. 385. 408. 485. 485. 485.\n",
      "  485. 485. 485. 485. 485. 485.]\n",
      " [ 32.  32.  37.  37.  37.  37.  45.  45.  61.  61.  61.  68.  68.  68.\n",
      "   68.  68.  68.  68.  68.  68.]\n",
      " [ 24.  24.  25.  25.  25.  25.  25.  25.  25.  25.  25.  25.  25.  25.\n",
      "   25.  25.  25.  25.  25.  25.]\n",
      " [  0.   0.   0.   0.   5.   6.  18.  51.  51.  51.  51.  51.  51.  51.\n",
      "   51.  51.  51.  51.  51.  51.]\n",
      " [  3.   3.   3.   3.   3.   3.   3.   3.   3.   3.   3.   3.   3.   3.\n",
      "    3.   3.   3.   3.   3.   3.]\n",
      " [  0.   0.   0.   0.   0.   0.   0.   3.   3.   3.   3.   3.   3.   3.\n",
      "    3.   3.   3.   3.   3.   3.]\n",
      " [  5.   5.   5.   5.   5.   5.   8.   8.   8.   8.   8.   8.   8.   8.\n",
      "    8.   8.   8.   8.   8.   8.]\n",
      " [ 25. 117. 239. 273. 417. 442. 442. 442. 442. 442. 442. 442. 442. 442.\n",
      "  442. 442. 442. 442. 442. 442.]\n",
      " [  0.   0.  13.  13.  23.  26.  26.  26.  51.  51.  51.  51.  51.  51.\n",
      "   51.  51.  51.  51.  51.  51.]\n",
      " [  3.  23.  23.  32.  57. 177. 194. 243. 245. 245. 245. 245. 245. 245.\n",
      "  245. 245. 245. 245. 245. 245.]]\n"
     ]
    }
   ],
   "source": [
    "maxrng=20\n",
    "minyr,maxyr=2001,2020\n",
    "mat_activeness = np.zeros((len(documents),maxrng))\n",
    "ind=0\n",
    "for document in tqdm(documents, leave=False):\n",
    "    papers=document['papers']\n",
    "    for paper in papers:\n",
    "        paperyr=paper['year']\n",
    "        if paperyr>=minyr and paperyr<=maxyr:\n",
    "            dis=maxyr-paperyr\n",
    "            mat_activeness[ind,dis]+=paper['citations']\n",
    "    ind+=1\n",
    "\n",
    "ind=0\n",
    "for i in range(mat_activeness.shape[0]):\n",
    "    for j in range(mat_activeness.shape[1]):\n",
    "        if j>0:\n",
    "            mat_activeness[i,j]+=mat_activeness[i,j-1]\n",
    "            \n",
    "# print(mat_activeness)\n",
    "            "
   ]
  },
  {
   "cell_type": "markdown",
   "metadata": {},
   "source": [
    "## Slope of citations"
   ]
  },
  {
   "cell_type": "code",
   "execution_count": 25,
   "metadata": {},
   "outputs": [
    {
     "ename": "SyntaxError",
     "evalue": "EOL while scanning string literal (<ipython-input-25-ff368d904fcb>, line 7)",
     "output_type": "error",
     "traceback": [
      "\u001b[1;36m  File \u001b[1;32m\"<ipython-input-25-ff368d904fcb>\"\u001b[1;36m, line \u001b[1;32m7\u001b[0m\n\u001b[1;33m    other_mets[ind,1]=document[\"h-indexAll]\u001b[0m\n\u001b[1;37m                                           ^\u001b[0m\n\u001b[1;31mSyntaxError\u001b[0m\u001b[1;31m:\u001b[0m EOL while scanning string literal\n"
     ]
    }
   ],
   "source": [
    "# Columns -> slope of citations, hindex, institute reputation\n",
    "other_mets = np.zeros((len(documents),3))\n",
    "\n",
    "# H index\n",
    "ind=0\n",
    "for document in tqdm(documents, leave=False):\n",
    "    other_mets[ind,1]=document[\"h-indexAll]\n",
    "    ind+=1\n",
    "                               \n",
    "# Slope of citations (omitting current year)\n",
    "# ref: https://www.varsitytutors.com/hotmath/hotmath_help/topics/line-of-best-fit\n",
    "ind=0\n",
    "for document in tqdm(documents, leave=False):\n",
    "    for entry in document['yearCitations']:\n",
    "        vals=[]\n",
    "        vals.append(entry['citations'])\n",
    "        if ind==0:\n",
    "            print(vals)\n",
    "#     other_mets[ind,0]=slope_calc(document[\"h-indexAll])\n",
    "    ind+=1                     \n",
    "\n",
    "\n",
    "                               "
   ]
  },
  {
   "cell_type": "code",
   "execution_count": null,
   "metadata": {},
   "outputs": [],
   "source": []
  },
  {
   "cell_type": "code",
   "execution_count": null,
   "metadata": {},
   "outputs": [],
   "source": []
  },
  {
   "cell_type": "code",
   "execution_count": null,
   "metadata": {},
   "outputs": [],
   "source": []
  },
  {
   "cell_type": "markdown",
   "metadata": {},
   "source": [
    "### Pickle the Matrix and Vectorizer"
   ]
  },
  {
   "cell_type": "code",
   "execution_count": 13,
   "metadata": {},
   "outputs": [],
   "source": [
    "# !mkdir -p web_data"
   ]
  },
  {
   "cell_type": "code",
   "execution_count": 70,
   "metadata": {
    "ExecuteTime": {
     "end_time": "2021-04-22T03:03:36.022729Z",
     "start_time": "2021-04-22T03:03:35.844121Z"
    }
   },
   "outputs": [],
   "source": [
    "pickle.dump(cnt_vct, open(\"web_data/count_vectorizer.pkl\", \"wb\"))\n",
    "pickle.dump(tfidf_new_matrix, open(\"web_data/tfidf_new_matrix.pkl\", \"wb\"))\n",
    "pickle.dump(docID, open(\"web_data/doc_id_dict.pkl\", \"wb\"))"
   ]
  },
  {
   "cell_type": "code",
   "execution_count": null,
   "metadata": {},
   "outputs": [],
   "source": []
  },
  {
   "cell_type": "markdown",
   "metadata": {},
   "source": [
    "### Query Subjects"
   ]
  },
  {
   "cell_type": "code",
   "execution_count": 71,
   "metadata": {},
   "outputs": [
    {
     "name": "stdout",
     "output_type": "stream",
     "text": [
      "['vVRbl4QAAAAJ', 'a2Wgu0EAAAAJ', '0MNT3h8AAAAJ', 'qBUNlhUAAAAJ', 'pIkLx0AAAAAJ', 'inrwXiIAAAAJ', 'kB1K2McAAAAJ', 'kB1K2McAAAAJ', 'OVjv4SUAAAAJ']\n"
     ]
    }
   ],
   "source": [
    "query=\"machine learning\"\n",
    "# print(features[3730])\n",
    "query = process_string(query)\n",
    "cnt_matrix_test = cnt_vct.transform([query])\n",
    "cnt_matrix_test_arr = cnt_matrix_test.toarray()\n",
    "\n",
    "res = np.matmul(tfidf_new_matrix,cnt_matrix_test_arr.T).squeeze()\n",
    "related_docs_indices = res.argsort()[:-10:-1]\n",
    "related_results = [docID[i] for i in related_docs_indices]\n",
    "print(related_results)"
   ]
  },
  {
   "cell_type": "code",
   "execution_count": null,
   "metadata": {},
   "outputs": [],
   "source": []
  },
  {
   "cell_type": "markdown",
   "metadata": {},
   "source": [
    "### Pickled Testing"
   ]
  },
  {
   "cell_type": "code",
   "execution_count": 72,
   "metadata": {},
   "outputs": [],
   "source": [
    "cnt_vct = pickle.load(open(\"web_data/count_vectorizer.pkl\", \"rb\"))\n",
    "tfidf_new_matrix = pickle.load(open(\"web_data/tfidf_new_matrix.pkl\", \"rb\"))\n",
    "docID = pickle.load(open(\"web_data/doc_id_dict.pkl\", \"rb\"))"
   ]
  },
  {
   "cell_type": "code",
   "execution_count": 73,
   "metadata": {
    "ExecuteTime": {
     "end_time": "2021-04-22T03:03:36.207427Z",
     "start_time": "2021-04-22T03:03:21.714Z"
    }
   },
   "outputs": [
    {
     "name": "stdout",
     "output_type": "stream",
     "text": [
      "['vVRbl4QAAAAJ', 'a2Wgu0EAAAAJ', '0MNT3h8AAAAJ', 'qBUNlhUAAAAJ', 'pIkLx0AAAAAJ', 'inrwXiIAAAAJ', 'kB1K2McAAAAJ', 'kB1K2McAAAAJ', 'OVjv4SUAAAAJ', 'SkUNteYAAAAJ']\n"
     ]
    }
   ],
   "source": [
    "query=\"machine learning\"\n",
    "# print(features[3730])\n",
    "query = process_string(query)\n",
    "cnt_matrix_test = cnt_vct.transform([query])\n",
    "cnt_matrix_test_arr = cnt_matrix_test.toarray()\n",
    "\n",
    "res = np.matmul(tfidf_new_matrix,cnt_matrix_test_arr.T).squeeze()\n",
    "related_docs_indices = res.argsort()[:-10:-1]\n",
    "related_results = [docID[i] for i in related_docs_indices]\n",
    "print(related_results)"
   ]
  },
  {
   "cell_type": "code",
   "execution_count": null,
   "metadata": {},
   "outputs": [],
   "source": []
  }
 ],
 "metadata": {
  "kernelspec": {
   "display_name": "Python 3",
   "language": "python",
   "name": "python3"
  },
  "language_info": {
   "codemirror_mode": {
    "name": "ipython",
    "version": 3
   },
   "file_extension": ".py",
   "mimetype": "text/x-python",
   "name": "python",
   "nbconvert_exporter": "python",
   "pygments_lexer": "ipython3",
   "version": "3.8.8"
  },
  "toc": {
   "base_numbering": 1,
   "nav_menu": {},
   "number_sections": true,
   "sideBar": true,
   "skip_h1_title": false,
   "title_cell": "Table of Contents",
   "title_sidebar": "Contents",
   "toc_cell": false,
   "toc_position": {},
   "toc_section_display": true,
   "toc_window_display": false
  },
  "varInspector": {
   "cols": {
    "lenName": 16,
    "lenType": 16,
    "lenVar": 40
   },
   "kernels_config": {
    "python": {
     "delete_cmd_postfix": "",
     "delete_cmd_prefix": "del ",
     "library": "var_list.py",
     "varRefreshCmd": "print(var_dic_list())"
    },
    "r": {
     "delete_cmd_postfix": ") ",
     "delete_cmd_prefix": "rm(",
     "library": "var_list.r",
     "varRefreshCmd": "cat(var_dic_list()) "
    }
   },
   "types_to_exclude": [
    "module",
    "function",
    "builtin_function_or_method",
    "instance",
    "_Feature"
   ],
   "window_display": false
  }
 },
 "nbformat": 4,
 "nbformat_minor": 4
}