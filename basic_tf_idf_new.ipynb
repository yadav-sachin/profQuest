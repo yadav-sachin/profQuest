{
 "cells": [
  {
   "cell_type": "code",
   "execution_count": 1,
   "metadata": {
    "ExecuteTime": {
     "end_time": "2021-04-30T17:04:42.141375Z",
     "start_time": "2021-04-30T17:04:40.452278Z"
    }
   },
   "outputs": [],
   "source": [
    "# Reference used: https://www.geeksforgeeks.org/tf-idf-for-bigrams-trigrams/\n",
    "import nltk \n",
    "import re \n",
    "import math\n",
    "import numpy as np\n",
    "import pandas as pd\n",
    "from sklearn.feature_extraction.text import CountVectorizer, TfidfVectorizer\n",
    "from sklearn.metrics.pairwise import cosine_similarity \n",
    "from sklearn.metrics.pairwise import linear_kernel\n",
    "from sklearn.preprocessing import normalize\n",
    "from sklearn.linear_model import Ridge\n",
    "from nltk.corpus import stopwords\n",
    "from nltk.tokenize import word_tokenize\n",
    "from nltk.stem import PorterStemmer\n",
    "from nltk.util import ngrams\n",
    "import pandas as pd   \n",
    "import jsonlines\n",
    "import json\n",
    "from tqdm.notebook import tqdm\n",
    "import pickle\n",
    "from scipy.sparse import csr_matrix"
   ]
  },
  {
   "cell_type": "code",
   "execution_count": 2,
   "metadata": {
    "ExecuteTime": {
     "end_time": "2021-04-30T17:04:42.156546Z",
     "start_time": "2021-04-30T17:04:42.143755Z"
    }
   },
   "outputs": [
    {
     "data": {
      "application/javascript": [
       "if (!(\"Notification\" in window)) {\n",
       "    alert(\"This browser does not support desktop notifications, so the %%notify magic will not work.\");\n",
       "} else if (Notification.permission !== 'granted' && Notification.permission !== 'denied') {\n",
       "    Notification.requestPermission(function (permission) {\n",
       "        if(!('permission' in Notification)) {\n",
       "            Notification.permission = permission;\n",
       "        }\n",
       "    })\n",
       "}\n"
      ],
      "text/plain": [
       "<IPython.core.display.Javascript object>"
      ]
     },
     "metadata": {},
     "output_type": "display_data"
    }
   ],
   "source": [
    "%load_ext jupyternotify"
   ]
  },
  {
   "cell_type": "code",
   "execution_count": 3,
   "metadata": {
    "ExecuteTime": {
     "end_time": "2021-04-30T17:04:42.537350Z",
     "start_time": "2021-04-30T17:04:42.158603Z"
    }
   },
   "outputs": [
    {
     "name": "stderr",
     "output_type": "stream",
     "text": [
      "[nltk_data] Downloading package punkt to\n",
      "[nltk_data]     C:\\Users\\RAGHAV\\AppData\\Roaming\\nltk_data...\n",
      "[nltk_data]   Package punkt is already up-to-date!\n",
      "[nltk_data] Downloading package stopwords to\n",
      "[nltk_data]     C:\\Users\\RAGHAV\\AppData\\Roaming\\nltk_data...\n",
      "[nltk_data]   Package stopwords is already up-to-date!\n"
     ]
    },
    {
     "data": {
      "text/plain": [
       "True"
      ]
     },
     "execution_count": 3,
     "metadata": {},
     "output_type": "execute_result"
    }
   ],
   "source": [
    "nltk.download('punkt')\n",
    "nltk.download('stopwords')"
   ]
  },
  {
   "cell_type": "code",
   "execution_count": 4,
   "metadata": {
    "ExecuteTime": {
     "end_time": "2021-04-30T17:04:45.195086Z",
     "start_time": "2021-04-30T17:04:42.539842Z"
    }
   },
   "outputs": [
    {
     "data": {
      "application/vnd.jupyter.widget-view+json": {
       "model_id": "",
       "version_major": 2,
       "version_minor": 0
      },
      "text/plain": [
       "0it [00:00, ?it/s]"
      ]
     },
     "metadata": {},
     "output_type": "display_data"
    }
   ],
   "source": [
    "documents = []\n",
    "docID = {}\n",
    "userIndex = {}\n",
    "term_total_citations = {}\n",
    "author_term_citations = {}\n",
    "idx = 0\n",
    "with jsonlines.open('data_india_sample.jl') as reader:\n",
    "    for obj in tqdm(reader, leave=False):\n",
    "        if obj['user'] not in userIndex:\n",
    "            documents.append(obj)\n",
    "            docID[idx] = obj['user']\n",
    "            userIndex[obj['user']] = idx\n",
    "            author_term_citations[obj['user']] = {}\n",
    "            idx += 1"
   ]
  },
  {
   "cell_type": "code",
   "execution_count": 5,
   "metadata": {
    "ExecuteTime": {
     "end_time": "2021-04-30T17:04:45.202398Z",
     "start_time": "2021-04-30T17:04:45.197344Z"
    }
   },
   "outputs": [],
   "source": [
    "# Code Taken From: https://www.geeksforgeeks.org/tf-idf-for-bigrams-trigrams/\n",
    "def remove_string_special_characters(s):\n",
    "    # removes special characters with ' '\n",
    "    stripped = re.sub('[^a-zA-z\\s]', ' ', s)\n",
    "#     print(stripped)\n",
    "    stripped = re.sub('_', ' ', stripped)\n",
    "      \n",
    "    # Change any white space to one space\n",
    "    stripped = re.sub('\\s+', ' ', stripped)\n",
    "      \n",
    "    # Remove start and end white spaces\n",
    "    stripped = stripped.strip()\n",
    "    if stripped != '':\n",
    "            return stripped.lower()"
   ]
  },
  {
   "cell_type": "code",
   "execution_count": 6,
   "metadata": {
    "ExecuteTime": {
     "end_time": "2021-04-30T17:04:45.208682Z",
     "start_time": "2021-04-30T17:04:45.204707Z"
    }
   },
   "outputs": [],
   "source": [
    "# Code Reference: https://www.geeksforgeeks.org/python-stemming-words-with-nltk/\n",
    "def stem_string(sentence):\n",
    "    ps = PorterStemmer()\n",
    "    \n",
    "    words = word_tokenize(sentence)\n",
    "    words = [ps.stem(word) for word in words]\n",
    "    return \" \".join(words)"
   ]
  },
  {
   "cell_type": "code",
   "execution_count": 7,
   "metadata": {
    "ExecuteTime": {
     "end_time": "2021-04-30T17:04:45.216382Z",
     "start_time": "2021-04-30T17:04:45.212110Z"
    }
   },
   "outputs": [],
   "source": [
    "def remove_stop_words(sentence):\n",
    "    stop_words = set(stopwords.words('english'))\n",
    "    words = word_tokenize(sentence)\n",
    "    words = [word for word in words if word not in stop_words]\n",
    "    return \" \".join(words)"
   ]
  },
  {
   "cell_type": "code",
   "execution_count": 8,
   "metadata": {
    "ExecuteTime": {
     "end_time": "2021-04-30T17:04:45.223644Z",
     "start_time": "2021-04-30T17:04:45.219513Z"
    }
   },
   "outputs": [],
   "source": [
    "def process_string(sentence):\n",
    "    sentence = remove_string_special_characters(sentence)\n",
    "    sentence = stem_string(sentence)\n",
    "    sentence = remove_stop_words(sentence)\n",
    "    return sentence"
   ]
  },
  {
   "cell_type": "markdown",
   "metadata": {},
   "source": [
    "## TF-IDF Matrix"
   ]
  },
  {
   "cell_type": "code",
   "execution_count": 9,
   "metadata": {
    "ExecuteTime": {
     "end_time": "2021-04-30T17:04:45.233207Z",
     "start_time": "2021-04-30T17:04:45.226237Z"
    }
   },
   "outputs": [],
   "source": [
    "def update_term_citations(document, sentence, numCitations, userID):\n",
    "    sentence = sentence.lower()\n",
    "    sentence = re.sub(r'[^a-zA-Z0-9\\s]', ' ', sentence)\n",
    "    tokens = [token for token in sentence.split(\" \") if token != \"\"]\n",
    "    for n in range(1, 5):\n",
    "        seen_ngms = []\n",
    "        ngms = list(ngrams(tokens, n))\n",
    "        for ngm in ngms:\n",
    "            gm = \" \".join(ngm)\n",
    "            if gm in seen_ngms:\n",
    "                continue\n",
    "            seen_ngms.append(gm)\n",
    "            if gm in author_term_citations[userID]:\n",
    "                author_term_citations[userID][gm] += numCitations\n",
    "            else:\n",
    "                author_term_citations[userID][gm] = numCitations\n",
    "            if gm in term_total_citations:\n",
    "                term_total_citations[gm] += numCitations\n",
    "            else:\n",
    "                term_total_citations[gm] = numCitations + 1"
   ]
  },
  {
   "cell_type": "code",
   "execution_count": 10,
   "metadata": {
    "ExecuteTime": {
     "end_time": "2021-04-30T17:05:05.626758Z",
     "start_time": "2021-04-30T17:04:45.235520Z"
    }
   },
   "outputs": [
    {
     "data": {
      "application/vnd.jupyter.widget-view+json": {
       "model_id": "",
       "version_major": 2,
       "version_minor": 0
      },
      "text/plain": [
       "  0%|          | 0/994 [00:00<?, ?it/s]"
      ]
     },
     "metadata": {},
     "output_type": "display_data"
    }
   ],
   "source": [
    "word_documents = []\n",
    "for document in tqdm(documents, leave=False):\n",
    "    sentences = []\n",
    "    for subject in document['subjects']:\n",
    "        sentence = process_string(subject)\n",
    "        sentences.append(sentence)\n",
    "        update_term_citations(document, sentence, int(document['citationsAll']), document['user'])\n",
    "    for paper in document['papers']:\n",
    "        try:\n",
    "            sentence = paper['title'] + \" \" + paper['conference']\n",
    "            sentence = process_string(sentence)\n",
    "        except: \n",
    "            continue\n",
    "        update_term_citations(document, sentence, paper['citations'], document['user'])\n",
    "        sentences.append(sentence)\n",
    "\n",
    "    word_documents.append(\".\\n\".join(sentences))"
   ]
  },
  {
   "cell_type": "code",
   "execution_count": null,
   "metadata": {
    "ExecuteTime": {
     "end_time": "2021-04-30T17:05:05.663817Z",
     "start_time": "2021-04-30T17:04:41.680Z"
    }
   },
   "outputs": [],
   "source": [
    "vectorizer = TfidfVectorizer(stop_words='english', ngram_range=(1,4), analyzer='word')\n",
    "tfidf_matrix = vectorizer.fit_transform(word_documents) \n",
    "features = (vectorizer.get_feature_names())\n",
    "idf_scores = vectorizer.idf_\n",
    "\n",
    "cnt_vct = CountVectorizer(stop_words='english', ngram_range=(1,4), analyzer='word')\n",
    "cnt_matrix = cnt_vct.fit_transform(word_documents)\n",
    "cnt_features = cnt_vct.get_feature_names()\n",
    "\n",
    "idf_scores = csr_matrix(idf_scores)\n",
    "tfidf_new_matrix = csr_matrix.copy(csr_matrix.astype(cnt_matrix, dtype=np.float64))\n",
    "for row in tqdm(range(cnt_matrix.shape[0]), leave=False):\n",
    "    tfidf_new_matrix[row] = tfidf_new_matrix[row].multiply(idf_scores)\n",
    "print(tfidf_new_matrix.shape)"
   ]
  },
  {
   "cell_type": "markdown",
   "metadata": {
    "ExecuteTime": {
     "start_time": "2021-04-30T16:29:13.483Z"
    }
   },
   "source": [
    "### Multiply the Citations Log Factor"
   ]
  },
  {
   "cell_type": "code",
   "execution_count": null,
   "metadata": {
    "ExecuteTime": {
     "end_time": "2021-04-30T17:05:05.667093Z",
     "start_time": "2021-04-30T17:04:41.683Z"
    }
   },
   "outputs": [],
   "source": [
    "feature_idx = {}\n",
    "for idx, feature in enumerate(cnt_features):\n",
    "    feature_idx[feature] = idx\n",
    "\n",
    "for author, author_dict in tqdm(author_term_citations.items(), leave=False):\n",
    "    for term, term_citations in author_dict.items():\n",
    "        if term in feature_idx:\n",
    "            term_idx = feature_idx[term]\n",
    "            author_idx = userIndex[author]\n",
    "            if tfidf_new_matrix[author_idx, term_idx]:\n",
    "                log_factor = math.log( 1 + (term_citations / term_total_citations[term]) , 2)\n",
    "                tfidf_new_matrix[author_idx, term_idx] *= log_factor"
   ]
  },
  {
   "cell_type": "markdown",
   "metadata": {},
   "source": [
    "# Activeness "
   ]
  },
  {
   "cell_type": "code",
   "execution_count": null,
   "metadata": {
    "ExecuteTime": {
     "end_time": "2021-04-30T17:05:05.668843Z",
     "start_time": "2021-04-30T17:04:41.685Z"
    }
   },
   "outputs": [],
   "source": [
    "#check index orders\n",
    "\n",
    "#rows -> professors \n",
    "#columns -> 2020, 2020+2019, 2020+2019+2018 .... cumulative no of citations\n",
    "\n",
    "maxrng=20\n",
    "minyr,maxyr=2001,2020\n",
    "mat_activeness = np.zeros((len(documents),maxrng))\n",
    "ind=0\n",
    "for document in tqdm(documents, leave=False):\n",
    "    papers=document['papers']\n",
    "    for paper in papers:\n",
    "        paperyr=paper['year']\n",
    "        if paperyr>=minyr and paperyr<=maxyr:\n",
    "            dis=maxyr-paperyr\n",
    "            mat_activeness[ind,dis]+=paper['citations']\n",
    "    ind+=1\n",
    "\n",
    "ind=0\n",
    "for i in range(mat_activeness.shape[0]):\n",
    "    for j in range(mat_activeness.shape[1]):\n",
    "        if j>0:\n",
    "            mat_activeness[i,j]+=mat_activeness[i,j-1]\n",
    "            "
   ]
  },
  {
   "cell_type": "markdown",
   "metadata": {},
   "source": [
    "## Slope, Hindex, Institute Reputation"
   ]
  },
  {
   "cell_type": "code",
   "execution_count": null,
   "metadata": {},
   "outputs": [],
   "source": [
    "def slope_calc(citations):\n",
    "    n = len(citations)\n",
    "    clf = Ridge(alpha=10, fit_intercept=False)\n",
    "    xinds = np.array([i for i in range(n)]).reshape(-1,1)\n",
    "    xinds = np.concatenate([np.ones((n,1)),xinds],axis=1)\n",
    "    clf.fit(xinds,citations)\n",
    "    return clf.coef_[1]\n",
    "\n",
    "def get_insti_ranks():\n",
    "    files = [\"india_institutes.txt\", \"britain_institutes.txt\", \"america_institutes.txt\"]\n",
    "    insti_score = dict()\n",
    "    for file in files:\n",
    "        path = \"web_data/\"+file\n",
    "        with open(path,\"r\") as f:\n",
    "            insti = f.readlines()\n",
    "            instinew=[]\n",
    "            for institute in insti:\n",
    "                instinew.append(institute.strip())\n",
    "            insti = list(filter(lambda x:x!='\\n',instinew))\n",
    "            n = len(insti)\n",
    "            maxrank, minrank = 100,1\n",
    "            diff = (maxrank-minrank)/(n-1)\n",
    "            cur=maxrank\n",
    "            for institute in insti:\n",
    "                insti_score[institute] = cur\n",
    "                cur-=diff\n",
    "    return insti_score\n",
    "                         \n",
    "# get_insti_ranks()                         \n",
    "# slope_calc([3, 9, 14, 17, 32, 0, 49, 67, 62, 0, 94, 129, 42])\n"
   ]
  },
  {
   "cell_type": "code",
   "execution_count": null,
   "metadata": {
    "ExecuteTime": {
     "end_time": "2021-04-30T17:05:05.671164Z",
     "start_time": "2021-04-30T17:04:41.688Z"
    }
   },
   "outputs": [],
   "source": [
    "# Columns -> slope of citations, hindex, institute reputation\n",
    "ranking_metrics = np.zeros((len(documents),3))\n",
    "\n",
    "# Slope of citations (omitting current year)\n",
    "# ref: https://www.varsitytutors.com/hotmath/hotmath_help/topics/line-of-best-fit\n",
    "ind=0\n",
    "for document in tqdm(documents, leave=False):\n",
    "    cits=[]\n",
    "    for entry in document['yearCitations']:\n",
    "        dictx = json.loads(entry)\n",
    "        cits.append(dictx['citations'])\n",
    "    ranking_metrics[ind,0]=slope_calc(cits)\n",
    "    ind+=1           \n",
    "\n",
    "\n",
    "# H index\n",
    "ind=0\n",
    "for document in tqdm(documents, leave=False):\n",
    "    ranking_metrics[ind,1]=document[\"h-indexAll\"]\n",
    "    ind+=1\n",
    "                                                                        \n",
    "\n",
    "#Institute Reputation\n",
    "insti_ranks = get_insti_ranks()\n",
    "ind=0\n",
    "for document in tqdm(documents, leave=False):\n",
    "    ranking_metrics[ind,2] = insti_ranks[document['institute']]\n",
    "    ind+=1\n",
    "                               "
   ]
  },
  {
   "cell_type": "code",
   "execution_count": null,
   "metadata": {},
   "outputs": [],
   "source": []
  },
  {
   "cell_type": "markdown",
   "metadata": {},
   "source": [
    "### Pickle the Matrix and Vectorizer"
   ]
  },
  {
   "cell_type": "code",
   "execution_count": null,
   "metadata": {
    "ExecuteTime": {
     "end_time": "2021-04-30T17:05:05.677360Z",
     "start_time": "2021-04-30T17:04:41.694Z"
    }
   },
   "outputs": [],
   "source": [
    "pickle.dump(cnt_vct, open(\"web_data/count_vectorizer.pkl\", \"wb\"))\n",
    "pickle.dump(tfidf_new_matrix, open(\"web_data/tfidf_new_matrix.pkl\", \"wb\"))\n",
    "pickle.dump(docID, open(\"web_data/doc_id_dict.pkl\", \"wb\"))\n",
    "pickle.dump(mat_activeness, open(\"web_data/mat_activeness.pkl\", \"wb\"))\n",
    "pickle.dump(ranking_metrics, open(\"web_data/ranking_metrics.pkl\", \"wb\"))"
   ]
  },
  {
   "cell_type": "code",
   "execution_count": null,
   "metadata": {},
   "outputs": [],
   "source": []
  },
  {
   "cell_type": "markdown",
   "metadata": {},
   "source": [
    "### Query Subjects"
   ]
  },
  {
   "cell_type": "code",
   "execution_count": null,
   "metadata": {},
   "outputs": [],
   "source": []
  },
  {
   "cell_type": "code",
   "execution_count": null,
   "metadata": {},
   "outputs": [],
   "source": [
    "\n",
    "# def query_subject(subject=\"data mining\"):\n",
    "    \n",
    "#     # tf-idf\n",
    "#     query = process_string(query)\n",
    "#     cnt_matrix_query = cnt_vct.transform([query])\n",
    "#     cnt_matrix_query = csr_matrix.transpose(cnt_matrix_query)\n",
    "\n",
    "\n",
    "#     res = tfidf_new_matrix * cnt_matrix_query\n",
    "#     res = csr_matrix.transpose(res)\n",
    "#     res = res.toarray()[0]\n",
    "#     related_docs_indices = res.argsort()\n",
    "#     related_docs_indices = related_docs_indices[::-1]\n",
    "#     related_results = [docID[i] for i in related_docs_indices]\n",
    "    \n",
    "#     # activness\n",
    "#     activeness_factor = 2\n",
    "    \n",
    "    \n",
    "#     return related_results"
   ]
  },
  {
   "cell_type": "code",
   "execution_count": null,
   "metadata": {},
   "outputs": [],
   "source": [
    "# query_subject()"
   ]
  },
  {
   "cell_type": "code",
   "execution_count": null,
   "metadata": {},
   "outputs": [],
   "source": []
  },
  {
   "cell_type": "markdown",
   "metadata": {},
   "source": [
    "### Pickled Testing"
   ]
  },
  {
   "cell_type": "code",
   "execution_count": null,
   "metadata": {},
   "outputs": [],
   "source": [
    "loaded_cnt_vct = pickle.load(open(\"web_data/count_vectorizer.pkl\", \"rb\"))\n",
    "loaded_tfidf_new_matrix = pickle.load(open(\"web_data/tfidf_new_matrix.pkl\", \"rb\"))\n",
    "loaded_docID = pickle.load(open(\"web_data/doc_id_dict.pkl\", \"rb\"))\n",
    "loaded_mat_activeness = pickle.load(open(\"web_data/mat_activeness.pkl\", \"rb\"))\n",
    "loaded_ranking_metrics = pickle.load(open(\"web_data/ranking_metrics.pkl\", \"rb\"))"
   ]
  },
  {
   "cell_type": "code",
   "execution_count": null,
   "metadata": {},
   "outputs": [],
   "source": [
    "def get_tf_idf_vec(query):\n",
    "    query = process_string(query)\n",
    "    cnt_matrix_query = loaded_cnt_vct.transform([query])\n",
    "    cnt_matrix_query = csr_matrix.transpose(cnt_matrix_query)\n",
    "\n",
    "    result = loaded_tfidf_new_matrix * cnt_matrix_query\n",
    "    result = csr_matrix.transpose(result)\n",
    "    result = result.toarray()[0]\n",
    "    \n",
    "    return result\n",
    "\n",
    "def get_active_vec(year):\n",
    "    col = year-1\n",
    "    citations = loaded_mat_activeness[:,col].squeeze()\n",
    "    return citations\n",
    "\n",
    "def get_slope_vec():\n",
    "    return loaded_ranking_metrics[:,0].squeeze()\n",
    "\n",
    "def get_hindex_vec():\n",
    "    return loaded_ranking_metrics[:,1].squeeze()\n",
    "    \n",
    "def get_insti_vec():\n",
    "    return loaded_ranking_metrics[:,2].squeeze()\n",
    "\n",
    "def normalise(x):\n",
    "    return x/np.linalg.norm(x)\n",
    "\n",
    "\n",
    "def query_subject(user_input):\n",
    "    \n",
    "    #parameters\n",
    "    params = ['tfidf', 'active', 'hindex', 'slope', 'insti']\n",
    "    ranks={}\n",
    "    for param in params:\n",
    "        ranks[param]={}\n",
    "    \n",
    "    #set weight factors\n",
    "    ranks['tfidf']['wt'] = user_input['tfidf_score']\n",
    "    ranks['active']['wt'] = user_input['active_score']\n",
    "    ranks['hindex']['wt'] = user_input['hindex_score']\n",
    "    ranks['slope']['wt'] = user_input['slope_score']\n",
    "    ranks['insti']['wt'] = user_input['insti_score']\n",
    "    \n",
    "    #scale up \n",
    "    total_user_input_wt = 0\n",
    "    for key,val in ranks.items():\n",
    "        total_user_input_wt += val['wt']\n",
    "    factor = 100/total_user_input_wt\n",
    "    for key,val in ranks.items():\n",
    "        val['wt'] *= factor\n",
    "    \n",
    "    #tfidf is remaining wt\n",
    "    ranks['tfidf']['wt'] = 100\n",
    "    for key,val in ranks.items():\n",
    "        if key!='tfidf':\n",
    "            ranks['tfidf']['wt']-=val['wt']\n",
    "    \n",
    "    print(ranks)\n",
    "    \n",
    "    #tf-idf\n",
    "    ranks['tfidf']['vec'] = normalise(get_tf_idf_vec(user_input['query_string']))\n",
    "\n",
    "    #activeness\n",
    "    ranks['active']['vec'] = normalise(get_active_vec(user_input['active_yr']))\n",
    "    \n",
    "    #slope of citations\n",
    "    ranks['slope']['vec'] = normalise(get_slope_vec())\n",
    "    \n",
    "    #h-index\n",
    "    ranks['hindex']['vec'] = normalise(get_hindex_vec())\n",
    "    \n",
    "    #institute reputation\n",
    "    ranks['insti']['vec'] = normalise(get_insti_vec())\n",
    "    \n",
    "    #final score\n",
    "    final_sc = np.zeros(ranks['tfidf']['vec'].size)\n",
    "    for key,val in ranks.items():\n",
    "        final_sc += val['wt']*val['vec']\n",
    "        \n",
    "    indices = final_sc.argsort()\n",
    "    indices = indices[::-1]\n",
    "    profs = [loaded_docID[i] for i in indices]\n",
    "    \n",
    "    return profs"
   ]
  },
  {
   "cell_type": "code",
   "execution_count": null,
   "metadata": {},
   "outputs": [],
   "source": [
    "#generate in code using user input\n",
    "input_obj = dict()\n",
    "input_obj['query_string'] = 'data mining'\n",
    "input_obj['active_yr'] = 5\n",
    "input_obj['tfidf_score'] = 10\n",
    "input_obj['active_score'] = 0\n",
    "input_obj['hindex_score'] = 0\n",
    "input_obj['slope_score'] = 0\n",
    "input_obj['insti_score'] = 0\n",
    "\n",
    "print(query_subject(input_obj))"
   ]
  },
  {
   "cell_type": "code",
   "execution_count": null,
   "metadata": {
    "ExecuteTime": {
     "end_time": "2021-04-30T17:05:05.692397Z",
     "start_time": "2021-04-30T17:04:41.699Z"
    }
   },
   "outputs": [],
   "source": [
    "#old code\n",
    "\n",
    "# query=\"data mining\"\n",
    "# query = process_string(query)\n",
    "# cnt_matrix_query = loaded_cnt_vct.transform([query])\n",
    "# cnt_matrix_query = csr_matrix.transpose(cnt_matrix_query)\n",
    "\n",
    "# result = loaded_tfidf_new_matrix * cnt_matrix_query\n",
    "# result = csr_matrix.transpose(result)\n",
    "# result = result.toarray()[0]\n",
    "# related_docs_indices = result.argsort()\n",
    "# related_docs_indices = related_docs_indices[::-1]\n",
    "# related_results = [loaded_docID[i] for i in related_docs_indices]"
   ]
  },
  {
   "cell_type": "code",
   "execution_count": null,
   "metadata": {},
   "outputs": [],
   "source": []
  }
 ],
 "metadata": {
  "kernelspec": {
   "display_name": "Python 3",
   "language": "python",
   "name": "python3"
  },
  "language_info": {
   "codemirror_mode": {
    "name": "ipython",
    "version": 3
   },
   "file_extension": ".py",
   "mimetype": "text/x-python",
   "name": "python",
   "nbconvert_exporter": "python",
   "pygments_lexer": "ipython3",
   "version": "3.8.8"
  },
  "toc": {
   "base_numbering": 1,
   "nav_menu": {},
   "number_sections": true,
   "sideBar": true,
   "skip_h1_title": false,
   "title_cell": "Table of Contents",
   "title_sidebar": "Contents",
   "toc_cell": false,
   "toc_position": {},
   "toc_section_display": true,
   "toc_window_display": false
  },
  "varInspector": {
   "cols": {
    "lenName": 16,
    "lenType": 16,
    "lenVar": 40
   },
   "kernels_config": {
    "python": {
     "delete_cmd_postfix": "",
     "delete_cmd_prefix": "del ",
     "library": "var_list.py",
     "varRefreshCmd": "print(var_dic_list())"
    },
    "r": {
     "delete_cmd_postfix": ") ",
     "delete_cmd_prefix": "rm(",
     "library": "var_list.r",
     "varRefreshCmd": "cat(var_dic_list()) "
    }
   },
   "types_to_exclude": [
    "module",
    "function",
    "builtin_function_or_method",
    "instance",
    "_Feature"
   ],
   "window_display": false
  }
 },
 "nbformat": 4,
 "nbformat_minor": 4
}
