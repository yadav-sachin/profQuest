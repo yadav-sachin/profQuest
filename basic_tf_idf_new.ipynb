{
 "cells": [
  {
   "cell_type": "code",
   "execution_count": 1,
   "metadata": {
    "ExecuteTime": {
     "end_time": "2021-04-30T17:04:42.141375Z",
     "start_time": "2021-04-30T17:04:40.452278Z"
    }
   },
   "outputs": [],
   "source": [
    "# Reference used: https://www.geeksforgeeks.org/tf-idf-for-bigrams-trigrams/\n",
    "import nltk \n",
    "import re \n",
    "import math\n",
    "import numpy as np\n",
    "import pandas as pd\n",
    "from sklearn.feature_extraction.text import CountVectorizer, TfidfVectorizer\n",
    "from sklearn.metrics.pairwise import cosine_similarity \n",
    "from sklearn.metrics.pairwise import linear_kernel\n",
    "from sklearn.preprocessing import normalize\n",
    "from sklearn.linear_model import Ridge\n",
    "from nltk.corpus import stopwords\n",
    "from nltk.tokenize import word_tokenize\n",
    "from nltk.stem import PorterStemmer\n",
    "from nltk.util import ngrams\n",
    "import pandas as pd   \n",
    "import jsonlines\n",
    "import json\n",
    "from tqdm.notebook import tqdm\n",
    "import pickle\n",
    "from scipy.sparse import csr_matrix"
   ]
  },
  {
   "cell_type": "code",
   "execution_count": 2,
   "metadata": {
    "ExecuteTime": {
     "end_time": "2021-04-30T17:04:42.156546Z",
     "start_time": "2021-04-30T17:04:42.143755Z"
    }
   },
   "outputs": [
    {
     "data": {
      "application/javascript": [
       "if (!(\"Notification\" in window)) {\n",
       "    alert(\"This browser does not support desktop notifications, so the %%notify magic will not work.\");\n",
       "} else if (Notification.permission !== 'granted' && Notification.permission !== 'denied') {\n",
       "    Notification.requestPermission(function (permission) {\n",
       "        if(!('permission' in Notification)) {\n",
       "            Notification.permission = permission;\n",
       "        }\n",
       "    })\n",
       "}\n"
      ],
      "text/plain": [
       "<IPython.core.display.Javascript object>"
      ]
     },
     "metadata": {},
     "output_type": "display_data"
    }
   ],
   "source": [
    "%load_ext jupyternotify"
   ]
  },
  {
   "cell_type": "code",
   "execution_count": 3,
   "metadata": {
    "ExecuteTime": {
     "end_time": "2021-04-30T17:04:42.537350Z",
     "start_time": "2021-04-30T17:04:42.158603Z"
    }
   },
   "outputs": [
    {
     "name": "stderr",
     "output_type": "stream",
     "text": [
      "[nltk_data] Downloading package punkt to\n",
      "[nltk_data]     C:\\Users\\RAGHAV\\AppData\\Roaming\\nltk_data...\n",
      "[nltk_data]   Package punkt is already up-to-date!\n",
      "[nltk_data] Downloading package stopwords to\n",
      "[nltk_data]     C:\\Users\\RAGHAV\\AppData\\Roaming\\nltk_data...\n",
      "[nltk_data]   Package stopwords is already up-to-date!\n"
     ]
    },
    {
     "data": {
      "text/plain": [
       "True"
      ]
     },
     "execution_count": 3,
     "metadata": {},
     "output_type": "execute_result"
    }
   ],
   "source": [
    "nltk.download('punkt')\n",
    "nltk.download('stopwords')"
   ]
  },
  {
   "cell_type": "code",
   "execution_count": 4,
   "metadata": {
    "ExecuteTime": {
     "end_time": "2021-04-30T17:04:45.195086Z",
     "start_time": "2021-04-30T17:04:42.539842Z"
    }
   },
   "outputs": [
    {
     "data": {
      "application/vnd.jupyter.widget-view+json": {
       "model_id": "",
       "version_major": 2,
       "version_minor": 0
      },
      "text/plain": [
       "0it [00:00, ?it/s]"
      ]
     },
     "metadata": {},
     "output_type": "display_data"
    }
   ],
   "source": [
    "documents = []\n",
    "docID = {}\n",
    "userIndex = {}\n",
    "term_total_citations = {}\n",
    "author_term_citations = {}\n",
    "idx = 0\n",
    "with jsonlines.open('data_india_sample.jl') as reader:\n",
    "    for obj in tqdm(reader, leave=False):\n",
    "        if obj['user'] not in userIndex:\n",
    "            documents.append(obj)\n",
    "            docID[idx] = obj['user']\n",
    "            userIndex[obj['user']] = idx\n",
    "            author_term_citations[obj['user']] = {}\n",
    "            idx += 1"
   ]
  },
  {
   "cell_type": "code",
   "execution_count": 5,
   "metadata": {
    "ExecuteTime": {
     "end_time": "2021-04-30T17:04:45.202398Z",
     "start_time": "2021-04-30T17:04:45.197344Z"
    }
   },
   "outputs": [],
   "source": [
    "# Code Taken From: https://www.geeksforgeeks.org/tf-idf-for-bigrams-trigrams/\n",
    "def remove_string_special_characters(s):\n",
    "    # removes special characters with ' '\n",
    "    stripped = re.sub('[^a-zA-z\\s]', ' ', s)\n",
    "#     print(stripped)\n",
    "    stripped = re.sub('_', ' ', stripped)\n",
    "      \n",
    "    # Change any white space to one space\n",
    "    stripped = re.sub('\\s+', ' ', stripped)\n",
    "      \n",
    "    # Remove start and end white spaces\n",
    "    stripped = stripped.strip()\n",
    "    if stripped != '':\n",
    "            return stripped.lower()"
   ]
  },
  {
   "cell_type": "code",
   "execution_count": 6,
   "metadata": {
    "ExecuteTime": {
     "end_time": "2021-04-30T17:04:45.208682Z",
     "start_time": "2021-04-30T17:04:45.204707Z"
    }
   },
   "outputs": [],
   "source": [
    "# Code Reference: https://www.geeksforgeeks.org/python-stemming-words-with-nltk/\n",
    "def stem_string(sentence):\n",
    "    ps = PorterStemmer()\n",
    "    \n",
    "    words = word_tokenize(sentence)\n",
    "    words = [ps.stem(word) for word in words]\n",
    "    return \" \".join(words)"
   ]
  },
  {
   "cell_type": "code",
   "execution_count": 7,
   "metadata": {
    "ExecuteTime": {
     "end_time": "2021-04-30T17:04:45.216382Z",
     "start_time": "2021-04-30T17:04:45.212110Z"
    }
   },
   "outputs": [],
   "source": [
    "def remove_stop_words(sentence):\n",
    "    stop_words = set(stopwords.words('english'))\n",
    "    words = word_tokenize(sentence)\n",
    "    words = [word for word in words if word not in stop_words]\n",
    "    return \" \".join(words)"
   ]
  },
  {
   "cell_type": "code",
   "execution_count": 8,
   "metadata": {
    "ExecuteTime": {
     "end_time": "2021-04-30T17:04:45.223644Z",
     "start_time": "2021-04-30T17:04:45.219513Z"
    }
   },
   "outputs": [],
   "source": [
    "def process_string(sentence):\n",
    "    sentence = remove_string_special_characters(sentence)\n",
    "    sentence = stem_string(sentence)\n",
    "    sentence = remove_stop_words(sentence)\n",
    "    return sentence"
   ]
  },
  {
   "cell_type": "markdown",
   "metadata": {},
   "source": [
    "## TF-IDF Matrix"
   ]
  },
  {
   "cell_type": "code",
   "execution_count": 9,
   "metadata": {
    "ExecuteTime": {
     "end_time": "2021-04-30T17:04:45.233207Z",
     "start_time": "2021-04-30T17:04:45.226237Z"
    }
   },
   "outputs": [],
   "source": [
    "def update_term_citations(document, sentence, numCitations, userID):\n",
    "    sentence = sentence.lower()\n",
    "    sentence = re.sub(r'[^a-zA-Z0-9\\s]', ' ', sentence)\n",
    "    tokens = [token for token in sentence.split(\" \") if token != \"\"]\n",
    "    for n in range(1, 5):\n",
    "        seen_ngms = []\n",
    "        ngms = list(ngrams(tokens, n))\n",
    "        for ngm in ngms:\n",
    "            gm = \" \".join(ngm)\n",
    "            if gm in seen_ngms:\n",
    "                continue\n",
    "            seen_ngms.append(gm)\n",
    "            if gm in author_term_citations[userID]:\n",
    "                author_term_citations[userID][gm] += numCitations\n",
    "            else:\n",
    "                author_term_citations[userID][gm] = numCitations\n",
    "            if gm in term_total_citations:\n",
    "                term_total_citations[gm] += numCitations\n",
    "            else:\n",
    "                term_total_citations[gm] = numCitations + 1"
   ]
  },
  {
   "cell_type": "code",
   "execution_count": 10,
   "metadata": {
    "ExecuteTime": {
     "end_time": "2021-04-30T17:05:05.626758Z",
     "start_time": "2021-04-30T17:04:45.235520Z"
    }
   },
   "outputs": [
    {
     "data": {
      "application/vnd.jupyter.widget-view+json": {
       "model_id": "",
       "version_major": 2,
       "version_minor": 0
      },
      "text/plain": [
       "  0%|          | 0/994 [00:00<?, ?it/s]"
      ]
     },
     "metadata": {},
     "output_type": "display_data"
    }
   ],
   "source": [
    "word_documents = []\n",
    "for document in tqdm(documents, leave=False):\n",
    "    sentences = []\n",
    "    for subject in document['subjects']:\n",
    "        sentence = process_string(subject)\n",
    "        sentences.append(sentence)\n",
    "        update_term_citations(document, sentence, int(document['citationsAll']), document['user'])\n",
    "    for paper in document['papers']:\n",
    "        try:\n",
    "            sentence = paper['title'] + \" \" + paper['conference']\n",
    "            sentence = process_string(sentence)\n",
    "        except: \n",
    "            continue\n",
    "        update_term_citations(document, sentence, paper['citations'], document['user'])\n",
    "        sentences.append(sentence)\n",
    "\n",
    "    word_documents.append(\".\\n\".join(sentences))"
   ]
  },
  {
   "cell_type": "code",
   "execution_count": 11,
   "metadata": {
    "ExecuteTime": {
     "end_time": "2021-04-30T17:05:05.663817Z",
     "start_time": "2021-04-30T17:04:41.680Z"
    }
   },
   "outputs": [
    {
     "data": {
      "application/vnd.jupyter.widget-view+json": {
       "model_id": "",
       "version_major": 2,
       "version_minor": 0
      },
      "text/plain": [
       "  0%|          | 0/994 [00:00<?, ?it/s]"
      ]
     },
     "metadata": {},
     "output_type": "display_data"
    },
    {
     "name": "stdout",
     "output_type": "stream",
     "text": [
      "(994, 370417)\n"
     ]
    }
   ],
   "source": [
    "vectorizer = TfidfVectorizer(stop_words='english', ngram_range=(1,4), analyzer='word')\n",
    "tfidf_matrix = vectorizer.fit_transform(word_documents) \n",
    "features = (vectorizer.get_feature_names())\n",
    "idf_scores = vectorizer.idf_\n",
    "\n",
    "cnt_vct = CountVectorizer(stop_words='english', ngram_range=(1,4), analyzer='word')\n",
    "cnt_matrix = cnt_vct.fit_transform(word_documents)\n",
    "cnt_features = cnt_vct.get_feature_names()\n",
    "\n",
    "idf_scores = csr_matrix(idf_scores)\n",
    "tfidf_new_matrix = csr_matrix.copy(csr_matrix.astype(cnt_matrix, dtype=np.float64))\n",
    "for row in tqdm(range(cnt_matrix.shape[0]), leave=False):\n",
    "    tfidf_new_matrix[row] = tfidf_new_matrix[row].multiply(idf_scores)\n",
    "print(tfidf_new_matrix.shape)"
   ]
  },
  {
   "cell_type": "markdown",
   "metadata": {
    "ExecuteTime": {
     "start_time": "2021-04-30T16:29:13.483Z"
    }
   },
   "source": [
    "### Multiply the Citations Log Factor"
   ]
  },
  {
   "cell_type": "code",
   "execution_count": 12,
   "metadata": {
    "ExecuteTime": {
     "end_time": "2021-04-30T17:05:05.667093Z",
     "start_time": "2021-04-30T17:04:41.683Z"
    }
   },
   "outputs": [
    {
     "data": {
      "application/vnd.jupyter.widget-view+json": {
       "model_id": "",
       "version_major": 2,
       "version_minor": 0
      },
      "text/plain": [
       "  0%|          | 0/994 [00:00<?, ?it/s]"
      ]
     },
     "metadata": {},
     "output_type": "display_data"
    }
   ],
   "source": [
    "feature_idx = {}\n",
    "for idx, feature in enumerate(cnt_features):\n",
    "    feature_idx[feature] = idx\n",
    "\n",
    "for author, author_dict in tqdm(author_term_citations.items(), leave=False):\n",
    "    for term, term_citations in author_dict.items():\n",
    "        if term in feature_idx:\n",
    "            term_idx = feature_idx[term]\n",
    "            author_idx = userIndex[author]\n",
    "            if tfidf_new_matrix[author_idx, term_idx]:\n",
    "                log_factor = math.log( 1 + (term_citations / term_total_citations[term]) , 2)\n",
    "                tfidf_new_matrix[author_idx, term_idx] *= log_factor"
   ]
  },
  {
   "cell_type": "markdown",
   "metadata": {},
   "source": [
    "# Activeness "
   ]
  },
  {
   "cell_type": "code",
   "execution_count": 13,
   "metadata": {
    "ExecuteTime": {
     "end_time": "2021-04-30T17:05:05.668843Z",
     "start_time": "2021-04-30T17:04:41.685Z"
    }
   },
   "outputs": [
    {
     "data": {
      "application/vnd.jupyter.widget-view+json": {
       "model_id": "",
       "version_major": 2,
       "version_minor": 0
      },
      "text/plain": [
       "  0%|          | 0/994 [00:00<?, ?it/s]"
      ]
     },
     "metadata": {},
     "output_type": "display_data"
    }
   ],
   "source": [
    "#check index orders\n",
    "\n",
    "#rows -> professors \n",
    "#columns -> 2020, 2020+2019, 2020+2019+2018 .... cumulative no of citations\n",
    "\n",
    "maxrng=20\n",
    "minyr,maxyr=2001,2020\n",
    "mat_activeness = np.zeros((len(documents),maxrng))\n",
    "ind=0\n",
    "for document in tqdm(documents, leave=False):\n",
    "    papers=document['papers']\n",
    "    for paper in papers:\n",
    "        paperyr=paper['year']\n",
    "        if paperyr>=minyr and paperyr<=maxyr:\n",
    "            dis=maxyr-paperyr\n",
    "            mat_activeness[ind,dis]+=paper['citations']\n",
    "    ind+=1\n",
    "\n",
    "ind=0\n",
    "for i in range(mat_activeness.shape[0]):\n",
    "    for j in range(mat_activeness.shape[1]):\n",
    "        if j>0:\n",
    "            mat_activeness[i,j]+=mat_activeness[i,j-1]\n",
    "            "
   ]
  },
  {
   "cell_type": "markdown",
   "metadata": {},
   "source": [
    "## Slope, Hindex, Institute Reputation"
   ]
  },
  {
   "cell_type": "code",
   "execution_count": 14,
   "metadata": {},
   "outputs": [],
   "source": [
    "def slope_calc(citations):\n",
    "    n = len(citations)\n",
    "    clf = Ridge(alpha=10, fit_intercept=False)\n",
    "    xinds = np.array([i for i in range(n)]).reshape(-1,1)\n",
    "    xinds = np.concatenate([np.ones((n,1)),xinds],axis=1)\n",
    "    clf.fit(xinds,citations)\n",
    "    return clf.coef_[1]\n",
    "\n",
    "def get_insti_ranks():\n",
    "    files = [\"india_institutes.txt\", \"britain_institutes.txt\", \"america_institutes.txt\"]\n",
    "    insti_score = dict()\n",
    "    for file in files:\n",
    "        path = \"web_data/\"+file\n",
    "        with open(path,\"r\") as f:\n",
    "            insti = f.readlines()\n",
    "            instinew=[]\n",
    "            for institute in insti:\n",
    "                instinew.append(institute.strip())\n",
    "            insti = list(filter(lambda x:x!='\\n',instinew))\n",
    "            n = len(insti)\n",
    "            maxrank, minrank = 100,1\n",
    "            diff = (maxrank-minrank)/(n-1)\n",
    "            cur=maxrank\n",
    "            for institute in insti:\n",
    "                insti_score[institute] = cur\n",
    "                cur-=diff\n",
    "    return insti_score\n",
    "                         \n",
    "# get_insti_ranks()                         \n",
    "# slope_calc([3, 9, 14, 17, 32, 0, 49, 67, 62, 0, 94, 129, 42])\n"
   ]
  },
  {
   "cell_type": "code",
   "execution_count": 15,
   "metadata": {
    "ExecuteTime": {
     "end_time": "2021-04-30T17:05:05.671164Z",
     "start_time": "2021-04-30T17:04:41.688Z"
    }
   },
   "outputs": [
    {
     "data": {
      "application/vnd.jupyter.widget-view+json": {
       "model_id": "",
       "version_major": 2,
       "version_minor": 0
      },
      "text/plain": [
       "  0%|          | 0/994 [00:00<?, ?it/s]"
      ]
     },
     "metadata": {},
     "output_type": "display_data"
    },
    {
     "data": {
      "application/vnd.jupyter.widget-view+json": {
       "model_id": "",
       "version_major": 2,
       "version_minor": 0
      },
      "text/plain": [
       "  0%|          | 0/994 [00:00<?, ?it/s]"
      ]
     },
     "metadata": {},
     "output_type": "display_data"
    },
    {
     "data": {
      "application/vnd.jupyter.widget-view+json": {
       "model_id": "",
       "version_major": 2,
       "version_minor": 0
      },
      "text/plain": [
       "  0%|          | 0/994 [00:00<?, ?it/s]"
      ]
     },
     "metadata": {},
     "output_type": "display_data"
    }
   ],
   "source": [
    "# Columns -> slope of citations, hindex, institute reputation\n",
    "ranking_metrics = np.zeros((len(documents),3))\n",
    "\n",
    "# Slope of citations (omitting current year)\n",
    "# ref: https://www.varsitytutors.com/hotmath/hotmath_help/topics/line-of-best-fit\n",
    "ind=0\n",
    "for document in tqdm(documents, leave=False):\n",
    "    cits=[]\n",
    "    for entry in document['yearCitations']:\n",
    "        dictx = json.loads(entry)\n",
    "        cits.append(dictx['citations'])\n",
    "    ranking_metrics[ind,0]=slope_calc(cits)\n",
    "    ind+=1           \n",
    "\n",
    "# H index\n",
    "ind=0\n",
    "for document in tqdm(documents, leave=False):\n",
    "    ranking_metrics[ind,1]=document[\"h-indexAll\"]\n",
    "    ind+=1\n",
    "                                                                        \n",
    "#Institute Reputation\n",
    "insti_ranks = get_insti_ranks()\n",
    "ind=0\n",
    "for document in tqdm(documents, leave=False):\n",
    "    ranking_metrics[ind,2] = insti_ranks[document['institute']]\n",
    "    ind+=1\n",
    "                               "
   ]
  },
  {
   "cell_type": "code",
   "execution_count": null,
   "metadata": {},
   "outputs": [],
   "source": []
  },
  {
   "cell_type": "markdown",
   "metadata": {},
   "source": [
    "### Pickle the Matrix and Vectorizer"
   ]
  },
  {
   "cell_type": "code",
   "execution_count": 16,
   "metadata": {
    "ExecuteTime": {
     "end_time": "2021-04-30T17:05:05.677360Z",
     "start_time": "2021-04-30T17:04:41.694Z"
    }
   },
   "outputs": [],
   "source": [
    "pickle.dump(cnt_vct, open(\"web_data/count_vectorizer.pkl\", \"wb\"))\n",
    "pickle.dump(tfidf_new_matrix, open(\"web_data/tfidf_new_matrix.pkl\", \"wb\"))\n",
    "pickle.dump(docID, open(\"web_data/doc_id_dict.pkl\", \"wb\"))\n",
    "pickle.dump(mat_activeness, open(\"web_data/mat_activeness.pkl\", \"wb\"))\n",
    "pickle.dump(ranking_metrics, open(\"web_data/ranking_metrics.pkl\", \"wb\"))"
   ]
  },
  {
   "cell_type": "code",
   "execution_count": null,
   "metadata": {},
   "outputs": [],
   "source": []
  },
  {
   "cell_type": "markdown",
   "metadata": {},
   "source": [
    "### Query Subjects"
   ]
  },
  {
   "cell_type": "code",
   "execution_count": null,
   "metadata": {},
   "outputs": [],
   "source": []
  },
  {
   "cell_type": "code",
   "execution_count": 17,
   "metadata": {},
   "outputs": [],
   "source": [
    "\n",
    "# def query_subject(subject=\"data mining\"):\n",
    "    \n",
    "#     # tf-idf\n",
    "#     query = process_string(query)\n",
    "#     cnt_matrix_query = cnt_vct.transform([query])\n",
    "#     cnt_matrix_query = csr_matrix.transpose(cnt_matrix_query)\n",
    "\n",
    "\n",
    "#     res = tfidf_new_matrix * cnt_matrix_query\n",
    "#     res = csr_matrix.transpose(res)\n",
    "#     res = res.toarray()[0]\n",
    "#     related_docs_indices = res.argsort()\n",
    "#     related_docs_indices = related_docs_indices[::-1]\n",
    "#     related_results = [docID[i] for i in related_docs_indices]\n",
    "    \n",
    "#     # activness\n",
    "#     activeness_factor = 2\n",
    "    \n",
    "    \n",
    "#     return related_results"
   ]
  },
  {
   "cell_type": "code",
   "execution_count": 18,
   "metadata": {},
   "outputs": [],
   "source": [
    "# query_subject()"
   ]
  },
  {
   "cell_type": "code",
   "execution_count": null,
   "metadata": {},
   "outputs": [],
   "source": []
  },
  {
   "cell_type": "markdown",
   "metadata": {},
   "source": [
    "### Pickled Testing"
   ]
  },
  {
   "cell_type": "code",
   "execution_count": 19,
   "metadata": {},
   "outputs": [],
   "source": [
    "loaded_cnt_vct = pickle.load(open(\"web_data/count_vectorizer.pkl\", \"rb\"))\n",
    "loaded_tfidf_new_matrix = pickle.load(open(\"web_data/tfidf_new_matrix.pkl\", \"rb\"))\n",
    "loaded_docID = pickle.load(open(\"web_data/doc_id_dict.pkl\", \"rb\"))\n",
    "loaded_mat_activeness = pickle.load(open(\"web_data/mat_activeness.pkl\", \"rb\"))\n",
    "loaded_ranking_metrics = pickle.load(open(\"web_data/ranking_metrics.pkl\", \"rb\"))"
   ]
  },
  {
   "cell_type": "code",
   "execution_count": 23,
   "metadata": {},
   "outputs": [],
   "source": [
    "def get_tf_idf_vec(query):\n",
    "    query = process_string(query)\n",
    "    cnt_matrix_query = loaded_cnt_vct.transform([query])\n",
    "    cnt_matrix_query = csr_matrix.transpose(cnt_matrix_query)\n",
    "\n",
    "    result = loaded_tfidf_new_matrix * cnt_matrix_query\n",
    "    result = csr_matrix.transpose(result)\n",
    "    result = result.toarray()[0]\n",
    "    \n",
    "    return result\n",
    "\n",
    "def get_active_vec(year):\n",
    "    col = year-1\n",
    "    citations = loaded_mat_activeness[:,col].squeeze()\n",
    "    return citations\n",
    "\n",
    "def get_slope_vec():\n",
    "    return loaded_ranking_metrics[:,0].squeeze()\n",
    "\n",
    "def get_hindex_vec():\n",
    "    return loaded_ranking_metrics[:,1].squeeze()\n",
    "    \n",
    "def get_insti_vec():\n",
    "    return loaded_ranking_metrics[:,2].squeeze()\n",
    "\n",
    "def normalise(x):\n",
    "    return x/np.linalg.norm(x)\n",
    "\n",
    "\n",
    "def query_subject(user_input):\n",
    "    \n",
    "    #parameters\n",
    "    params = ['tfidf', 'active', 'hindex', 'slope', 'insti']\n",
    "    ranks={}\n",
    "    for param in params:\n",
    "        ranks[param]={}\n",
    "    \n",
    "    #set weight factors\n",
    "    ranks['tfidf']['wt'] = user_input['tfidf_score']\n",
    "    ranks['active']['wt'] = user_input['active_score']\n",
    "    ranks['hindex']['wt'] = user_input['hindex_score']\n",
    "    ranks['slope']['wt'] = user_input['slope_score']\n",
    "    ranks['insti']['wt'] = user_input['insti_score']\n",
    "    \n",
    "    #scale up \n",
    "    total_user_input_wt = 0\n",
    "    for key,val in ranks.items():\n",
    "        total_user_input_wt += val['wt']\n",
    "    factor = 100/total_user_input_wt\n",
    "    for key,val in ranks.items():\n",
    "        val['wt'] *= factor\n",
    "    \n",
    "    print(ranks)\n",
    "    \n",
    "    #tf-idf\n",
    "    ranks['tfidf']['vec'] = normalise(get_tf_idf_vec(user_input['query_string']))\n",
    "\n",
    "    #activeness\n",
    "    ranks['active']['vec'] = normalise(get_active_vec(user_input['active_yr']))\n",
    "    \n",
    "    #slope of citations\n",
    "    ranks['slope']['vec'] = normalise(get_slope_vec())\n",
    "    \n",
    "    #h-index\n",
    "    ranks['hindex']['vec'] = normalise(get_hindex_vec())\n",
    "    \n",
    "    #institute reputation\n",
    "    ranks['insti']['vec'] = normalise(get_insti_vec())\n",
    "    \n",
    "    #final score\n",
    "    final_sc = np.zeros(ranks['tfidf']['vec'].size)\n",
    "    for key,val in ranks.items():\n",
    "        final_sc += val['wt']*val['vec']\n",
    "        \n",
    "    indices = final_sc.argsort()\n",
    "    indices = indices[::-1]\n",
    "    profs = [loaded_docID[i] for i in indices]\n",
    "    \n",
    "    return profs"
   ]
  },
  {
   "cell_type": "code",
   "execution_count": 28,
   "metadata": {},
   "outputs": [
    {
     "name": "stdout",
     "output_type": "stream",
     "text": [
      "{'tfidf': {'wt': 50.0}, 'active': {'wt': 25.0}, 'hindex': {'wt': 0.0}, 'slope': {'wt': 0.0}, 'insti': {'wt': 25.0}}\n",
      "['7XrffX4AAAAJ', '1TgzFksAAAAJ', 'updZSCsAAAAJ', 'hvzGZiwAAAAJ', '0edlYFwAAAAJ', 'TS9qBjQAAAAJ', '3RND6lUAAAAJ', 'TjQUjCMAAAAJ', 'qKxXKgEAAAAJ', '8g3TkDAAAAAJ', 'FnYThhgAAAAJ', '36W3qpkAAAAJ', 'DnTRJxsAAAAJ', 'beF3850AAAAJ', '17Ko8Q0AAAAJ', 'bwZHQ8EAAAAJ', 'xVwl1cwAAAAJ', 'cZxrxCMAAAAJ', 'cxxo5JQAAAAJ', 'p43jB30AAAAJ', 'D3PZ7BkAAAAJ', 'mu7n4bYAAAAJ', '29jOfd0AAAAJ', 'X_sISHMAAAAJ', 'ZvvEpQkAAAAJ', 'VIIYozgAAAAJ', 's2NqMEAAAAAJ', 'IlC6UDgAAAAJ', 'OSdXHS8AAAAJ', 'tkmfUzEAAAAJ', 'HTVepekAAAAJ', 'u86drLgAAAAJ', 'hPvt6d8AAAAJ', '6PC3pncAAAAJ', 'NaeTUpYAAAAJ', 'EIAz2OMAAAAJ', 'inrwXiIAAAAJ', 'uVsZqH4AAAAJ', 'NsR5pAoAAAAJ', '5y5Uev4AAAAJ', 'y8tTkvkAAAAJ', 'XQ72A6wAAAAJ', 'E8bH10gAAAAJ', 'e4nJgnEAAAAJ', 'sIQDguEAAAAJ', 'xdYSWu8AAAAJ', 'gclGdAcAAAAJ', 'K834eKgAAAAJ', 'mEs0PmoAAAAJ', '3gHKDo4AAAAJ', '2yRcKGgAAAAJ', 't5kpJsYAAAAJ', 'p2Btse4AAAAJ', 'BJ7CzPgAAAAJ', 'S2tBrxcAAAAJ', 'stMEHeUAAAAJ', '4fbhGOYAAAAJ', 're-urn8AAAAJ', 'hHvIa34AAAAJ', '3WEQbgMAAAAJ', '9a35R00AAAAJ', 'sEoRaxQAAAAJ', 'cv7Xbu8AAAAJ', '_n9bvLYAAAAJ', 'hWdrCT0AAAAJ', 'QP3M8aYAAAAJ', '-vvhzHkAAAAJ', '7k6tzDAAAAAJ', 'JbOPs1kAAAAJ', 'hhjU_LEAAAAJ', '1YLbgQ4AAAAJ', 'zYs3TaAAAAAJ', 'zbRHF7gAAAAJ', 'BtdGmOIAAAAJ', 'AdMc7GoAAAAJ', 'haHAzrAAAAAJ', 'XrWLwxkAAAAJ', 'TgCdHrwAAAAJ', 'KA5t_VQAAAAJ', 'epuogiEAAAAJ', 'tM9XJCwAAAAJ', 'enGoLCQAAAAJ', 'h55vyUQAAAAJ', 'cWcqrncAAAAJ', '_cXoyG8AAAAJ', 'zQphrEwAAAAJ', 'pW1HDa4AAAAJ', 'B9n3B48AAAAJ', 'khY76cYAAAAJ', 'LlOwelEAAAAJ', '3njIH1AAAAAJ', '2aeqYNUAAAAJ', 'DGNTCYEAAAAJ', 'SaD-oXQAAAAJ', 'rNeidT4AAAAJ', 'ANUvQk4AAAAJ', '7D4ts0YAAAAJ', 'ecCCW6kAAAAJ', '8EfVCYYAAAAJ', '5XqbBqEAAAAJ', 'qlywvIQAAAAJ', 'uL-CHc8AAAAJ', 'v0AjsjsAAAAJ', 'ebh2T0sAAAAJ', 'cNVgrI4AAAAJ', 'Zz9rLGkAAAAJ', 'wGNrpD4AAAAJ', 'dj8zAPoAAAAJ', 'SU2OWbUAAAAJ', 'mJIUC0UAAAAJ', 'LOqqhZQAAAAJ', 'mb1pZXIAAAAJ', '11MDgP4AAAAJ', 'sphOH2IAAAAJ', 'iL-BLYIAAAAJ', 'XY6D8wsAAAAJ', 'subvPdQAAAAJ', 'qCzk-pYAAAAJ', 'verRbuoAAAAJ', 'b4hhMpwAAAAJ', '2O4MQ-kAAAAJ', '_GVZlQ4AAAAJ', 'HrGqKZQAAAAJ', 'ZitY-ZgAAAAJ', '491uIXYAAAAJ', '3jc0vZsAAAAJ', 'Rln7jKAAAAAJ', 'QM9qltUAAAAJ', 'YGAmZF4AAAAJ', 'Mfz1xKMAAAAJ', 'q-_jk8wAAAAJ', 'i11hcb4AAAAJ', 'mxl-jZAAAAAJ', 't-LSR-0AAAAJ', 'Ihcdv4UAAAAJ', 'H7jzu-QAAAAJ', 'g-0ri08AAAAJ', 'XPOQhdMAAAAJ', 'mPP7NCYAAAAJ', 'slAHcFIAAAAJ', 'scTy5nIAAAAJ', 'CU5RlLYAAAAJ', 'T1FRLQsAAAAJ', 'leKXwz4AAAAJ', 'GNhYvuQAAAAJ', 'a2Wgu0EAAAAJ', '183lX1cAAAAJ', '30nwOsUAAAAJ', 'uEcWOfgAAAAJ', 'jPV4i2IAAAAJ', 'IzeaDioAAAAJ', 'jGuZfcsAAAAJ', '_Xx4DsoAAAAJ', 'fpXmXgYAAAAJ', '1BuQRewAAAAJ', 'FT8fTukAAAAJ', 'dIypbs4AAAAJ', 'xPjVuaYAAAAJ', '8qiTzY0AAAAJ', '2-94vuoAAAAJ', 'LnrYtjMAAAAJ', 'rw3dBtEAAAAJ', '2NOoOgsAAAAJ', '5h2LnBcAAAAJ', 'Mjr3HCQAAAAJ', '6UuzViMAAAAJ', 'HBGr9_0AAAAJ', '4LOTyvsAAAAJ', 'Go68I-cAAAAJ', 'xOxQ2aQAAAAJ', '-AQtpt4AAAAJ', 'iTfItCMAAAAJ', 'mDMBpDEAAAAJ', 'CzUd33gAAAAJ', '1Yp6cEsAAAAJ', 'zRtB4XwAAAAJ', 'rNAPZ7gAAAAJ', 'G5HKDtYAAAAJ', 'gBSWPNYAAAAJ', 'cTkda4oAAAAJ', 'Cd_tFkUAAAAJ', 'TPXdhLsAAAAJ', 'pLE4PTYAAAAJ', 'X5Bjw-wAAAAJ', 'U1H8JZEAAAAJ', 'dnM4yJQAAAAJ', 'kT8PzzkAAAAJ', 'cTnqt9MAAAAJ', 'NX4rjdQAAAAJ', 'S8cDuZ4AAAAJ', 'B_oQnccAAAAJ', 'IRGovUoAAAAJ', 'xBen0NcAAAAJ', 'qBFQKacAAAAJ', 'x_Db1k8AAAAJ', 'Q19OhcsAAAAJ', 'H85F5q8AAAAJ', '6wKMc3sAAAAJ', 's-U3cL0AAAAJ', 'qXQPkuEAAAAJ', 'N2O8hI4AAAAJ', 'JZqDBOEAAAAJ', 'CWCHSmoAAAAJ', 'rj_wUMEAAAAJ', 'PPBkO7QAAAAJ', 'FlALopkAAAAJ', 'bptO870AAAAJ', 'VhoipoUAAAAJ', 'j1563BUAAAAJ', 'kljiKdQAAAAJ', 'xpu1KIgAAAAJ', 'EWG-qssAAAAJ', '37CNdWQAAAAJ', 'xwmdl3IAAAAJ', 'qvckJGkAAAAJ', 'R7pbH9YAAAAJ', '-875CKoAAAAJ', 'XHSL1h8AAAAJ', 'I225hBYAAAAJ', '5EtPkJoAAAAJ', '_TpoQ08AAAAJ', 'wm_7a-0AAAAJ', '0LqoygQAAAAJ', '-k5OiuwAAAAJ', 'cqXqUagAAAAJ', 'ZLOm0jEAAAAJ', '3F2DBnEAAAAJ', 'voWhmekAAAAJ', 'UerEKpIAAAAJ', 'ppEhO9YAAAAJ', 'Pt9J-NwAAAAJ', 'InU2XMsAAAAJ', 'lblRCPMAAAAJ', 'canHXb4AAAAJ', 'asu9hvIAAAAJ', 'BzXn2sgAAAAJ', 'eE0Le_sAAAAJ', '39iqQfEAAAAJ', 'cSx6MIgAAAAJ', 'ugCJRP4AAAAJ', '3Mcdqa8AAAAJ', 'iE7guc8AAAAJ', 'FVTyjCAAAAAJ', 'RtSidIEAAAAJ', 'jWYnxLYAAAAJ', '4VF4YccAAAAJ', '_RfD3eAAAAAJ', '2PDhWl0AAAAJ', '0u7mV4cAAAAJ', 'VUihxm8AAAAJ', '60ipIjYAAAAJ', 'tC0NHXYAAAAJ', 'QhzD6ysAAAAJ', 'W9F6zh4AAAAJ', 'DN_FSkkAAAAJ', '47YRNTEAAAAJ', 'xiRDklYAAAAJ', '8mGCr2oAAAAJ', '5MaHEtcAAAAJ', 'pGQj6ewAAAAJ', 'L82kAfsAAAAJ', 'zNMg6n8AAAAJ', 'BOw5_gwAAAAJ', 'f0lk958AAAAJ', 'OteTiccAAAAJ', 'rWjJWzEAAAAJ', 'hMywgWUAAAAJ', '5mlf2E4AAAAJ', '1y6Z-ckAAAAJ', 'tU2hq0MAAAAJ', '7vgYCCgAAAAJ', 'BafR46oAAAAJ', 'zlyCnPsAAAAJ', 'qtGBFpMAAAAJ', 'y15wFxMAAAAJ', 'bzOdHtwAAAAJ', 'QJNq4-YAAAAJ', 'A2cP7lgAAAAJ', 'i8K9m1MAAAAJ', 'iTVcdO4AAAAJ', 'qZG4hUwAAAAJ', 'SJRYIjcAAAAJ', 'iVocrqcAAAAJ', '0_cd3ogAAAAJ', 'RWC2IfIAAAAJ', 'KvZIeXcAAAAJ', 'j6x5iVcAAAAJ', 'fiwEI2oAAAAJ', '5vK9oDMAAAAJ', 'zbQ0EDsAAAAJ', 'STSEuLcAAAAJ', '6I9xA20AAAAJ', 'ISCnyBQAAAAJ', '_cpaQAgAAAAJ', 'YlTEbxYAAAAJ', 'MYS-vWcAAAAJ', '5C1CV4gAAAAJ', 'kTK8xr8AAAAJ', 'peQ7HZ8AAAAJ', 'E1k56R8AAAAJ', 'd-Kal94AAAAJ', 'Kd7yUP4AAAAJ', 'mDZnReoAAAAJ', '7sv5CT8AAAAJ', 'FMyTs4MAAAAJ', 'qBUNlhUAAAAJ', 'to1uq30AAAAJ', 'SImU2CIAAAAJ', 'p7wjCXUAAAAJ', '9VkJSvIAAAAJ', 'rblhT_8AAAAJ', '81JWNh4AAAAJ', 'N6Jb1VQAAAAJ', 'PD-dXdsAAAAJ', 'bkFOm1QAAAAJ', '2eOmjx0AAAAJ', 'I2iteEMAAAAJ', 'It9JcgMAAAAJ', 'TRDjE5gAAAAJ', '7mxoviEAAAAJ', 'rJr8suQAAAAJ', 'zYH7wmAAAAAJ', 'FfVLymoAAAAJ', 'F0GqBZgAAAAJ', 'CX-zp5gAAAAJ', 'IUCG4NQAAAAJ', '7lxOt5sAAAAJ', '1c6QNrQAAAAJ', 'Mk-P52EAAAAJ', 'ePkWZ70AAAAJ', 'XxSmqkQAAAAJ', 'AfDGPA8AAAAJ', 'GqxFV80AAAAJ', 'W30QIawAAAAJ', 'Yt8JfPgAAAAJ', '5CIeVRMAAAAJ', 'jtD-N0AAAAAJ', 'XNGbTqMAAAAJ', 'nnG4XuoAAAAJ', 'zHNXOOwAAAAJ', 'zkvesCUAAAAJ', 'R0ZotOYAAAAJ', 'AbmGlNwAAAAJ', 'YmUVdVkAAAAJ', 'WPcsukYAAAAJ', '1fqHJZkAAAAJ', 'P0S7uaQAAAAJ', 'f1iQ6roAAAAJ', 'MyyS3acAAAAJ', 'NsS_omcAAAAJ', 'Y6O22mwAAAAJ', 'NO3LaX8AAAAJ', 'lPMtDfYAAAAJ', 'WcouxIAAAAAJ', 'LGtAvCAAAAAJ', 'ecRQW-0AAAAJ', 'vABsq-YAAAAJ', 'kejHggwAAAAJ', 'YLNl5q8AAAAJ', 'zvo9YT8AAAAJ', 'vocNQcEAAAAJ', 'R0RpdQMAAAAJ', 'k4soadQAAAAJ', 'pEn6_CkAAAAJ', '0cmIFfkAAAAJ', 'GUcJWxUAAAAJ', 'laT3mwoAAAAJ', 'eaPOpDMAAAAJ', 'ExI8kY0AAAAJ', 'NwFl5HAAAAAJ', 'V_yk63YAAAAJ', 'kIMCU9UAAAAJ', 'Tu8p_aEAAAAJ', 'O9FCZygAAAAJ', 'KnhycLgAAAAJ', 'Cs0NQ6gAAAAJ', 'Yw336skAAAAJ', 'frjqs0QAAAAJ', 'EgJaIlsAAAAJ', 'U1AhQVgAAAAJ', 'ZfU8f_wAAAAJ', 'JVXllZ8AAAAJ', 'gc8sjUEAAAAJ', 'Rr0LjnQAAAAJ', 'otDCB_gAAAAJ', 'lYuM7f0AAAAJ', 'kqlVbFsAAAAJ', 'VwePP5cAAAAJ', 'y2h2prUAAAAJ', 'MhV9SBIAAAAJ', 'NL5alEsAAAAJ', 'wJTpCVUAAAAJ', 'AmpQF4QAAAAJ', 'ur3WYWYAAAAJ', 'kVaEBYcAAAAJ', 'QEgOz24AAAAJ', '5na4P6YAAAAJ', 'tJufLS8AAAAJ', '7sV4dN0AAAAJ', 'ESCjfuwAAAAJ', 'a9x8kgwAAAAJ', 'wlSqIocAAAAJ', 'LW2KCmkAAAAJ', 'DGQ8Dz0AAAAJ', 'o3OZDZkAAAAJ', 'sU7O9isAAAAJ', 'Npx-L4YAAAAJ', 'Y0NtHH0AAAAJ', 'Pp5WeBsAAAAJ', 'LHYZC0MAAAAJ', 'SRDhcuoAAAAJ', 'Syva3bQAAAAJ', 'iAlMuacAAAAJ', 'KK3kJlcAAAAJ', 'ROt3pm8AAAAJ', 'QvUFVOkAAAAJ', 'vrxselgAAAAJ', 'uUoVLG4AAAAJ', 'KDmnpJwAAAAJ', 'm2dSasIAAAAJ', 'F0rAYroAAAAJ', 'xpqCLZkAAAAJ', 'cVdB1iwAAAAJ', 'BjgvjHQAAAAJ', '2fG35_UAAAAJ', 't_Wke-QAAAAJ', 'owqaSZQAAAAJ', 'czJBYTUAAAAJ', 'Ad7aUpcAAAAJ', '1zaWuoMAAAAJ', 'GTUS5NIAAAAJ', '1hjEgQMAAAAJ', 'R4y2k3QAAAAJ', 'DhVYNMwAAAAJ', '_HP5IaQAAAAJ', '-ZD-NLEAAAAJ', 'wJiXvbMAAAAJ', 'TJ_7mu0AAAAJ', 'mZtCllIAAAAJ', 'qA86lpYAAAAJ', '1igRo6wAAAAJ', '5d6i_vkAAAAJ', 'KUVFEoAAAAAJ', 'geOSiaUAAAAJ', 'p-UMjf4AAAAJ', 'noYCRZYAAAAJ', 'dIwVgX8AAAAJ', '8CWtpXAAAAAJ', 'aXTseVYAAAAJ', 'UGGBAuEAAAAJ', '3ga2ndEAAAAJ', 'e0wvn3cAAAAJ', 'SX_b4ZoAAAAJ', 'n0QdVaIAAAAJ', 'UiBfzloAAAAJ', '4ACVIHcAAAAJ', 'axf4nQIAAAAJ', 'rjMWLhUAAAAJ', 'KHoEMZwAAAAJ', 'twm9ACIAAAAJ', 'BnaHPZoAAAAJ', '2J1ceKEAAAAJ', 'br-5wA0AAAAJ', 'YfaGeCgAAAAJ', 'IpL0A9IAAAAJ', '_sJ8ODAAAAAJ', 'V4UlgwEAAAAJ', '1M3vxdIAAAAJ', '1CQsqUMAAAAJ', 'mTGYM4UAAAAJ', 'BaoAeqQAAAAJ', 'kYZuwnkAAAAJ', 'CmBE6P0AAAAJ', 'imFfiRgAAAAJ', '2WPrJukAAAAJ', 'VlzUek4AAAAJ', 'AiG7nxoAAAAJ', 'u_nJKdwAAAAJ', 'PzHN_P4AAAAJ', 'nr33sCMAAAAJ', 'kyDL3SAAAAAJ', 'bSefZ0QAAAAJ', 'eeHeiSAAAAAJ', 'nz9IwyUAAAAJ', 'aT8601cAAAAJ', 'eUioNzMAAAAJ', '-yykA-wAAAAJ', 'H1DwlmYAAAAJ', '4tE6qRQAAAAJ', 'lFaZNTQAAAAJ', 'MVcka_gAAAAJ', 'pnghV4UAAAAJ', 'MEGOo0IAAAAJ', '93Uk6jkAAAAJ', 'DU16834AAAAJ', 'bp8mTnAAAAAJ', 'HLyhUl0AAAAJ', '_fjOPpIAAAAJ', 'mVXjhhgAAAAJ', 'nJN_qnwAAAAJ', 'dgJ_7TIAAAAJ', 'KulPjTkAAAAJ', 'ls_y_mkAAAAJ', 'DkiMkp4AAAAJ', 'GxvZVlAAAAAJ', 'KFEQXswAAAAJ', 'IEiTctgAAAAJ', '21biMugAAAAJ', 'vcngn2gAAAAJ', 'siMZDt4AAAAJ', 'foLujEYAAAAJ', 'wzf4VBAAAAAJ', '2aQC6F0AAAAJ', 'u2h2WiMAAAAJ', 'KrqWYVIAAAAJ', 'U8HIGyMAAAAJ', 'aWMtjIEAAAAJ', '0q3RLnsAAAAJ', 'Kw0trAgAAAAJ', 'fH88V1MAAAAJ', 'HDLlpG0AAAAJ', 'UHymFB8AAAAJ', 'rfNJugYAAAAJ', 'fREQGZkAAAAJ', 'YgLm4AYAAAAJ', '5RlTH9QAAAAJ', 'cHfIXcoAAAAJ', 'c2gKOUAAAAAJ', 'fRdadAIAAAAJ', 'Df-D_d0AAAAJ', 'OVjv4SUAAAAJ', '3dBYrCQAAAAJ', '5aHqQ-oAAAAJ', 'RzGQKIQAAAAJ', '_GrKEsoAAAAJ', 'RejMDXMAAAAJ', 'kQGlhn8AAAAJ', 'TgJzuXoAAAAJ', 'vU5UVgkAAAAJ', 'IeARvWIAAAAJ', 'kwlikT8AAAAJ', 'WVn1vmYAAAAJ', 'Tun1Q6AAAAAJ', 'LAa_xL8AAAAJ', '0o9Q9iMAAAAJ', 'qq4Vl0sAAAAJ', 'pUn34-sAAAAJ', 'gsraAfIAAAAJ', 'b9q7XMwAAAAJ', 'yHtsYn4AAAAJ', 'Wi-XpDUAAAAJ', 'cxprpdgAAAAJ', 'DcX5L74AAAAJ', 'Ta6rad0AAAAJ', '4yd0WMsAAAAJ', 'yPodzxEAAAAJ', '79ZdEDQAAAAJ', 'VJd7qJIAAAAJ', 'h2H6sHsAAAAJ', 'zhCF2jEAAAAJ', 'FLTzQ2wAAAAJ', 'vXYksNwAAAAJ', '_5L-GCwAAAAJ', 'osI4nx4AAAAJ', 'e2ZdRRAAAAAJ', 'ao0pXBcAAAAJ', 'uM0msYEAAAAJ', 'OfNqiAkAAAAJ', 'qlOZnfIAAAAJ', 'aVpZsLYAAAAJ', 'LjMRyMEAAAAJ', '9k7YMT4AAAAJ', '4dGlBB-R_gcC', 'CpLiFv8AAAAJ', 'yC6QT14AAAAJ', 'BuX7fMIAAAAJ', 'SSYCLCAAAAAJ', '2FhvqcwAAAAJ', '2kIm1PIAAAAJ', 'rju8YWkAAAAJ', 'C-OF4W4AAAAJ', 'g_NjKDQAAAAJ', '7Ulj9TsAAAAJ', '0mLOqkEAAAAJ', 'kx7jofMAAAAJ', 'KewIHYkAAAAJ', '7aJFkxoAAAAJ', 'ZC7F3swAAAAJ', 'tarxeHMAAAAJ', 'lXznZskAAAAJ', 'FKxLjrYAAAAJ', 't0KwlnYAAAAJ', '8i9FP_QAAAAJ', 'f5ksmQEAAAAJ', 'MeRf8NEAAAAJ', 'SzERsG0AAAAJ', 'FQZP634AAAAJ', 'H9cEsFMAAAAJ', 'e0BohkoAAAAJ', '1goxaxkAAAAJ', '0IEdhncAAAAJ', 'yh74b6QAAAAJ', 'i_BCXOcAAAAJ', 'NAk5D3gAAAAJ', 'eftnOH4AAAAJ', 'uls7X14AAAAJ', 'I6ydwc8AAAAJ', '6WkgCxIAAAAJ', 'YaKAP2IAAAAJ', 'W3NejVEAAAAJ', 'fjNv9ocAAAAJ', 'q0WqtFYAAAAJ', 'pShUZ_AAAAAJ', '_w4dRCkAAAAJ', 'rVMUIqAAAAAJ', 'IzF78VQAAAAJ', 'bx6s6HkAAAAJ', 'rojwmDUAAAAJ', 'l_jlMlgAAAAJ', 'Rs5LnMwAAAAJ', 'u5VHApsAAAAJ', 'txLwNWAAAAAJ', 'SXkBKmQAAAAJ', 'jpOdChUAAAAJ', 'p1rKKnEAAAAJ', 'fuao-usAAAAJ', 'Uh4AsZsAAAAJ', 'dUALsvsAAAAJ', 'OOnxtM4AAAAJ', 'Mj6ode0AAAAJ', 'lhB9PMkAAAAJ', '6sQ2SMIAAAAJ', 'fYyeoQEAAAAJ', 'X-Bk_sYAAAAJ', 'TocNeCQAAAAJ', 'UhhQs-0AAAAJ', '9lTMXdgAAAAJ', 'Bf-sYSAAAAAJ', 'vTHMJ5IAAAAJ', 'KsrWresAAAAJ', '2oNs37AAAAAJ', 'EW5k1KoAAAAJ', 'QLaIASsAAAAJ', 'BMAplnUAAAAJ', '0hB8rhEAAAAJ', 'qR_WHLAAAAAJ', '_RosYhQAAAAJ', '6bnMzvkAAAAJ', '2B1GgsMAAAAJ', 'TAWp5pUAAAAJ', 'Xom17NoAAAAJ', 'liZr7uAAAAAJ', 'cescoF0AAAAJ', '9nhDwacAAAAJ', 'kXf0RMEAAAAJ', 'ZhBZMBIAAAAJ', '7xNyWWwAAAAJ', '1nFTrywAAAAJ', 'VbedAOAAAAAJ', '9VMmb-4AAAAJ', 'Dpu5YKkAAAAJ', 'loC7N5oAAAAJ', 'myoAmX4AAAAJ', 'nk_hmfMAAAAJ', 'j4JxsOYAAAAJ', 'UuAn8PkAAAAJ', 'i3XuX9AAAAAJ', 'OPvaBTsAAAAJ', 'E0Tc36IAAAAJ', '4ZtFfAQAAAAJ', 'WeC1noUAAAAJ', 'YoUaZfoAAAAJ', 'uqTnxVoAAAAJ', '7jH4xUoAAAAJ', 'Y9pEi2cAAAAJ', '3OgRhE4AAAAJ', '-KCjgCAAAAAJ', 'w7k36GwAAAAJ', 'wzUFuj0AAAAJ', 'yH0SpSwAAAAJ', 'Ml6q3GAAAAAJ', 'feP8JpIAAAAJ', 'ZWQNsmkAAAAJ', '2PgQdtoAAAAJ', 'kvpCIlgAAAAJ', 'Yhu3UE8AAAAJ', 'kqpe6yAAAAAJ', '7YB9YjIAAAAJ', '2oe3sXwAAAAJ', 'aGktG18AAAAJ', 'uNQO-TEAAAAJ', '5RZkVGMAAAAJ', 'H-5KYaQAAAAJ', '1HDBidIAAAAJ', 'DFEHgvYAAAAJ', 'ZeveCVEAAAAJ', 'aA3drcAAAAAJ', 'zfEvQpYAAAAJ', 'gU87PYYAAAAJ', '9JOnddoAAAAJ', 'LpgYbV4AAAAJ', 'tSXyZnYAAAAJ', 'Uo0dYc4AAAAJ', 'qNznu3kAAAAJ', 'RWi2j4oAAAAJ', 'BOtwoawAAAAJ', 'muigDt0AAAAJ', 'sjfPhO8AAAAJ', 'Ok-IeZEAAAAJ', '7-hN3eQAAAAJ', 'nR2uZVoAAAAJ', 'WsUAJo4AAAAJ', 'zJK1GZEAAAAJ', '99m1BKEAAAAJ', 'wj0GymEAAAAJ', 'xyKQ27MAAAAJ', 'iRJClV4AAAAJ', 'FVmFc4cAAAAJ', 'aqljaoAAAAAJ', 'q001zfIAAAAJ', 'ex4wpTwAAAAJ', 'SkUNteYAAAAJ', 'kaFcOrsAAAAJ', 'mT0NpIMAAAAJ', 'g80sXb8AAAAJ', 'qFMMIA4AAAAJ', 'IeBprAEAAAAJ', 'F4z2Wy8AAAAJ', 'atiUk5IAAAAJ', 'KtRl6p4AAAAJ', 'czyD-dQAAAAJ', '1-RyIJwAAAAJ', 'sGPfZdAAAAAJ', '2dHOu7MAAAAJ', 'HiiuFBEAAAAJ', '_omt7MIAAAAJ', 'Eh1jFTgAAAAJ', 'WlWt_x4AAAAJ', '_8kOfLgAAAAJ', '2GuJ6xYAAAAJ', 'Q-_5IzsAAAAJ', 'X5ZFFOoAAAAJ', 'zvOAfSUAAAAJ', '85iKNikAAAAJ', 'eAzf0UYAAAAJ', 'MwGRnmcAAAAJ', 'F9qnxRwAAAAJ', 'uxN4jK4AAAAJ', '4ChJYaAAAAAJ', '1qpb1isAAAAJ', 'Jfaq9XIAAAAJ', 'enp7Y-8AAAAJ', '0amE5IIAAAAJ', '4E7-fhkAAAAJ', 'hZ88OoYAAAAJ', '0MNT3h8AAAAJ', 'iYBmeHMAAAAJ', '35vMr60AAAAJ', 'Pwsnq88AAAAJ', 'vMVdF18AAAAJ', 'rizDJQMAAAAJ', 'VNs_FjAAAAAJ', '-Fn4q3UAAAAJ', '6R86juwAAAAJ', 'ILtAM_QAAAAJ', 'KkzXBpoAAAAJ', '4LghT7sAAAAJ', 'y7BqppIAAAAJ', 'qwn3dmQAAAAJ', '4XoOiJYAAAAJ', '8I2PUnQAAAAJ', '8VeH-vwAAAAJ', 'rma1nMAAAAAJ', 'slQ6144AAAAJ', 'eIbP8lgAAAAJ', 'LqqPQL8AAAAJ', 'BlfG03IAAAAJ', 'MGFXHncAAAAJ', 'nSMV6GYAAAAJ', 'TluIingAAAAJ', 'kleohpcAAAAJ', '-USGVcwAAAAJ', 'DxRpXa4AAAAJ', 'yFQP3psAAAAJ', 'zUssLPAAAAAJ', '-u_HNwcAAAAJ', 'u512fe8AAAAJ', 'zyXxA7YAAAAJ', 'Yyz18kkAAAAJ', 'zxPg3FsAAAAJ', 'ZVgeS8EAAAAJ', 'HXXjXcAAAAAJ', 'DVNNdPEAAAAJ', 'CjfTR3IAAAAJ', 'ZjHRApoAAAAJ', 'vMgculUAAAAJ', '-zfXSQEAAAAJ', 'XOCF-kcAAAAJ', 'dkMem0wAAAAJ', 'LA5KyjcAAAAJ', 'IEM23OwAAAAJ', 'TFy8GjEAAAAJ', 'Nb3eTPkAAAAJ', 'w7WO4kQAAAAJ', 'P01V9CsAAAAJ', 'j3zpnIcAAAAJ', '5jbBg7kAAAAJ', 'uLte1MUAAAAJ', 'KtbFyZ4AAAAJ', 'MlvEnWUAAAAJ', 'iNy2TvAAAAAJ', 'dUwfiwIAAAAJ', '10dLPjQAAAAJ', 'b2chrP8AAAAJ', 'XwuO-MEAAAAJ', 'NBYf090AAAAJ', 'nHw83EoAAAAJ', 'rmNatEEAAAAJ', 'pIkLx0AAAAAJ', '7K0_qegAAAAJ', 'S9IvUzgAAAAJ', 'oDjk3yYAAAAJ', 'zxX1JxQAAAAJ', 'foouqFMAAAAJ', 'E7IxGboAAAAJ', 'W7KcoEEAAAAJ', 'uhqQO68AAAAJ', 'I44HCj8AAAAJ', 'ZknCqFMAAAAJ', '8jc5VdkAAAAJ', 'QfSu45EAAAAJ', 'LU306UsAAAAJ', 'owio4csAAAAJ', 'e6T1Q3cAAAAJ', 'Hcovdv0AAAAJ', 'vVRbl4QAAAAJ', 'zi5hOXEAAAAJ', 'hDbS-xoAAAAJ', '7FtvQrUAAAAJ', 'I73FZzkAAAAJ', '0WwEV6UAAAAJ', 'gERGluQAAAAJ', 'nQU39QcAAAAJ', 'ojnEOwkAAAAJ', 'zoDTw08AAAAJ', 'rpldrEMAAAAJ', 'dwcds8QAAAAJ', 'qid72ksAAAAJ', 'TBSc86sAAAAJ', 'Fqxe0H4AAAAJ', 'AIjvyAcAAAAJ', 'ZYy5ZI4AAAAJ', 'HGV0EhUAAAAJ', 'B7YMt_gAAAAJ', 'F_I_1PgAAAAJ', 'EsqYcuMAAAAJ', 'BlEBxgoAAAAJ', '5tM8sGAAAAAJ', '7D2i-ZEAAAAJ', '2iuBBdkAAAAJ', 'p5a85NEAAAAJ', 'RJLXOPAAAAAJ', 'WXoVKVUAAAAJ', '4vTV11AAAAAJ', 'G24_xtAAAAAJ', 'NtIO644AAAAJ', 'B8SJmjUAAAAJ', 'h9JHa9UAAAAJ', 'PwCujoQAAAAJ', 'KOsGGXoAAAAJ', 'wM-ma0MAAAAJ', 'WO-nzWYAAAAJ', 'VaXMigIAAAAJ', 'R74POOYAAAAJ', '_rqaiikAAAAJ', '9m0lmAoAAAAJ', 'tEmpv08AAAAJ', 'NHnDxy8AAAAJ', 'ypKEd4wAAAAJ', 'S_QpoHAAAAAJ', 'BVwm62EAAAAJ', 'PS7QUowAAAAJ', '8mYOA0cAAAAJ', '0GiXIc4AAAAJ', 'Jp-fPcQAAAAJ', 'ulDE0lgAAAAJ', 'vcHH6b0AAAAJ', 'azstaakAAAAJ', '1ssZeXMAAAAJ', 'xCblSW4AAAAJ', 'ukuvF4wAAAAJ', 'RlY4SL0AAAAJ', 'qydABoEAAAAJ', 'QSW-_NQAAAAJ', '14_voi4AAAAJ', 'fPenDywAAAAJ', 'VGh8ZhgAAAAJ', 'C8x4AgIAAAAJ', 'gyApQjAAAAAJ', 'Uq7IgL4AAAAJ', 'iqjDFv8AAAAJ', 'tN8KFEcAAAAJ', 'oIlUJI0AAAAJ', 'A66xQuoAAAAJ', 'tgjSelwAAAAJ', 'caCUXf8AAAAJ', 'U8XFUe0AAAAJ', 'suk98wcAAAAJ', 'z-tmKsoAAAAJ', '4u-6msYAAAAJ', 'ag3m3Y8AAAAJ', 'neYn818AAAAJ', '8n9a2LgAAAAJ', 'Mqm322AAAAAJ', 'hrtH-v0AAAAJ', 're-lKQkAAAAJ', 'txBxVf0AAAAJ', 'dQHoN6QAAAAJ', '1GyQUjcAAAAJ', '_84xIL4AAAAJ', 'ZadOywEAAAAJ', '1MyoEYUAAAAJ', 'gcSsFTYAAAAJ', 'wGnSZJwAAAAJ', 'Jl2oyPYAAAAJ', 'OKa5C7wAAAAJ', 'hI4th5oAAAAJ', '1SeaSToAAAAJ', 'EfDuV14AAAAJ', 'Gu2Xl6MAAAAJ', 'CBAsXsoAAAAJ', 'cIdDdO8AAAAJ', 'gVx6RSAAAAAJ', '9lj7IpgAAAAJ', 'Hs78314AAAAJ', 'NyS7CS4AAAAJ', 'kOkMZIAAAAAJ', 'v7ysz-gAAAAJ', 'iyUq-uYAAAAJ', 'bGslovEAAAAJ', 'KXWo76kAAAAJ', 'JL6r9ZwAAAAJ', 'LdeXEiwAAAAJ', 'eF6NJccAAAAJ', '2nGhFd8AAAAJ', 'UvjG8nMAAAAJ', 'hDypw3YAAAAJ', 'S09wcV0AAAAJ', '9Q6opvIAAAAJ', 'LTb_MRgAAAAJ', 'Pio5DE4AAAAJ', 'QaaTeLwAAAAJ', '-TQtt8sAAAAJ', 'PH_FM6MAAAAJ', 'uHGneD4AAAAJ', 'gOhf1pUAAAAJ', 'C7PChwwAAAAJ', 'ZOuKud4AAAAJ', '8lnCwScAAAAJ', '2Ve3WmsAAAAJ', 'w_ksif4AAAAJ', 'O4tGs84AAAAJ', 'WC4ZyP4AAAAJ', 'lCC9C1IAAAAJ', 'cTG6xuAAAAAJ', '4MlaQoAAAAAJ', 'Z7OFTY0AAAAJ', 'y63s9NkAAAAJ', 'nxP3y5gAAAAJ', 'LHhNGOkAAAAJ', 'vCGykuEAAAAJ', 'ja8bgkoAAAAJ', 'KfoBhDsAAAAJ', 'gkY2VqcAAAAJ', 'oAzQ7YsAAAAJ', 'm8psNvIAAAAJ', 'smZhPesAAAAJ', 'eox9UH0AAAAJ', 'ZVUGn78AAAAJ', 'Rf9MLjIAAAAJ', 'N7WXJWwAAAAJ', 'BPTHeTcAAAAJ', '7UQ3D7sAAAAJ', 'NJl5y4oAAAAJ', 'E0jgen4AAAAJ', 'Q0FMHAUAAAAJ', '-QbY9j0AAAAJ', 'Lu-xwU0AAAAJ', 'kB1K2McAAAAJ', 'Cv5hDmMAAAAJ', 'TPokrvgAAAAJ', 'qs851uMAAAAJ', 'ZlmBiE4AAAAJ', 'WDJnwJ8AAAAJ']\n"
     ]
    }
   ],
   "source": [
    "#generate in code using user input\n",
    "input_obj = dict()\n",
    "input_obj['query_string'] = 'algorithms'\n",
    "input_obj['active_yr'] = 5\n",
    "input_obj['tfidf_score'] = 10\n",
    "input_obj['active_score'] = 5\n",
    "input_obj['hindex_score'] = 0\n",
    "input_obj['slope_score'] = 0\n",
    "input_obj['insti_score'] = 5\n",
    "\n",
    "print(query_subject(input_obj))"
   ]
  },
  {
   "cell_type": "code",
   "execution_count": 22,
   "metadata": {
    "ExecuteTime": {
     "end_time": "2021-04-30T17:05:05.692397Z",
     "start_time": "2021-04-30T17:04:41.699Z"
    }
   },
   "outputs": [],
   "source": [
    "#old code\n",
    "\n",
    "# query=\"data mining\"\n",
    "# query = process_string(query)\n",
    "# cnt_matrix_query = loaded_cnt_vct.transform([query])\n",
    "# cnt_matrix_query = csr_matrix.transpose(cnt_matrix_query)\n",
    "\n",
    "# result = loaded_tfidf_new_matrix * cnt_matrix_query\n",
    "# result = csr_matrix.transpose(result)\n",
    "# result = result.toarray()[0]\n",
    "# related_docs_indices = result.argsort()\n",
    "# related_docs_indices = related_docs_indices[::-1]\n",
    "# related_results = [loaded_docID[i] for i in related_docs_indices]"
   ]
  },
  {
   "cell_type": "code",
   "execution_count": null,
   "metadata": {},
   "outputs": [],
   "source": []
  }
 ],
 "metadata": {
  "kernelspec": {
   "display_name": "Python 3",
   "language": "python",
   "name": "python3"
  },
  "language_info": {
   "codemirror_mode": {
    "name": "ipython",
    "version": 3
   },
   "file_extension": ".py",
   "mimetype": "text/x-python",
   "name": "python",
   "nbconvert_exporter": "python",
   "pygments_lexer": "ipython3",
   "version": "3.8.8"
  },
  "toc": {
   "base_numbering": 1,
   "nav_menu": {},
   "number_sections": true,
   "sideBar": true,
   "skip_h1_title": false,
   "title_cell": "Table of Contents",
   "title_sidebar": "Contents",
   "toc_cell": false,
   "toc_position": {},
   "toc_section_display": true,
   "toc_window_display": false
  },
  "varInspector": {
   "cols": {
    "lenName": 16,
    "lenType": 16,
    "lenVar": 40
   },
   "kernels_config": {
    "python": {
     "delete_cmd_postfix": "",
     "delete_cmd_prefix": "del ",
     "library": "var_list.py",
     "varRefreshCmd": "print(var_dic_list())"
    },
    "r": {
     "delete_cmd_postfix": ") ",
     "delete_cmd_prefix": "rm(",
     "library": "var_list.r",
     "varRefreshCmd": "cat(var_dic_list()) "
    }
   },
   "types_to_exclude": [
    "module",
    "function",
    "builtin_function_or_method",
    "instance",
    "_Feature"
   ],
   "window_display": false
  }
 },
 "nbformat": 4,
 "nbformat_minor": 4
}
