{
 "cells": [
  {
   "cell_type": "code",
   "execution_count": 1,
   "metadata": {
    "ExecuteTime": {
     "end_time": "2021-04-30T17:04:42.141375Z",
     "start_time": "2021-04-30T17:04:40.452278Z"
    }
   },
   "outputs": [],
   "source": [
    "# Reference used: https://www.geeksforgeeks.org/tf-idf-for-bigrams-trigrams/\n",
    "import nltk \n",
    "import re \n",
    "import math\n",
    "import numpy as np\n",
    "import pandas as pd\n",
    "from sklearn.feature_extraction.text import CountVectorizer, TfidfVectorizer\n",
    "from sklearn.metrics.pairwise import cosine_similarity \n",
    "from sklearn.metrics.pairwise import linear_kernel\n",
    "from sklearn.preprocessing import normalize\n",
    "from sklearn.linear_model import Ridge\n",
    "from nltk.corpus import stopwords\n",
    "from nltk.tokenize import word_tokenize\n",
    "from nltk.stem import PorterStemmer\n",
    "from nltk.util import ngrams\n",
    "import pandas as pd   \n",
    "import jsonlines\n",
    "import json\n",
    "from tqdm.notebook import tqdm\n",
    "import pickle\n",
    "from scipy.sparse import csr_matrix"
   ]
  },
  {
   "cell_type": "code",
   "execution_count": 2,
   "metadata": {
    "ExecuteTime": {
     "end_time": "2021-04-30T17:04:42.156546Z",
     "start_time": "2021-04-30T17:04:42.143755Z"
    }
   },
   "outputs": [
    {
     "data": {
      "application/javascript": [
       "if (!(\"Notification\" in window)) {\n",
       "    alert(\"This browser does not support desktop notifications, so the %%notify magic will not work.\");\n",
       "} else if (Notification.permission !== 'granted' && Notification.permission !== 'denied') {\n",
       "    Notification.requestPermission(function (permission) {\n",
       "        if(!('permission' in Notification)) {\n",
       "            Notification.permission = permission;\n",
       "        }\n",
       "    })\n",
       "}\n"
      ],
      "text/plain": [
       "<IPython.core.display.Javascript object>"
      ]
     },
     "metadata": {},
     "output_type": "display_data"
    }
   ],
   "source": [
    "%load_ext jupyternotify"
   ]
  },
  {
   "cell_type": "code",
   "execution_count": 3,
   "metadata": {
    "ExecuteTime": {
     "end_time": "2021-04-30T17:04:42.537350Z",
     "start_time": "2021-04-30T17:04:42.158603Z"
    }
   },
   "outputs": [
    {
     "name": "stderr",
     "output_type": "stream",
     "text": [
      "[nltk_data] Downloading package punkt to\n",
      "[nltk_data]     C:\\Users\\RAGHAV\\AppData\\Roaming\\nltk_data...\n",
      "[nltk_data]   Package punkt is already up-to-date!\n",
      "[nltk_data] Downloading package stopwords to\n",
      "[nltk_data]     C:\\Users\\RAGHAV\\AppData\\Roaming\\nltk_data...\n",
      "[nltk_data]   Package stopwords is already up-to-date!\n"
     ]
    },
    {
     "data": {
      "text/plain": [
       "True"
      ]
     },
     "execution_count": 3,
     "metadata": {},
     "output_type": "execute_result"
    }
   ],
   "source": [
    "nltk.download('punkt')\n",
    "nltk.download('stopwords')"
   ]
  },
  {
   "cell_type": "code",
   "execution_count": 4,
   "metadata": {
    "ExecuteTime": {
     "end_time": "2021-04-30T17:04:45.195086Z",
     "start_time": "2021-04-30T17:04:42.539842Z"
    }
   },
   "outputs": [
    {
     "data": {
      "application/vnd.jupyter.widget-view+json": {
       "model_id": "",
       "version_major": 2,
       "version_minor": 0
      },
      "text/plain": [
       "0it [00:00, ?it/s]"
      ]
     },
     "metadata": {},
     "output_type": "display_data"
    }
   ],
   "source": [
    "documents = []\n",
    "docID = {}\n",
    "userIndex = {}\n",
    "term_total_citations = {}\n",
    "author_term_citations = {}\n",
    "idx = 0\n",
    "with jsonlines.open('data_india_sample.jl') as reader:\n",
    "    for obj in tqdm(reader, leave=False):\n",
    "        if obj['user'] not in userIndex:\n",
    "            documents.append(obj)\n",
    "            docID[idx] = obj['user']\n",
    "            userIndex[obj['user']] = idx\n",
    "            author_term_citations[obj['user']] = {}\n",
    "            idx += 1"
   ]
  },
  {
   "cell_type": "code",
   "execution_count": 5,
   "metadata": {
    "ExecuteTime": {
     "end_time": "2021-04-30T17:04:45.202398Z",
     "start_time": "2021-04-30T17:04:45.197344Z"
    }
   },
   "outputs": [],
   "source": [
    "# Code Taken From: https://www.geeksforgeeks.org/tf-idf-for-bigrams-trigrams/\n",
    "def remove_string_special_characters(s):\n",
    "    # removes special characters with ' '\n",
    "    stripped = re.sub('[^a-zA-z\\s]', ' ', s)\n",
    "#     print(stripped)\n",
    "    stripped = re.sub('_', ' ', stripped)\n",
    "      \n",
    "    # Change any white space to one space\n",
    "    stripped = re.sub('\\s+', ' ', stripped)\n",
    "      \n",
    "    # Remove start and end white spaces\n",
    "    stripped = stripped.strip()\n",
    "    if stripped != '':\n",
    "            return stripped.lower()"
   ]
  },
  {
   "cell_type": "code",
   "execution_count": 6,
   "metadata": {
    "ExecuteTime": {
     "end_time": "2021-04-30T17:04:45.208682Z",
     "start_time": "2021-04-30T17:04:45.204707Z"
    }
   },
   "outputs": [],
   "source": [
    "# Code Reference: https://www.geeksforgeeks.org/python-stemming-words-with-nltk/\n",
    "def stem_string(sentence):\n",
    "    ps = PorterStemmer()\n",
    "    \n",
    "    words = word_tokenize(sentence)\n",
    "    words = [ps.stem(word) for word in words]\n",
    "    return \" \".join(words)"
   ]
  },
  {
   "cell_type": "code",
   "execution_count": 7,
   "metadata": {
    "ExecuteTime": {
     "end_time": "2021-04-30T17:04:45.216382Z",
     "start_time": "2021-04-30T17:04:45.212110Z"
    }
   },
   "outputs": [],
   "source": [
    "def remove_stop_words(sentence):\n",
    "    stop_words = set(stopwords.words('english'))\n",
    "    words = word_tokenize(sentence)\n",
    "    words = [word for word in words if word not in stop_words]\n",
    "    return \" \".join(words)"
   ]
  },
  {
   "cell_type": "code",
   "execution_count": 8,
   "metadata": {
    "ExecuteTime": {
     "end_time": "2021-04-30T17:04:45.223644Z",
     "start_time": "2021-04-30T17:04:45.219513Z"
    }
   },
   "outputs": [],
   "source": [
    "def process_string(sentence):\n",
    "    sentence = remove_string_special_characters(sentence)\n",
    "    sentence = stem_string(sentence)\n",
    "    sentence = remove_stop_words(sentence)\n",
    "    return sentence"
   ]
  },
  {
   "cell_type": "markdown",
   "metadata": {},
   "source": [
    "## TF-IDF Matrix"
   ]
  },
  {
   "cell_type": "code",
   "execution_count": 9,
   "metadata": {
    "ExecuteTime": {
     "end_time": "2021-04-30T17:04:45.233207Z",
     "start_time": "2021-04-30T17:04:45.226237Z"
    }
   },
   "outputs": [],
   "source": [
    "def update_term_citations(document, sentence, numCitations, userID):\n",
    "    sentence = sentence.lower()\n",
    "    sentence = re.sub(r'[^a-zA-Z0-9\\s]', ' ', sentence)\n",
    "    tokens = [token for token in sentence.split(\" \") if token != \"\"]\n",
    "    for n in range(1, 5):\n",
    "        seen_ngms = []\n",
    "        ngms = list(ngrams(tokens, n))\n",
    "        for ngm in ngms:\n",
    "            gm = \" \".join(ngm)\n",
    "            if gm in seen_ngms:\n",
    "                continue\n",
    "            seen_ngms.append(gm)\n",
    "            if gm in author_term_citations[userID]:\n",
    "                author_term_citations[userID][gm] += numCitations\n",
    "            else:\n",
    "                author_term_citations[userID][gm] = numCitations\n",
    "            if gm in term_total_citations:\n",
    "                term_total_citations[gm] += numCitations\n",
    "            else:\n",
    "                term_total_citations[gm] = numCitations + 1"
   ]
  },
  {
   "cell_type": "code",
   "execution_count": 10,
   "metadata": {
    "ExecuteTime": {
     "end_time": "2021-04-30T17:05:05.626758Z",
     "start_time": "2021-04-30T17:04:45.235520Z"
    }
   },
   "outputs": [
    {
     "data": {
      "application/vnd.jupyter.widget-view+json": {
       "model_id": "",
       "version_major": 2,
       "version_minor": 0
      },
      "text/plain": [
       "  0%|          | 0/994 [00:00<?, ?it/s]"
      ]
     },
     "metadata": {},
     "output_type": "display_data"
    }
   ],
   "source": [
    "word_documents = []\n",
    "for document in tqdm(documents, leave=False):\n",
    "    sentences = []\n",
    "    for subject in document['subjects']:\n",
    "        sentence = process_string(subject)\n",
    "        sentences.append(sentence)\n",
    "        update_term_citations(document, sentence, int(document['citationsAll']), document['user'])\n",
    "    for paper in document['papers']:\n",
    "        try:\n",
    "            sentence = paper['title'] + \" \" + paper['conference']\n",
    "            sentence = process_string(sentence)\n",
    "        except: \n",
    "            continue\n",
    "        update_term_citations(document, sentence, paper['citations'], document['user'])\n",
    "        sentences.append(sentence)\n",
    "\n",
    "    word_documents.append(\".\\n\".join(sentences))"
   ]
  },
  {
   "cell_type": "code",
   "execution_count": 11,
   "metadata": {
    "ExecuteTime": {
     "end_time": "2021-04-30T17:05:05.663817Z",
     "start_time": "2021-04-30T17:04:41.680Z"
    }
   },
   "outputs": [
    {
     "data": {
      "application/vnd.jupyter.widget-view+json": {
       "model_id": "",
       "version_major": 2,
       "version_minor": 0
      },
      "text/plain": [
       "  0%|          | 0/994 [00:00<?, ?it/s]"
      ]
     },
     "metadata": {},
     "output_type": "display_data"
    },
    {
     "name": "stdout",
     "output_type": "stream",
     "text": [
      "(994, 370417)\n"
     ]
    }
   ],
   "source": [
    "vectorizer = TfidfVectorizer(stop_words='english', ngram_range=(1,4), analyzer='word')\n",
    "tfidf_matrix = vectorizer.fit_transform(word_documents) \n",
    "features = (vectorizer.get_feature_names())\n",
    "idf_scores = vectorizer.idf_\n",
    "\n",
    "cnt_vct = CountVectorizer(stop_words='english', ngram_range=(1,4), analyzer='word')\n",
    "cnt_matrix = cnt_vct.fit_transform(word_documents)\n",
    "cnt_features = cnt_vct.get_feature_names()\n",
    "\n",
    "idf_scores = csr_matrix(idf_scores)\n",
    "tfidf_new_matrix = csr_matrix.copy(csr_matrix.astype(cnt_matrix, dtype=np.float64))\n",
    "for row in tqdm(range(cnt_matrix.shape[0]), leave=False):\n",
    "    tfidf_new_matrix[row] = tfidf_new_matrix[row].multiply(idf_scores)\n",
    "print(tfidf_new_matrix.shape)"
   ]
  },
  {
   "cell_type": "markdown",
   "metadata": {
    "ExecuteTime": {
     "start_time": "2021-04-30T16:29:13.483Z"
    }
   },
   "source": [
    "### Multiply the Citations Log Factor"
   ]
  },
  {
   "cell_type": "code",
   "execution_count": 12,
   "metadata": {
    "ExecuteTime": {
     "end_time": "2021-04-30T17:05:05.667093Z",
     "start_time": "2021-04-30T17:04:41.683Z"
    }
   },
   "outputs": [
    {
     "data": {
      "application/vnd.jupyter.widget-view+json": {
       "model_id": "",
       "version_major": 2,
       "version_minor": 0
      },
      "text/plain": [
       "  0%|          | 0/994 [00:00<?, ?it/s]"
      ]
     },
     "metadata": {},
     "output_type": "display_data"
    }
   ],
   "source": [
    "feature_idx = {}\n",
    "for idx, feature in enumerate(cnt_features):\n",
    "    feature_idx[feature] = idx\n",
    "\n",
    "for author, author_dict in tqdm(author_term_citations.items(), leave=False):\n",
    "    for term, term_citations in author_dict.items():\n",
    "        if term in feature_idx:\n",
    "            term_idx = feature_idx[term]\n",
    "            author_idx = userIndex[author]\n",
    "            if tfidf_new_matrix[author_idx, term_idx]:\n",
    "                log_factor = math.log( 1 + (term_citations / term_total_citations[term]) , 2)\n",
    "                tfidf_new_matrix[author_idx, term_idx] *= log_factor"
   ]
  },
  {
   "cell_type": "markdown",
   "metadata": {},
   "source": [
    "# Activeness "
   ]
  },
  {
   "cell_type": "code",
   "execution_count": 13,
   "metadata": {
    "ExecuteTime": {
     "end_time": "2021-04-30T17:05:05.668843Z",
     "start_time": "2021-04-30T17:04:41.685Z"
    }
   },
   "outputs": [
    {
     "data": {
      "application/vnd.jupyter.widget-view+json": {
       "model_id": "",
       "version_major": 2,
       "version_minor": 0
      },
      "text/plain": [
       "  0%|          | 0/994 [00:00<?, ?it/s]"
      ]
     },
     "metadata": {},
     "output_type": "display_data"
    }
   ],
   "source": [
    "#check index orders\n",
    "\n",
    "#rows -> professors \n",
    "#columns -> 2020, 2020+2019, 2020+2019+2018 .... cumulative no of citations\n",
    "\n",
    "maxrng=20\n",
    "minyr,maxyr=2001,2020\n",
    "mat_activeness = np.zeros((len(documents),maxrng))\n",
    "ind=0\n",
    "for document in tqdm(documents, leave=False):\n",
    "    papers=document['papers']\n",
    "    for paper in papers:\n",
    "        paperyr=paper['year']\n",
    "        if paperyr>=minyr and paperyr<=maxyr:\n",
    "            dis=maxyr-paperyr\n",
    "            mat_activeness[ind,dis]+=paper['citations']\n",
    "    ind+=1\n",
    "\n",
    "ind=0\n",
    "for i in range(mat_activeness.shape[0]):\n",
    "    for j in range(mat_activeness.shape[1]):\n",
    "        if j>0:\n",
    "            mat_activeness[i,j]+=mat_activeness[i,j-1]\n",
    "            "
   ]
  },
  {
   "cell_type": "markdown",
   "metadata": {},
   "source": [
    "## Slope of citations"
   ]
  },
  {
   "cell_type": "code",
   "execution_count": 14,
   "metadata": {},
   "outputs": [],
   "source": [
    "def slope_calc(citations):\n",
    "    n = len(citations)\n",
    "    clf = Ridge(alpha=10, fit_intercept=False)\n",
    "    xinds = np.array([i for i in range(n)]).reshape(-1,1)\n",
    "    xinds = np.concatenate([np.ones((n,1)),xinds],axis=1)\n",
    "    clf.fit(xinds,citations)\n",
    "    return clf.coef_[1]\n",
    "\n",
    "def get_insti_ranks():\n",
    "    files = [\"india_institutes.txt\", \"britain_institutes.txt\", \"america_institutes.txt\"]\n",
    "    insti_score = dict()\n",
    "    for file in files:\n",
    "        path = \"web_data/\"+file\n",
    "        with open(path,\"r\") as f:\n",
    "            insti = f.readlines()\n",
    "            instinew=[]\n",
    "            for institute in insti:\n",
    "                instinew.append(institute.strip())\n",
    "            insti = list(filter(lambda x:x!='\\n',instinew))\n",
    "            n = len(insti)\n",
    "            maxrank, minrank = 100,1\n",
    "            diff = (maxrank-minrank)/(n-1)\n",
    "            cur=maxrank\n",
    "            for institute in insti:\n",
    "                insti_score[institute] = cur\n",
    "                cur-=diff\n",
    "    return insti_score\n",
    "                         \n",
    "# get_insti_ranks()                         \n",
    "# slope_calc([3, 9, 14, 17, 32, 0, 49, 67, 62, 0, 94, 129, 42])\n"
   ]
  },
  {
   "cell_type": "markdown",
   "metadata": {},
   "source": [
    "# Slope, Hindex, Institute Reputation"
   ]
  },
  {
   "cell_type": "code",
   "execution_count": 15,
   "metadata": {
    "ExecuteTime": {
     "end_time": "2021-04-30T17:05:05.671164Z",
     "start_time": "2021-04-30T17:04:41.688Z"
    }
   },
   "outputs": [
    {
     "data": {
      "application/vnd.jupyter.widget-view+json": {
       "model_id": "",
       "version_major": 2,
       "version_minor": 0
      },
      "text/plain": [
       "  0%|          | 0/994 [00:00<?, ?it/s]"
      ]
     },
     "metadata": {},
     "output_type": "display_data"
    },
    {
     "data": {
      "application/vnd.jupyter.widget-view+json": {
       "model_id": "",
       "version_major": 2,
       "version_minor": 0
      },
      "text/plain": [
       "  0%|          | 0/994 [00:00<?, ?it/s]"
      ]
     },
     "metadata": {},
     "output_type": "display_data"
    },
    {
     "data": {
      "application/vnd.jupyter.widget-view+json": {
       "model_id": "",
       "version_major": 2,
       "version_minor": 0
      },
      "text/plain": [
       "  0%|          | 0/994 [00:00<?, ?it/s]"
      ]
     },
     "metadata": {},
     "output_type": "display_data"
    }
   ],
   "source": [
    "# Columns -> slope of citations, hindex, institute reputation\n",
    "ranking_metrics = np.zeros((len(documents),3))\n",
    "\n",
    "# Slope of citations (omitting current year)\n",
    "# ref: https://www.varsitytutors.com/hotmath/hotmath_help/topics/line-of-best-fit\n",
    "ind=0\n",
    "for document in tqdm(documents, leave=False):\n",
    "    cits=[]\n",
    "    for entry in document['yearCitations']:\n",
    "        dictx = json.loads(entry)\n",
    "        cits.append(dictx['citations'])\n",
    "    ranking_metrics[ind,0]=slope_calc(cits)\n",
    "    ind+=1           \n",
    "\n",
    "\n",
    "# H index\n",
    "ind=0\n",
    "for document in tqdm(documents, leave=False):\n",
    "    ranking_metrics[ind,1]=document[\"h-indexAll\"]\n",
    "    ind+=1\n",
    "                                                                        \n",
    "\n",
    "#Institute Reputation\n",
    "insti_ranks = get_insti_ranks()\n",
    "ind=0\n",
    "for document in tqdm(documents, leave=False):\n",
    "    ranking_metrics[ind,2] = insti_ranks[document['institute']]\n",
    "    ind+=1\n",
    "\n",
    "                               "
   ]
  },
  {
   "cell_type": "code",
   "execution_count": null,
   "metadata": {},
   "outputs": [],
   "source": []
  },
  {
   "cell_type": "markdown",
   "metadata": {},
   "source": [
    "### Pickle the Matrix and Vectorizer"
   ]
  },
  {
   "cell_type": "code",
   "execution_count": 16,
   "metadata": {
    "ExecuteTime": {
     "end_time": "2021-04-30T17:05:05.677360Z",
     "start_time": "2021-04-30T17:04:41.694Z"
    }
   },
   "outputs": [],
   "source": [
    "pickle.dump(cnt_vct, open(\"web_data/count_vectorizer.pkl\", \"wb\"))\n",
    "pickle.dump(tfidf_new_matrix, open(\"web_data/tfidf_new_matrix.pkl\", \"wb\"))\n",
    "pickle.dump(docID, open(\"web_data/doc_id_dict.pkl\", \"wb\"))\n",
    "pickle.dump(mat_activeness, open(\"web_data/mat_activeness.pkl\", \"wb\"))\n",
    "pickle.dump(ranking_metrics, open(\"web_data/ranking_metrics.pkl\", \"wb\"))"
   ]
  },
  {
   "cell_type": "code",
   "execution_count": null,
   "metadata": {},
   "outputs": [],
   "source": []
  },
  {
   "cell_type": "markdown",
   "metadata": {},
   "source": [
    "### Query Subjects"
   ]
  },
  {
   "cell_type": "code",
   "execution_count": null,
   "metadata": {},
   "outputs": [],
   "source": []
  },
  {
   "cell_type": "code",
   "execution_count": 17,
   "metadata": {},
   "outputs": [],
   "source": [
    "\n",
    "# def query_subject(subject=\"data mining\"):\n",
    "    \n",
    "#     # tf-idf\n",
    "#     query = process_string(query)\n",
    "#     cnt_matrix_query = cnt_vct.transform([query])\n",
    "#     cnt_matrix_query = csr_matrix.transpose(cnt_matrix_query)\n",
    "\n",
    "\n",
    "#     res = tfidf_new_matrix * cnt_matrix_query\n",
    "#     res = csr_matrix.transpose(res)\n",
    "#     res = res.toarray()[0]\n",
    "#     related_docs_indices = res.argsort()\n",
    "#     related_docs_indices = related_docs_indices[::-1]\n",
    "#     related_results = [docID[i] for i in related_docs_indices]\n",
    "    \n",
    "#     # activness\n",
    "#     activeness_factor = 2\n",
    "    \n",
    "    \n",
    "#     return related_results"
   ]
  },
  {
   "cell_type": "code",
   "execution_count": 18,
   "metadata": {},
   "outputs": [],
   "source": [
    "# query_subject()"
   ]
  },
  {
   "cell_type": "code",
   "execution_count": null,
   "metadata": {},
   "outputs": [],
   "source": []
  },
  {
   "cell_type": "markdown",
   "metadata": {},
   "source": [
    "### Pickled Testing"
   ]
  },
  {
   "cell_type": "code",
   "execution_count": 19,
   "metadata": {},
   "outputs": [],
   "source": [
    "loaded_cnt_vct = pickle.load(open(\"web_data/count_vectorizer.pkl\", \"rb\"))\n",
    "loaded_tfidf_new_matrix = pickle.load(open(\"web_data/tfidf_new_matrix.pkl\", \"rb\"))\n",
    "loaded_docID = pickle.load(open(\"web_data/doc_id_dict.pkl\", \"rb\"))\n",
    "loaded_mat_activeness = pickle.load(open(\"web_data/mat_activeness.pkl\", \"rb\"))\n",
    "loaded_ranking_metrics = pickle.load(open(\"web_data/ranking_metrics.pkl\", \"rb\"))"
   ]
  },
  {
   "cell_type": "code",
   "execution_count": 30,
   "metadata": {},
   "outputs": [],
   "source": [
    "def get_tf_idf_vec(query):\n",
    "    query = process_string(query)\n",
    "    cnt_matrix_query = loaded_cnt_vct.transform([query])\n",
    "    cnt_matrix_query = csr_matrix.transpose(cnt_matrix_query)\n",
    "\n",
    "    result = loaded_tfidf_new_matrix * cnt_matrix_query\n",
    "    result = csr_matrix.transpose(result)\n",
    "    result = result.toarray()[0]\n",
    "    \n",
    "    return result\n",
    "\n",
    "def get_active_vec(year):\n",
    "    col = year-1\n",
    "    citations = loaded_mat_activeness[:,col].squeeze()\n",
    "    return citations\n",
    "\n",
    "def get_slope_vec():\n",
    "    return loaded_ranking_metrics[:,0].squeeze()\n",
    "\n",
    "def get_hindex_vec():\n",
    "    return loaded_ranking_metrics[:,1].squeeze()\n",
    "    \n",
    "def get_insti_vec():\n",
    "    return loaded_ranking_metrics[:,2].squeeze()\n",
    "\n",
    "def normalise(x):\n",
    "    return x/np.linalg.norm(x)\n",
    "\n",
    "\n",
    "def query_subject(user_input):\n",
    "    \n",
    "    #parameters\n",
    "    params = ['tfidf', 'active', 'hindex', 'slope', 'insti']\n",
    "    ranks={}\n",
    "    for param in params:\n",
    "        ranks[param]={}\n",
    "    \n",
    "    #set weight factors\n",
    "    ranks['active']['wt'] = user_input['active_score']\n",
    "    ranks['hindex']['wt'] = user_input['hindex_score']\n",
    "    ranks['slope']['wt'] = user_input['slope_score']\n",
    "    ranks['insti']['wt'] = user_input['insti_score']\n",
    "    \n",
    "    #scale up \n",
    "    total_user_input_wt = 0\n",
    "    for key,val in ranks.items():\n",
    "        if key!='tfidf':\n",
    "            total_user_input_wt += val['wt']\n",
    "    factor = 60/total_user_input_wt\n",
    "    for key,val in ranks.items():\n",
    "        if key!='tfidf':\n",
    "             val['wt'] *= factor\n",
    "    \n",
    "    #tfidf is remaining wt\n",
    "    ranks['tfidf']['wt'] = 100\n",
    "    for key,val in ranks.items():\n",
    "        if key!='tfidf':\n",
    "            ranks['tfidf']['wt']-=val['wt']\n",
    "    \n",
    "    print(ranks)\n",
    "    \n",
    "    #tf-idf\n",
    "    ranks['tfidf']['vec'] = normalise(get_tf_idf_vec(user_input['query_string']))\n",
    "\n",
    "    #activeness\n",
    "    ranks['active']['vec'] = normalise(get_active_vec(user_input['active_yr']))\n",
    "    \n",
    "    #slope of citations\n",
    "    ranks['slope']['vec'] = normalise(get_slope_vec())\n",
    "    \n",
    "    #h-index\n",
    "    ranks['hindex']['vec'] = normalise(get_hindex_vec())\n",
    "    \n",
    "    #institute reputation\n",
    "    ranks['insti']['vec'] = normalise(get_insti_vec())\n",
    "    \n",
    "    #final score\n",
    "    final_sc = np.zeros(ranks['tfidf']['vec'].size)\n",
    "    for key,val in ranks.items():\n",
    "        final_sc += val['wt']*val['vec']\n",
    "        \n",
    "    indices = final_sc.argsort()\n",
    "    indices = indices[::-1]\n",
    "    profs = [loaded_docID[i] for i in indices]\n",
    "    \n",
    "    return profs"
   ]
  },
  {
   "cell_type": "code",
   "execution_count": 31,
   "metadata": {},
   "outputs": [
    {
     "name": "stdout",
     "output_type": "stream",
     "text": [
      "{'tfidf': {'wt': 40.0}, 'active': {'wt': 12.0}, 'hindex': {'wt': 12.0}, 'slope': {'wt': 12.0}, 'insti': {'wt': 24.0}}\n",
      "['hPvt6d8AAAAJ', 'hvzGZiwAAAAJ', 'Z7OFTY0AAAAJ', 'p43jB30AAAAJ', 'e0wvn3cAAAAJ', '7XrffX4AAAAJ', '2oe3sXwAAAAJ', '17Ko8Q0AAAAJ', 'qKxXKgEAAAAJ', 'ZLOm0jEAAAAJ', 'sIQDguEAAAAJ', 'TjQUjCMAAAAJ', 'beF3850AAAAJ', 'vcngn2gAAAAJ', '0MNT3h8AAAAJ', 'ZvvEpQkAAAAJ', 'KfoBhDsAAAAJ', 'tkmfUzEAAAAJ', 'y63s9NkAAAAJ', 'H1DwlmYAAAAJ', 'inrwXiIAAAAJ', 'ZlmBiE4AAAAJ', 's2NqMEAAAAAJ', 'nxP3y5gAAAAJ', 'WDJnwJ8AAAAJ', 'Rf9MLjIAAAAJ', 'm8psNvIAAAAJ', 'gkY2VqcAAAAJ', '_Xx4DsoAAAAJ', 'BPTHeTcAAAAJ', 'E0jgen4AAAAJ', 'Q0FMHAUAAAAJ', 'OSdXHS8AAAAJ', 'qNznu3kAAAAJ', '9k7YMT4AAAAJ', '_HP5IaQAAAAJ', 'b4hhMpwAAAAJ', 'ZVUGn78AAAAJ', 'LlOwelEAAAAJ', 'eox9UH0AAAAJ', 'u512fe8AAAAJ', '4MlaQoAAAAAJ', 'NaeTUpYAAAAJ', '7UQ3D7sAAAAJ', 'QP3M8aYAAAAJ', 'y8tTkvkAAAAJ', 'oAzQ7YsAAAAJ', 'u86drLgAAAAJ', '-QbY9j0AAAAJ', 'ja8bgkoAAAAJ', '1TgzFksAAAAJ', 'tgjSelwAAAAJ', 'stMEHeUAAAAJ', 'hHvIa34AAAAJ', 'NJl5y4oAAAAJ', '11MDgP4AAAAJ', 'cv7Xbu8AAAAJ', 'XrWLwxkAAAAJ', 'e4nJgnEAAAAJ', 'smZhPesAAAAJ', 'N7WXJWwAAAAJ', 'rw3dBtEAAAAJ', '3WEQbgMAAAAJ', 'pLE4PTYAAAAJ', 'U8XFUe0AAAAJ', 'SU2OWbUAAAAJ', '5y5Uev4AAAAJ', 'LHhNGOkAAAAJ', '3njIH1AAAAAJ', '2aeqYNUAAAAJ', 'ZitY-ZgAAAAJ', 'mxl-jZAAAAAJ', 'peQ7HZ8AAAAJ', 'W30QIawAAAAJ', 'NX4rjdQAAAAJ', 'E8bH10gAAAAJ', 'cWcqrncAAAAJ', 'zYs3TaAAAAAJ', 'mEs0PmoAAAAJ', '1YLbgQ4AAAAJ', 'nz9IwyUAAAAJ', 'bwZHQ8EAAAAJ', 'u2h2WiMAAAAJ', 'VIIYozgAAAAJ', 'gclGdAcAAAAJ', 'tM9XJCwAAAAJ', 'Cd_tFkUAAAAJ', 'BJ7CzPgAAAAJ', 'TS9qBjQAAAAJ', '0edlYFwAAAAJ', 'D3PZ7BkAAAAJ', 'LHYZC0MAAAAJ', 'K834eKgAAAAJ', 'lFaZNTQAAAAJ', 'xdYSWu8AAAAJ', 'mJIUC0UAAAAJ', 'vABsq-YAAAAJ', '8g3TkDAAAAAJ', 'd-Kal94AAAAJ', 'pW1HDa4AAAAJ', 'p2Btse4AAAAJ', 'tC0NHXYAAAAJ', '7k6tzDAAAAAJ', 'sEoRaxQAAAAJ', 'S2tBrxcAAAAJ', 'kT8PzzkAAAAJ', 'Go68I-cAAAAJ', 'zbRHF7gAAAAJ', 'NsR5pAoAAAAJ', '4fbhGOYAAAAJ', '-vvhzHkAAAAJ', 't5kpJsYAAAAJ', 'enGoLCQAAAAJ', '2yRcKGgAAAAJ', '_n9bvLYAAAAJ', '9a35R00AAAAJ', 'g-0ri08AAAAJ', '7lxOt5sAAAAJ', 'xwmdl3IAAAAJ', 'h55vyUQAAAAJ', 'hhjU_LEAAAAJ', 'oIlUJI0AAAAJ', 'RWC2IfIAAAAJ', 'FnYThhgAAAAJ', 'khY76cYAAAAJ', 'ebh2T0sAAAAJ', 'XQ72A6wAAAAJ', 'KA5t_VQAAAAJ', 'zQphrEwAAAAJ', '3gHKDo4AAAAJ', 'HTVepekAAAAJ', 'zlyCnPsAAAAJ', '7D4ts0YAAAAJ', 'OteTiccAAAAJ', '5XqbBqEAAAAJ', 'JbOPs1kAAAAJ', 'Rln7jKAAAAAJ', 'epuogiEAAAAJ', 'v0AjsjsAAAAJ', 'iTfItCMAAAAJ', 'A2cP7lgAAAAJ', 'SaD-oXQAAAAJ', '6UuzViMAAAAJ', 'rNeidT4AAAAJ', 'mPP7NCYAAAAJ', 'EIAz2OMAAAAJ', 'BtdGmOIAAAAJ', 'verRbuoAAAAJ', 'XY6D8wsAAAAJ', 'cVdB1iwAAAAJ', 'q-_jk8wAAAAJ', 'zYH7wmAAAAAJ', 'VUihxm8AAAAJ', 'LOqqhZQAAAAJ', '2O4MQ-kAAAAJ', 'i8K9m1MAAAAJ', 'cTkda4oAAAAJ', 'X5Bjw-wAAAAJ', 'iTVcdO4AAAAJ', 'FVTyjCAAAAAJ', 'Ml6q3GAAAAAJ', 'DGNTCYEAAAAJ', 'xVwl1cwAAAAJ', '_GVZlQ4AAAAJ', '8EfVCYYAAAAJ', '3RND6lUAAAAJ', 'uL-CHc8AAAAJ', 'uEcWOfgAAAAJ', 'iVocrqcAAAAJ', 'subvPdQAAAAJ', 'wm_7a-0AAAAJ', '0_cd3ogAAAAJ', '2PDhWl0AAAAJ', 'Mfz1xKMAAAAJ', 'qlywvIQAAAAJ', 'dj8zAPoAAAAJ', 'haHAzrAAAAAJ', '8qiTzY0AAAAJ', 'W9F6zh4AAAAJ', 'Zz9rLGkAAAAJ', 'mVXjhhgAAAAJ', 'wlSqIocAAAAJ', 'IzeaDioAAAAJ', 'iL-BLYIAAAAJ', 'X_sISHMAAAAJ', 'H85F5q8AAAAJ', 'IUCG4NQAAAAJ', '6wKMc3sAAAAJ', 'cZxrxCMAAAAJ', '_cXoyG8AAAAJ', 'i11hcb4AAAAJ', '3ga2ndEAAAAJ', '-AQtpt4AAAAJ', 'jGuZfcsAAAAJ', 'Q19OhcsAAAAJ', 'f0lk958AAAAJ', 'HrGqKZQAAAAJ', 'Mjr3HCQAAAAJ', 'I2iteEMAAAAJ', 'qCzk-pYAAAAJ', 'sphOH2IAAAAJ', 'QM9qltUAAAAJ', 'DnTRJxsAAAAJ', 'slAHcFIAAAAJ', 'dIypbs4AAAAJ', 'mb1pZXIAAAAJ', 'H7jzu-QAAAAJ', 'ecCCW6kAAAAJ', 'scTy5nIAAAAJ', 'ugCJRP4AAAAJ', 'XPOQhdMAAAAJ', '29jOfd0AAAAJ', 'zbQ0EDsAAAAJ', 'x_Db1k8AAAAJ', 'wGNrpD4AAAAJ', 'YGAmZF4AAAAJ', 'GNhYvuQAAAAJ', 'cNVgrI4AAAAJ', '2-94vuoAAAAJ', 'vCGykuEAAAAJ', '7vgYCCgAAAAJ', 'CU5RlLYAAAAJ', 'LnrYtjMAAAAJ', 'MYS-vWcAAAAJ', '1c6QNrQAAAAJ', '183lX1cAAAAJ', 'SJRYIjcAAAAJ', '8i9FP_QAAAAJ', 'T1FRLQsAAAAJ', 're-urn8AAAAJ', '491uIXYAAAAJ', 'CWCHSmoAAAAJ', 'jPV4i2IAAAAJ', 'lblRCPMAAAAJ', 'leKXwz4AAAAJ', 'AdMc7GoAAAAJ', 'mDZnReoAAAAJ', 'Ihcdv4UAAAAJ', 'U1H8JZEAAAAJ', 'B_oQnccAAAAJ', '30nwOsUAAAAJ', '1BuQRewAAAAJ', 'FlALopkAAAAJ', '7mxoviEAAAAJ', '4LOTyvsAAAAJ', 'zkvesCUAAAAJ', 'FfVLymoAAAAJ', 'xPjVuaYAAAAJ', '3jc0vZsAAAAJ', 'fpXmXgYAAAAJ', 'HBGr9_0AAAAJ', 'CzUd33gAAAAJ', 'vrxselgAAAAJ', 'DGQ8Dz0AAAAJ', 'gBSWPNYAAAAJ', 'a2Wgu0EAAAAJ', 'p7wjCXUAAAAJ', 'rNAPZ7gAAAAJ', 'kTK8xr8AAAAJ', 'DN_FSkkAAAAJ', 'CpLiFv8AAAAJ', 'S8cDuZ4AAAAJ', '1Yp6cEsAAAAJ', 'siMZDt4AAAAJ', '2NOoOgsAAAAJ', 'FT8fTukAAAAJ', 'wzf4VBAAAAAJ', 'IRGovUoAAAAJ', 'PPBkO7QAAAAJ', 'bptO870AAAAJ', '_omt7MIAAAAJ', 'mu7n4bYAAAAJ', 'N2O8hI4AAAAJ', '37CNdWQAAAAJ', 'R7pbH9YAAAAJ', '-875CKoAAAAJ', 'qXQPkuEAAAAJ', 'XHSL1h8AAAAJ', 'ao0pXBcAAAAJ', 'nnG4XuoAAAAJ', 'mDMBpDEAAAAJ', 'Pt9J-NwAAAAJ', '0u7mV4cAAAAJ', '3Mcdqa8AAAAJ', '5vK9oDMAAAAJ', 'bzOdHtwAAAAJ', 'dnM4yJQAAAAJ', 'laT3mwoAAAAJ', 'xBen0NcAAAAJ', 'Syva3bQAAAAJ', 'tU2hq0MAAAAJ', 'zRtB4XwAAAAJ', 'qBFQKacAAAAJ', 'qq4Vl0sAAAAJ', 's-U3cL0AAAAJ', 'jWYnxLYAAAAJ', '_cpaQAgAAAAJ', 'rj_wUMEAAAAJ', 'KvZIeXcAAAAJ', 'pGQj6ewAAAAJ', 'VhoipoUAAAAJ', 'EWG-qssAAAAJ', 'qvckJGkAAAAJ', 'bkFOm1QAAAAJ', '5h2LnBcAAAAJ', 'G5HKDtYAAAAJ', 'E1k56R8AAAAJ', 'to1uq30AAAAJ', 'fiwEI2oAAAAJ', 'iE7guc8AAAAJ', 'QhzD6ysAAAAJ', 'cSx6MIgAAAAJ', 'cTnqt9MAAAAJ', 'TPXdhLsAAAAJ', 'j1563BUAAAAJ', 'CX-zp5gAAAAJ', '81JWNh4AAAAJ', 'xpu1KIgAAAAJ', '6PC3pncAAAAJ', 'jtD-N0AAAAAJ', 'wJiXvbMAAAAJ', '0LqoygQAAAAJ', 'I225hBYAAAAJ', '7sv5CT8AAAAJ', '-k5OiuwAAAAJ', '_TpoQ08AAAAJ', '5RZkVGMAAAAJ', 'InU2XMsAAAAJ', 'Cs0NQ6gAAAAJ', 'canHXb4AAAAJ', '39iqQfEAAAAJ', '3F2DBnEAAAAJ', 'asu9hvIAAAAJ', 'ppEhO9YAAAAJ', '1zaWuoMAAAAJ', 'voWhmekAAAAJ', 'eE0Le_sAAAAJ', 'RtSidIEAAAAJ', 'UerEKpIAAAAJ', 'STSEuLcAAAAJ', '5d6i_vkAAAAJ', '9VkJSvIAAAAJ', '5mlf2E4AAAAJ', 'fREQGZkAAAAJ', 'BzXn2sgAAAAJ', 'BOw5_gwAAAAJ', 'ls_y_mkAAAAJ', 'zNMg6n8AAAAJ', 'Kd7yUP4AAAAJ', 'uVsZqH4AAAAJ', 'BafR46oAAAAJ', 'QJNq4-YAAAAJ', '1goxaxkAAAAJ', 'GxvZVlAAAAAJ', 'ANUvQk4AAAAJ', '36W3qpkAAAAJ', 'ROt3pm8AAAAJ', 'ISCnyBQAAAAJ', '5EtPkJoAAAAJ', 'XNGbTqMAAAAJ', '60ipIjYAAAAJ', '6I9xA20AAAAJ', 'cqXqUagAAAAJ', '8mGCr2oAAAAJ', 'yH0SpSwAAAAJ', 'UiBfzloAAAAJ', '_RfD3eAAAAAJ', '4VF4YccAAAAJ', 'rblhT_8AAAAJ', 'xiRDklYAAAAJ', '47YRNTEAAAAJ', 'SImU2CIAAAAJ', 'y15wFxMAAAAJ', 'JZqDBOEAAAAJ', '5MaHEtcAAAAJ', 'L82kAfsAAAAJ', 'N6Jb1VQAAAAJ', 'hMywgWUAAAAJ', '1y6Z-ckAAAAJ', 'qtGBFpMAAAAJ', 'rJr8suQAAAAJ', 'Y0NtHH0AAAAJ', 'Yhu3UE8AAAAJ', 'rWjJWzEAAAAJ', 'Mk-P52EAAAAJ', '4tE6qRQAAAAJ', 'j6x5iVcAAAAJ', '5C1CV4gAAAAJ', 'AfDGPA8AAAAJ', 'NO3LaX8AAAAJ', 'R4y2k3QAAAAJ', 'qBUNlhUAAAAJ', 'V4UlgwEAAAAJ', 'PD-dXdsAAAAJ', 'lPMtDfYAAAAJ', 'iAlMuacAAAAJ', 'KK3kJlcAAAAJ', 'Yt8JfPgAAAAJ', 'wM-ma0MAAAAJ', 'qZG4hUwAAAAJ', 't-LSR-0AAAAJ', 'KFEQXswAAAAJ', 'dIwVgX8AAAAJ', 'm2dSasIAAAAJ', 'ExI8kY0AAAAJ', 'MyyS3acAAAAJ', 'FMyTs4MAAAAJ', '5CIeVRMAAAAJ', 'GqxFV80AAAAJ', 'F0GqBZgAAAAJ', 'nr33sCMAAAAJ', 'hWdrCT0AAAAJ', 'Rr0LjnQAAAAJ', 'mZtCllIAAAAJ', 'Npx-L4YAAAAJ', 'KHoEMZwAAAAJ', 'R0ZotOYAAAAJ', 'AbmGlNwAAAAJ', 'pnghV4UAAAAJ', 'cxxo5JQAAAAJ', 'NsS_omcAAAAJ', 'P0S7uaQAAAAJ', 'WcouxIAAAAAJ', 'SRDhcuoAAAAJ', 'DhVYNMwAAAAJ', 'eaPOpDMAAAAJ', 'NwFl5HAAAAAJ', 'U1AhQVgAAAAJ', 'AmpQF4QAAAAJ', '7sV4dN0AAAAJ', 'kqlVbFsAAAAJ', 'tJufLS8AAAAJ', 'aXTseVYAAAAJ', '1qpb1isAAAAJ', 'owqaSZQAAAAJ', 'PzHN_P4AAAAJ', 'zHNXOOwAAAAJ', 'YmUVdVkAAAAJ', 'KDmnpJwAAAAJ', '1fqHJZkAAAAJ', 'pEn6_CkAAAAJ', 'Y6O22mwAAAAJ', 'LGtAvCAAAAAJ', 'R0RpdQMAAAAJ', 'xOxQ2aQAAAAJ', '0cmIFfkAAAAJ', 'k4soadQAAAAJ', 'zvo9YT8AAAAJ', 'YLNl5q8AAAAJ', 'vocNQcEAAAAJ', 'f5ksmQEAAAAJ', 'y2h2prUAAAAJ', 'EgJaIlsAAAAJ', 'kIMCU9UAAAAJ', 'ecRQW-0AAAAJ', 'O9FCZygAAAAJ', 'V_yk63YAAAAJ', 'NL5alEsAAAAJ', 'kVaEBYcAAAAJ', 'TRDjE5gAAAAJ', 'gc8sjUEAAAAJ', 'eftnOH4AAAAJ', 'QEgOz24AAAAJ', 'XxSmqkQAAAAJ', 'LW2KCmkAAAAJ', 'ESCjfuwAAAAJ', 'o3OZDZkAAAAJ', 'ur3WYWYAAAAJ', 'H-5KYaQAAAAJ', 'YlTEbxYAAAAJ', 'BjgvjHQAAAAJ', 'f1iQ6roAAAAJ', 'Pp5WeBsAAAAJ', 'aWMtjIEAAAAJ', 'Bf-sYSAAAAAJ', 'Ad7aUpcAAAAJ', 'It9JcgMAAAAJ', 'OVjv4SUAAAAJ', 't_Wke-QAAAAJ', 'WPcsukYAAAAJ', '2eOmjx0AAAAJ', 'h2H6sHsAAAAJ', 'kejHggwAAAAJ', 'qA86lpYAAAAJ', 'VwePP5cAAAAJ', 'GUcJWxUAAAAJ', 'KnhycLgAAAAJ', '5na4P6YAAAAJ', 'Tu8p_aEAAAAJ', 'frjqs0QAAAAJ', 'Yw336skAAAAJ', 'JVXllZ8AAAAJ', 'ZfU8f_wAAAAJ', 'lYuM7f0AAAAJ', 'otDCB_gAAAAJ', 'MhV9SBIAAAAJ', 'wJTpCVUAAAAJ', 'kljiKdQAAAAJ', 'a9x8kgwAAAAJ', 'sU7O9isAAAAJ', 'dgJ_7TIAAAAJ', 'F0rAYroAAAAJ', 'UGGBAuEAAAAJ', '8CWtpXAAAAAJ', 'g_NjKDQAAAAJ', 'uM0msYEAAAAJ', 'QvUFVOkAAAAJ', 'YfaGeCgAAAAJ', 'sjfPhO8AAAAJ', 'GTUS5NIAAAAJ', '1hjEgQMAAAAJ', '-ZD-NLEAAAAJ', '1igRo6wAAAAJ', 'KUVFEoAAAAAJ', 'uUoVLG4AAAAJ', 'TJ_7mu0AAAAJ', 'nJN_qnwAAAAJ', 'p-UMjf4AAAAJ', 'cxprpdgAAAAJ', '4dGlBB-R_gcC', '1M3vxdIAAAAJ', '2fG35_UAAAAJ', 'noYCRZYAAAAJ', 'n0QdVaIAAAAJ', 'BuX7fMIAAAAJ', 'rjMWLhUAAAAJ', '2WPrJukAAAAJ', 'br-5wA0AAAAJ', '2J1ceKEAAAAJ', 'SX_b4ZoAAAAJ', 'BaoAeqQAAAAJ', 'MEGOo0IAAAAJ', '0q3RLnsAAAAJ', 'U8HIGyMAAAAJ', 'MVcka_gAAAAJ', 'rizDJQMAAAAJ', 'LpgYbV4AAAAJ', '7-hN3eQAAAAJ', '2FhvqcwAAAAJ', 'imFfiRgAAAAJ', 'DU16834AAAAJ', '_GrKEsoAAAAJ', 'RzGQKIQAAAAJ', 'bp8mTnAAAAAJ', 'UHymFB8AAAAJ', 'KulPjTkAAAAJ', 'xpqCLZkAAAAJ', 'geOSiaUAAAAJ', '4ACVIHcAAAAJ', 'twm9ACIAAAAJ', 'B9n3B48AAAAJ', '_sJ8ODAAAAAJ', 'IpL0A9IAAAAJ', 'CmBE6P0AAAAJ', 'VlzUek4AAAAJ', '1CQsqUMAAAAJ', 'kqpe6yAAAAAJ', 'zhCF2jEAAAAJ', 'gsraAfIAAAAJ', 'kyDL3SAAAAAJ', 'eUioNzMAAAAJ', '-yykA-wAAAAJ', 'aT8601cAAAAJ', 'KtRl6p4AAAAJ', 'YgLm4AYAAAAJ', 'BnaHPZoAAAAJ', '7Ulj9TsAAAAJ', '_fjOPpIAAAAJ', 'kYZuwnkAAAAJ', 'mTGYM4UAAAAJ', 'AiG7nxoAAAAJ', 'foLujEYAAAAJ', 'l_jlMlgAAAAJ', 'u_nJKdwAAAAJ', 'axf4nQIAAAAJ', 'b9q7XMwAAAAJ', 'eeHeiSAAAAAJ', 'bSefZ0QAAAAJ', 'Yyz18kkAAAAJ', 'HLyhUl0AAAAJ', 'h9JHa9UAAAAJ', 'kQGlhn8AAAAJ', 'updZSCsAAAAJ', 'OfNqiAkAAAAJ', '79ZdEDQAAAAJ', '21biMugAAAAJ', 'H9cEsFMAAAAJ', '2aQC6F0AAAAJ', 'KrqWYVIAAAAJ', 'rVMUIqAAAAAJ', 'rfNJugYAAAAJ', 'cHfIXcoAAAAJ', 'VJd7qJIAAAAJ', 'WVn1vmYAAAAJ', 'sGPfZdAAAAAJ', 'vXYksNwAAAAJ', '4yd0WMsAAAAJ', 'aVpZsLYAAAAJ', 'yHtsYn4AAAAJ', 'uNQO-TEAAAAJ', 'yC6QT14AAAAJ', '5RlTH9QAAAAJ', 'fH88V1MAAAAJ', 'c2gKOUAAAAAJ', 'IeARvWIAAAAJ', 'ag3m3Y8AAAAJ', 'DcX5L74AAAAJ', '7YB9YjIAAAAJ', 'TgJzuXoAAAAJ', 'Wi-XpDUAAAAJ', 'p5a85NEAAAAJ', 'czyD-dQAAAAJ', 'zJK1GZEAAAAJ', 'IEiTctgAAAAJ', 'IzF78VQAAAAJ', 'HDLlpG0AAAAJ', 'Kw0trAgAAAAJ', 'Df-D_d0AAAAJ', 'fRdadAIAAAAJ', '9lTMXdgAAAAJ', '5aHqQ-oAAAAJ', '3dBYrCQAAAAJ', 'SSYCLCAAAAAJ', 'RejMDXMAAAAJ', 'vU5UVgkAAAAJ', 'kwlikT8AAAAJ', 'FLTzQ2wAAAAJ', 'ZC7F3swAAAAJ', 'pUn34-sAAAAJ', '0o9Q9iMAAAAJ', 'LAa_xL8AAAAJ', 'Tun1Q6AAAAAJ', 'Ta6rad0AAAAJ', 'yPodzxEAAAAJ', 'OPvaBTsAAAAJ', 'i3XuX9AAAAAJ', 'aqljaoAAAAAJ', 'zfEvQpYAAAAJ', 'osI4nx4AAAAJ', '14_voi4AAAAJ', 'KewIHYkAAAAJ', 'aGktG18AAAAJ', 'qlOZnfIAAAAJ', 'C8x4AgIAAAAJ', 'HiiuFBEAAAAJ', 'MeRf8NEAAAAJ', 'rju8YWkAAAAJ', '2kIm1PIAAAAJ', '0mLOqkEAAAAJ', '_5L-GCwAAAAJ', 'FKxLjrYAAAAJ', 'C-OF4W4AAAAJ', 'zxPg3FsAAAAJ', '1HDBidIAAAAJ', 'w7k36GwAAAAJ', 'LjMRyMEAAAAJ', 'Uh4AsZsAAAAJ', 'mT0NpIMAAAAJ', 'yh74b6QAAAAJ', '7aJFkxoAAAAJ', 't0KwlnYAAAAJ', 'lXznZskAAAAJ', 'zvOAfSUAAAAJ', 'YaKAP2IAAAAJ', 'kx7jofMAAAAJ', 'DFEHgvYAAAAJ', 'FQZP634AAAAJ', 'NAk5D3gAAAAJ', 'uls7X14AAAAJ', '2B1GgsMAAAAJ', 'i_BCXOcAAAAJ', '3OgRhE4AAAAJ', 'kvpCIlgAAAAJ', 'Eh1jFTgAAAAJ', 'pShUZ_AAAAAJ', 'zUssLPAAAAAJ', 'SXkBKmQAAAAJ', 'SzERsG0AAAAJ', 'kXf0RMEAAAAJ', 'p1rKKnEAAAAJ', 'fYyeoQEAAAAJ', 'nR2uZVoAAAAJ', 'cescoF0AAAAJ', 'loC7N5oAAAAJ', '9VMmb-4AAAAJ', 'E0Tc36IAAAAJ', 'WeC1noUAAAAJ', 'e0BohkoAAAAJ', '-KCjgCAAAAAJ', 'wzUFuj0AAAAJ', 'W3NejVEAAAAJ', 'FVmFc4cAAAAJ', 'tarxeHMAAAAJ', '0amE5IIAAAAJ', 'q0WqtFYAAAAJ', 'qR_WHLAAAAAJ', 'Uo0dYc4AAAAJ', 'F9qnxRwAAAAJ', 'bx6s6HkAAAAJ', '_w4dRCkAAAAJ', 'e2ZdRRAAAAAJ', '93Uk6jkAAAAJ', 'rojwmDUAAAAJ', 'KsrWresAAAAJ', 'u5VHApsAAAAJ', 'jpOdChUAAAAJ', 'fuao-usAAAAJ', 'txLwNWAAAAAJ', 'UhhQs-0AAAAJ', 'Rs5LnMwAAAAJ', 'dUALsvsAAAAJ', 'YoUaZfoAAAAJ', 'lhB9PMkAAAAJ', 'ZWQNsmkAAAAJ', '6sQ2SMIAAAAJ', 'vTHMJ5IAAAAJ', 'OOnxtM4AAAAJ', 'Mj6ode0AAAAJ', 'TocNeCQAAAAJ', '_RosYhQAAAAJ', '0hB8rhEAAAAJ', 'zoDTw08AAAAJ', '7FtvQrUAAAAJ', 'ZhBZMBIAAAAJ', 'Xom17NoAAAAJ', 'g80sXb8AAAAJ', '1nFTrywAAAAJ', 'nk_hmfMAAAAJ', 'uqTnxVoAAAAJ', '0IEdhncAAAAJ', 'feP8JpIAAAAJ', 'Y9pEi2cAAAAJ', 'I6ydwc8AAAAJ', '6WkgCxIAAAAJ', 'fjNv9ocAAAAJ', 'Ok-IeZEAAAAJ', '2PgQdtoAAAAJ', 'VNs_FjAAAAAJ', 'X-Bk_sYAAAAJ', 'QLaIASsAAAAJ', 'EW5k1KoAAAAJ', 'BMAplnUAAAAJ', '6bnMzvkAAAAJ', '2oNs37AAAAAJ', 'liZr7uAAAAAJ', 'VbedAOAAAAAJ', '9nhDwacAAAAJ', 'TAWp5pUAAAAJ', 'Dpu5YKkAAAAJ', '7jH4xUoAAAAJ', 'UuAn8PkAAAAJ', '7xNyWWwAAAAJ', '4ZtFfAQAAAAJ', 'KkzXBpoAAAAJ', 'myoAmX4AAAAJ', 'j4JxsOYAAAAJ', 'muigDt0AAAAJ', 'TgCdHrwAAAAJ', 'qFMMIA4AAAAJ', 'nQU39QcAAAAJ', 'RWi2j4oAAAAJ', 'IeBprAEAAAAJ', 'kaFcOrsAAAAJ', 'F4z2Wy8AAAAJ', '9JOnddoAAAAJ', 'iRJClV4AAAAJ', 'MwGRnmcAAAAJ', 'aA3drcAAAAAJ', '85iKNikAAAAJ', '-Fn4q3UAAAAJ', 'XOCF-kcAAAAJ', 'R74POOYAAAAJ', 'rma1nMAAAAAJ', 'tSXyZnYAAAAJ', 'BVwm62EAAAAJ', 'ulDE0lgAAAAJ', '_8kOfLgAAAAJ', 'X5ZFFOoAAAAJ', 'ePkWZ70AAAAJ', 'ZjHRApoAAAAJ', 'wj0GymEAAAAJ', 'Pwsnq88AAAAJ', 'vVRbl4QAAAAJ', 'BOtwoawAAAAJ', 'ex4wpTwAAAAJ', 'I44HCj8AAAAJ', 'iYBmeHMAAAAJ', 'q001zfIAAAAJ', 'CjfTR3IAAAAJ', '99m1BKEAAAAJ', 'slQ6144AAAAJ', '2GuJ6xYAAAAJ', 'ILtAM_QAAAAJ', 'Q-_5IzsAAAAJ', 'EsqYcuMAAAAJ', 'uxN4jK4AAAAJ', 'QfSu45EAAAAJ', 'Jfaq9XIAAAAJ', 'enp7Y-8AAAAJ', '10dLPjQAAAAJ', '1ssZeXMAAAAJ', 'SkUNteYAAAAJ', 'zxX1JxQAAAAJ', 'BlfG03IAAAAJ', 'oDjk3yYAAAAJ', 'WlWt_x4AAAAJ', 'gU87PYYAAAAJ', 'IEM23OwAAAAJ', 'kleohpcAAAAJ', 'dUwfiwIAAAAJ', 'atiUk5IAAAAJ', 'y7BqppIAAAAJ', 'czJBYTUAAAAJ', 'hZ88OoYAAAAJ', 'xyKQ27MAAAAJ', '1-RyIJwAAAAJ', '4LghT7sAAAAJ', 'yFQP3psAAAAJ', 'LqqPQL8AAAAJ', 'qwn3dmQAAAAJ', '35vMr60AAAAJ', '8VeH-vwAAAAJ', '4XoOiJYAAAAJ', 'uhqQO68AAAAJ', 'DkiMkp4AAAAJ', 'LU306UsAAAAJ', 'foouqFMAAAAJ', 'ZeveCVEAAAAJ', 'KOsGGXoAAAAJ', '2dHOu7MAAAAJ', 'gERGluQAAAAJ', 'Fqxe0H4AAAAJ', '-u_HNwcAAAAJ', 'VGh8ZhgAAAAJ', 'LA5KyjcAAAAJ', 'rmNatEEAAAAJ', 'nHw83EoAAAAJ', '7K0_qegAAAAJ', 'w7WO4kQAAAAJ', 'dkMem0wAAAAJ', 'NBYf090AAAAJ', 'fPenDywAAAAJ', 'MlvEnWUAAAAJ', 'vMVdF18AAAAJ', 'KtbFyZ4AAAAJ', 'TFy8GjEAAAAJ', 'HGV0EhUAAAAJ', '0WwEV6UAAAAJ', 'vMgculUAAAAJ', 'S9IvUzgAAAAJ', 'G24_xtAAAAAJ', 'W7KcoEEAAAAJ', 'e6T1Q3cAAAAJ', 'XwuO-MEAAAAJ', 'WsUAJo4AAAAJ', 'ojnEOwkAAAAJ', 'owio4csAAAAJ', 'DxRpXa4AAAAJ', 'E7IxGboAAAAJ', 'HXXjXcAAAAAJ', 'MGFXHncAAAAJ', 'DVNNdPEAAAAJ', '5tM8sGAAAAAJ', 'ZVgeS8EAAAAJ', 'Nb3eTPkAAAAJ', 'BlEBxgoAAAAJ', 'rpldrEMAAAAJ', 'VaXMigIAAAAJ', 'tEmpv08AAAAJ', '-zfXSQEAAAAJ', 'zyXxA7YAAAAJ', 'ypKEd4wAAAAJ', '4ChJYaAAAAAJ', 'eAzf0UYAAAAJ', 'ukuvF4wAAAAJ', 'B8SJmjUAAAAJ', '0GiXIc4AAAAJ', 'RlY4SL0AAAAJ', '6R86juwAAAAJ', 'azstaakAAAAJ', 'hDbS-xoAAAAJ', '8I2PUnQAAAAJ', 'F_I_1PgAAAAJ', 'TBSc86sAAAAJ', '4vTV11AAAAAJ', 'nSMV6GYAAAAJ', '4E7-fhkAAAAJ', 'qid72ksAAAAJ', 'TluIingAAAAJ', '-USGVcwAAAAJ', 'vcHH6b0AAAAJ', 'NHnDxy8AAAAJ', 'P01V9CsAAAAJ', 'pIkLx0AAAAAJ', 'b2chrP8AAAAJ', 'WO-nzWYAAAAJ', 'iNy2TvAAAAAJ', 'QSW-_NQAAAAJ', 'S_QpoHAAAAAJ', '8jc5VdkAAAAJ', 'PS7QUowAAAAJ', 'WXoVKVUAAAAJ', 'uLte1MUAAAAJ', 'iqjDFv8AAAAJ', '8mYOA0cAAAAJ', '5jbBg7kAAAAJ', 'I73FZzkAAAAJ', 'zi5hOXEAAAAJ', 'Hcovdv0AAAAJ', 'eIbP8lgAAAAJ', 'j3zpnIcAAAAJ', 'ZknCqFMAAAAJ', 'RJLXOPAAAAAJ', 'dwcds8QAAAAJ', 'NtIO644AAAAJ', '7D2i-ZEAAAAJ', '9m0lmAoAAAAJ', '_rqaiikAAAAJ', 'Jp-fPcQAAAAJ', 'Uq7IgL4AAAAJ', 'qydABoEAAAAJ', 'AIjvyAcAAAAJ', 'ZYy5ZI4AAAAJ', '2iuBBdkAAAAJ', 'B7YMt_gAAAAJ', 'PwCujoQAAAAJ', 'xCblSW4AAAAJ', 'gyApQjAAAAAJ', 'suk98wcAAAAJ', 'hrtH-v0AAAAJ', 'Pio5DE4AAAAJ', 'Jl2oyPYAAAAJ', 'QaaTeLwAAAAJ', 'neYn818AAAAJ', 'z-tmKsoAAAAJ', 'txBxVf0AAAAJ', 'dQHoN6QAAAAJ', 'IlC6UDgAAAAJ', 'gcSsFTYAAAAJ', 'NyS7CS4AAAAJ', '4u-6msYAAAAJ', 'ZadOywEAAAAJ', 'OKa5C7wAAAAJ', '8n9a2LgAAAAJ', 'EfDuV14AAAAJ', 'hDypw3YAAAAJ', 'wGnSZJwAAAAJ', 'caCUXf8AAAAJ', 'hI4th5oAAAAJ', '_84xIL4AAAAJ', 'Hs78314AAAAJ', 'UvjG8nMAAAAJ', '1GyQUjcAAAAJ', 'tN8KFEcAAAAJ', 'A66xQuoAAAAJ', 're-lKQkAAAAJ', 'Mqm322AAAAAJ', 'CBAsXsoAAAAJ', 'kOkMZIAAAAAJ', 'LTb_MRgAAAAJ', '9Q6opvIAAAAJ', 'uHGneD4AAAAJ', 'cIdDdO8AAAAJ', '1MyoEYUAAAAJ', '2nGhFd8AAAAJ', 'bGslovEAAAAJ', 'JL6r9ZwAAAAJ', 'gVx6RSAAAAAJ', 'cTG6xuAAAAAJ', 'C7PChwwAAAAJ', 'PH_FM6MAAAAJ', 'Lu-xwU0AAAAJ', 'KXWo76kAAAAJ', '-TQtt8sAAAAJ', '1SeaSToAAAAJ', 'Cv5hDmMAAAAJ', 'Gu2Xl6MAAAAJ', 'v7ysz-gAAAAJ', 'iyUq-uYAAAAJ', 'WC4ZyP4AAAAJ', '9lj7IpgAAAAJ', 'LdeXEiwAAAAJ', 'eF6NJccAAAAJ', '2Ve3WmsAAAAJ', '8lnCwScAAAAJ', 'O4tGs84AAAAJ', 'S09wcV0AAAAJ', 'w_ksif4AAAAJ', 'gOhf1pUAAAAJ', 'lCC9C1IAAAAJ', 'ZOuKud4AAAAJ', 'TPokrvgAAAAJ', 'kB1K2McAAAAJ', 'qs851uMAAAAJ']\n"
     ]
    }
   ],
   "source": [
    "#generate in code using user input\n",
    "input_obj = dict()\n",
    "input_obj['query_string'] = 'data mining'\n",
    "input_obj['active_yr'] = 5\n",
    "input_obj['active_score'] = 5\n",
    "input_obj['hindex_score'] = 5\n",
    "input_obj['slope_score'] = 5\n",
    "input_obj['insti_score'] = 10\n",
    "\n",
    "print(query_subject(input_obj))"
   ]
  },
  {
   "cell_type": "code",
   "execution_count": 22,
   "metadata": {
    "ExecuteTime": {
     "end_time": "2021-04-30T17:05:05.692397Z",
     "start_time": "2021-04-30T17:04:41.699Z"
    }
   },
   "outputs": [],
   "source": [
    "#old code\n",
    "\n",
    "# query=\"data mining\"\n",
    "# query = process_string(query)\n",
    "# cnt_matrix_query = loaded_cnt_vct.transform([query])\n",
    "# cnt_matrix_query = csr_matrix.transpose(cnt_matrix_query)\n",
    "\n",
    "# result = loaded_tfidf_new_matrix * cnt_matrix_query\n",
    "# result = csr_matrix.transpose(result)\n",
    "# result = result.toarray()[0]\n",
    "# related_docs_indices = result.argsort()\n",
    "# related_docs_indices = related_docs_indices[::-1]\n",
    "# related_results = [loaded_docID[i] for i in related_docs_indices]"
   ]
  }
 ],
 "metadata": {
  "kernelspec": {
   "display_name": "Python 3",
   "language": "python",
   "name": "python3"
  },
  "language_info": {
   "codemirror_mode": {
    "name": "ipython",
    "version": 3
   },
   "file_extension": ".py",
   "mimetype": "text/x-python",
   "name": "python",
   "nbconvert_exporter": "python",
   "pygments_lexer": "ipython3",
   "version": "3.8.8"
  },
  "toc": {
   "base_numbering": 1,
   "nav_menu": {},
   "number_sections": true,
   "sideBar": true,
   "skip_h1_title": false,
   "title_cell": "Table of Contents",
   "title_sidebar": "Contents",
   "toc_cell": false,
   "toc_position": {},
   "toc_section_display": true,
   "toc_window_display": false
  },
  "varInspector": {
   "cols": {
    "lenName": 16,
    "lenType": 16,
    "lenVar": 40
   },
   "kernels_config": {
    "python": {
     "delete_cmd_postfix": "",
     "delete_cmd_prefix": "del ",
     "library": "var_list.py",
     "varRefreshCmd": "print(var_dic_list())"
    },
    "r": {
     "delete_cmd_postfix": ") ",
     "delete_cmd_prefix": "rm(",
     "library": "var_list.r",
     "varRefreshCmd": "cat(var_dic_list()) "
    }
   },
   "types_to_exclude": [
    "module",
    "function",
    "builtin_function_or_method",
    "instance",
    "_Feature"
   ],
   "window_display": false
  }
 },
 "nbformat": 4,
 "nbformat_minor": 4
}
